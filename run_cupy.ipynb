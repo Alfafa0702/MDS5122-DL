{
 "cells": [
  {
   "cell_type": "code",
   "execution_count": 1,
   "id": "64e63abf",
   "metadata": {
    "_cell_guid": "b1076dfc-b9ad-4769-8c92-a6c4dae69d19",
    "_uuid": "8f2839f25d086af736a60e9eeb907d3b93b6e0e5",
    "execution": {
     "iopub.execute_input": "2025-03-14T15:32:38.164389Z",
     "iopub.status.busy": "2025-03-14T15:32:38.164112Z",
     "iopub.status.idle": "2025-03-14T15:32:38.849409Z",
     "shell.execute_reply": "2025-03-14T15:32:38.848290Z"
    },
    "papermill": {
     "duration": 0.689524,
     "end_time": "2025-03-14T15:32:38.851070",
     "exception": false,
     "start_time": "2025-03-14T15:32:38.161546",
     "status": "completed"
    },
    "tags": []
   },
   "outputs": [
    {
     "name": "stdout",
     "output_type": "stream",
     "text": [
      "/kaggle/input/dl-hw1-cupy/Ass1/Example-Code-PartB.ipynb\n",
      "/kaggle/input/dl-hw1-cupy/Ass1/mcp.json\n",
      "/kaggle/input/dl-hw1-cupy/Ass1/README.md\n",
      "/kaggle/input/dl-hw1-cupy/Ass1/explain.md\n",
      "/kaggle/input/dl-hw1-cupy/Ass1/dl-hw1.ipynb\n",
      "/kaggle/input/dl-hw1-cupy/Ass1/ResNet.ipynb\n",
      "/kaggle/input/dl-hw1-cupy/Ass1/variant5_cupy.py\n",
      "/kaggle/input/dl-hw1-cupy/Ass1/Assignment1.pdf\n",
      "/kaggle/input/dl-hw1-cupy/Ass1/Example-Code-PartA.ipynb\n",
      "/kaggle/input/dl-hw1-cupy/Ass1/dl-hw1-B.ipynb\n",
      "/kaggle/input/dl-hw1-cupy/Ass1/train_and_visualize.py\n"
     ]
    }
   ],
   "source": [
    "# This Python 3 environment comes with many helpful analytics libraries installed\n",
    "# It is defined by the kaggle/python Docker image: https://github.com/kaggle/docker-python\n",
    "# For example, here's several helpful packages to load\n",
    "\n",
    "import numpy as np # linear algebra\n",
    "import pandas as pd # data processing, CSV file I/O (e.g. pd.read_csv)\n",
    "\n",
    "# Input data files are available in the read-only \"../input/\" directory\n",
    "# For example, running this (by clicking run or pressing Shift+Enter) will list all files under the input directory\n",
    "\n",
    "import os\n",
    "for dirname, _, filenames in os.walk('/kaggle/input'):\n",
    "    for filename in filenames:\n",
    "        print(os.path.join(dirname, filename))\n",
    "\n",
    "# You can write up to 20GB to the current directory (/kaggle/working/) that gets preserved as output when you create a version using \"Save & Run All\" \n",
    "# You can also write temporary files to /kaggle/temp/, but they won't be saved outside of the current session"
   ]
  },
  {
   "cell_type": "code",
   "execution_count": 2,
   "id": "f2f8596b",
   "metadata": {
    "execution": {
     "iopub.execute_input": "2025-03-14T15:32:38.854988Z",
     "iopub.status.busy": "2025-03-14T15:32:38.854673Z",
     "iopub.status.idle": "2025-03-14T15:32:54.434905Z",
     "shell.execute_reply": "2025-03-14T15:32:54.433921Z"
    },
    "papermill": {
     "duration": 15.583682,
     "end_time": "2025-03-14T15:32:54.436506",
     "exception": false,
     "start_time": "2025-03-14T15:32:38.852824",
     "status": "completed"
    },
    "tags": []
   },
   "outputs": [
    {
     "name": "stdout",
     "output_type": "stream",
     "text": [
      "Downloading https://www.cs.toronto.edu/~kriz/cifar-10-python.tar.gz to ./data/cifar-10-python.tar.gz\r\n",
      "100%|████████████████████████████████████████| 170M/170M [00:02<00:00, 84.2MB/s]\r\n",
      "Extracting ./data/cifar-10-python.tar.gz to ./data\r\n",
      "Files already downloaded and verified\r\n",
      "Traceback (most recent call last):\r\n",
      "  File \"/kaggle/input/dl-hw1-cupy/Ass1/variant5_cupy.py\", line 237, in <module>\r\n",
      "    main()\r\n",
      "  File \"/kaggle/input/dl-hw1-cupy/Ass1/variant5_cupy.py\", line 201, in main\r\n",
      "    model = build_variant4_model()  # 使用相同的模型架构\r\n",
      "NameError: name 'build_variant4_model' is not defined\r\n"
     ]
    }
   ],
   "source": [
    "!python /kaggle/input/dl-hw1-cupy/Ass1/variant5_cupy.py"
   ]
  }
 ],
 "metadata": {
  "kaggle": {
   "accelerator": "nvidiaTeslaT4",
   "dataSources": [
    {
     "datasetId": 6870860,
     "sourceId": 11031907,
     "sourceType": "datasetVersion"
    }
   ],
   "dockerImageVersionId": 30918,
   "isGpuEnabled": true,
   "isInternetEnabled": true,
   "language": "python",
   "sourceType": "notebook"
  },
  "kernelspec": {
   "display_name": "Python 3",
   "language": "python",
   "name": "python3"
  },
  "language_info": {
   "codemirror_mode": {
    "name": "ipython",
    "version": 3
   },
   "file_extension": ".py",
   "mimetype": "text/x-python",
   "name": "python",
   "nbconvert_exporter": "python",
   "pygments_lexer": "ipython3",
   "version": "3.10.12"
  },
  "papermill": {
   "default_parameters": {},
   "duration": 19.220686,
   "end_time": "2025-03-14T15:32:54.856295",
   "environment_variables": {},
   "exception": null,
   "input_path": "__notebook__.ipynb",
   "output_path": "__notebook__.ipynb",
   "parameters": {},
   "start_time": "2025-03-14T15:32:35.635609",
   "version": "2.6.0"
  }
 },
 "nbformat": 4,
 "nbformat_minor": 5
}
