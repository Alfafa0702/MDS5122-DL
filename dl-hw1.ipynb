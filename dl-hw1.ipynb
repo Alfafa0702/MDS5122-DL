{
 "cells": [
  {
   "cell_type": "markdown",
   "id": "ad0d639e",
   "metadata": {
    "papermill": {
     "duration": 0.008036,
     "end_time": "2025-03-13T03:25:52.161954",
     "exception": false,
     "start_time": "2025-03-13T03:25:52.153918",
     "status": "completed"
    },
    "tags": []
   },
   "source": [
    "# Assignment 1 - Code Example - Part A\n",
    "\n",
    "This code baseline is inspired by and modified from [this great tutorial](https://pytorch.org/tutorials/beginner/blitz/cifar10_tutorial.html).\n",
    "\n",
    "This code can achieve an accuracy of approximately 86.50% on CIFAR-10. Please set up the environment and run your experiments starting from this baseline. You are expected to achieve an accuracy higher than this baseline."
   ]
  },
  {
   "cell_type": "code",
   "execution_count": 1,
   "id": "a91535a7",
   "metadata": {
    "collapsed": false,
    "execution": {
     "iopub.execute_input": "2025-03-13T03:25:52.177525Z",
     "iopub.status.busy": "2025-03-13T03:25:52.177264Z",
     "iopub.status.idle": "2025-03-13T03:25:59.198054Z",
     "shell.execute_reply": "2025-03-13T03:25:59.197360Z"
    },
    "jupyter": {
     "outputs_hidden": false
    },
    "papermill": {
     "duration": 7.029862,
     "end_time": "2025-03-13T03:25:59.199392",
     "exception": false,
     "start_time": "2025-03-13T03:25:52.169530",
     "status": "completed"
    },
    "tags": []
   },
   "outputs": [],
   "source": [
    "# import some necessary packages\n",
    "#!pip3 install torch torchvision torchaudio --index-url https://download.pytorch.org/whl/cu121\n",
    "import torch\n",
    "import torch.nn as nn\n",
    "import torch.optim as optim\n",
    "\n",
    "import torchvision.datasets as tv_datasets\n",
    "import torchvision.transforms as tv_transforms\n",
    "import matplotlib.pyplot as plt"
   ]
  },
  {
   "cell_type": "code",
   "execution_count": 2,
   "id": "e084d9a4",
   "metadata": {
    "execution": {
     "iopub.execute_input": "2025-03-13T03:25:59.215173Z",
     "iopub.status.busy": "2025-03-13T03:25:59.214827Z",
     "iopub.status.idle": "2025-03-13T03:25:59.299888Z",
     "shell.execute_reply": "2025-03-13T03:25:59.298933Z"
    },
    "papermill": {
     "duration": 0.094244,
     "end_time": "2025-03-13T03:25:59.301262",
     "exception": false,
     "start_time": "2025-03-13T03:25:59.207018",
     "status": "completed"
    },
    "tags": []
   },
   "outputs": [
    {
     "name": "stdout",
     "output_type": "stream",
     "text": [
      "CUDA Version: 12.1\n",
      "CUDA Device: Tesla P100-PCIE-16GB\n",
      "PyTorch Version: 2.5.1+cu121\n",
      "torchvision Version: 0.20.1+cu121\n"
     ]
    }
   ],
   "source": [
    "if torch.cuda.is_available():\n",
    "    print(\"CUDA Version:\", torch.version.cuda)\n",
    "    print(\"CUDA Device:\", torch.cuda.get_device_name(0))\n",
    "else:\n",
    "    print(\"CUDA is not available.\")\n",
    "\n",
    "print(f\"PyTorch Version: {torch.__version__}\")\n",
    "import torchvision\n",
    "print(f\"torchvision Version: {torchvision.__version__}\")"
   ]
  },
  {
   "cell_type": "markdown",
   "id": "d35f9d5d",
   "metadata": {
    "papermill": {
     "duration": 0.007187,
     "end_time": "2025-03-13T03:25:59.316157",
     "exception": false,
     "start_time": "2025-03-13T03:25:59.308970",
     "status": "completed"
    },
    "tags": []
   },
   "source": [
    "## 1. Baseline Model\n",
    "### 1.1 Settings"
   ]
  },
  {
   "cell_type": "code",
   "execution_count": 3,
   "id": "d7d8ba50",
   "metadata": {
    "execution": {
     "iopub.execute_input": "2025-03-13T03:25:59.331580Z",
     "iopub.status.busy": "2025-03-13T03:25:59.331320Z",
     "iopub.status.idle": "2025-03-13T03:25:59.334238Z",
     "shell.execute_reply": "2025-03-13T03:25:59.333624Z"
    },
    "papermill": {
     "duration": 0.011883,
     "end_time": "2025-03-13T03:25:59.335301",
     "exception": false,
     "start_time": "2025-03-13T03:25:59.323418",
     "status": "completed"
    },
    "tags": []
   },
   "outputs": [],
   "source": [
    "# # some experimental setup\n",
    "# device = torch.device(\"cuda:0\" if torch.cuda.is_available() else \"cpu\")\n",
    "\n",
    "# num_epochs = 128\n",
    "# batch_size = 64\n",
    "# print_every = 200\n",
    "\n",
    "# optim_name = \"Adam\"\n",
    "# optim_kwargs = dict(\n",
    "#     lr=3e-4,\n",
    "#     weight_decay=1e-6,\n",
    "# )"
   ]
  },
  {
   "cell_type": "code",
   "execution_count": 4,
   "id": "d4d69aa4",
   "metadata": {
    "collapsed": false,
    "execution": {
     "iopub.execute_input": "2025-03-13T03:25:59.350583Z",
     "iopub.status.busy": "2025-03-13T03:25:59.350347Z",
     "iopub.status.idle": "2025-03-13T03:25:59.353540Z",
     "shell.execute_reply": "2025-03-13T03:25:59.352755Z"
    },
    "jupyter": {
     "outputs_hidden": false
    },
    "papermill": {
     "duration": 0.012146,
     "end_time": "2025-03-13T03:25:59.354784",
     "exception": false,
     "start_time": "2025-03-13T03:25:59.342638",
     "status": "completed"
    },
    "tags": []
   },
   "outputs": [],
   "source": [
    "# # prepare datasets\n",
    "# # preprocessing pipeline for input images\n",
    "# transformation = dict()\n",
    "# for data_type in (\"train\", \"test\"):\n",
    "#     is_train = data_type==\"train\"\n",
    "#     transformation[data_type] = tv_transforms.Compose(([\n",
    "#         tv_transforms.RandomRotation(degrees=15),\n",
    "#         tv_transforms.RandomHorizontalFlip(),\n",
    "#         tv_transforms.RandomAffine(degrees=0, translate=(0.1, 0.1)),\n",
    "#     ] if is_train else []) + \n",
    "#     [\n",
    "#         tv_transforms.ToTensor(),\n",
    "#         tv_transforms.Normalize(mean=[0.5, 0.5, 0.5], std=[0.5, 0.5, 0.5]),\n",
    "#     ])\n",
    "    \n",
    "# num_workers = 2\n",
    "# dataset, loader = {}, {}\n",
    "# for data_type in (\"train\", \"test\"):\n",
    "#     is_train = data_type==\"train\"\n",
    "#     dataset[data_type] = tv_datasets.CIFAR10(\n",
    "#         root=\"./data\", train=is_train, download=True, transform=transformation[data_type],\n",
    "#     )\n",
    "#     loader[data_type] = torch.utils.data.DataLoader(\n",
    "#         dataset[data_type], batch_size=batch_size, shuffle=is_train, num_workers=num_workers,\n",
    "#     )\n"
   ]
  },
  {
   "cell_type": "code",
   "execution_count": 5,
   "id": "9f31779e",
   "metadata": {
    "collapsed": false,
    "execution": {
     "iopub.execute_input": "2025-03-13T03:25:59.370370Z",
     "iopub.status.busy": "2025-03-13T03:25:59.370179Z",
     "iopub.status.idle": "2025-03-13T03:25:59.372974Z",
     "shell.execute_reply": "2025-03-13T03:25:59.372342Z"
    },
    "jupyter": {
     "outputs_hidden": false
    },
    "papermill": {
     "duration": 0.011788,
     "end_time": "2025-03-13T03:25:59.374080",
     "exception": false,
     "start_time": "2025-03-13T03:25:59.362292",
     "status": "completed"
    },
    "tags": []
   },
   "outputs": [],
   "source": [
    "# # our network architecture\n",
    "# net = nn.Sequential(\n",
    "#     nn.Conv2d(3, 128, 3, padding=1), nn.ReLU(inplace=True), nn.MaxPool2d(2), nn.Dropout(0.3),\n",
    "#     nn.Conv2d(128, 256, 3, padding=1), nn.ReLU(inplace=True), nn.MaxPool2d(2), nn.Dropout(0.3),\n",
    "#     nn.Conv2d(256, 512, 3, padding=1), nn.ReLU(inplace=True),\n",
    "#     nn.Conv2d(512, 512, 3, padding=1), nn.ReLU(inplace=True),\n",
    "#     nn.Conv2d(512, 256, 3, padding=1), nn.ReLU(inplace=True), nn.MaxPool2d(2), nn.Dropout(0.3),\n",
    "#     nn.Flatten(),\n",
    "#     nn.Linear(256 * 4 * 4, 512), nn.ReLU(inplace=True), nn.Dropout(0.5),\n",
    "#     nn.Linear(512, 256), nn.ReLU(inplace=True), nn.Dropout(0.5),\n",
    "#     nn.Linear(256, 128), nn.ReLU(inplace=True), nn.Dropout(0.5),\n",
    "#     nn.Linear(128, 10),\n",
    "# )\n",
    "\n",
    "# # move to device\n",
    "# net.to(device)\n",
    "\n",
    "# # print the number of parameters\n",
    "# print(f\"number of parameters: {sum(p.numel() for p in net.parameters() if p.requires_grad) / 1_000_000:.2f}M\")"
   ]
  },
  {
   "cell_type": "markdown",
   "id": "a703d189",
   "metadata": {
    "papermill": {
     "duration": 0.007174,
     "end_time": "2025-03-13T03:25:59.388964",
     "exception": false,
     "start_time": "2025-03-13T03:25:59.381790",
     "status": "completed"
    },
    "tags": []
   },
   "source": [
    "### 1.2 Start Training"
   ]
  },
  {
   "cell_type": "code",
   "execution_count": 6,
   "id": "71a38c70",
   "metadata": {
    "execution": {
     "iopub.execute_input": "2025-03-13T03:25:59.404108Z",
     "iopub.status.busy": "2025-03-13T03:25:59.403907Z",
     "iopub.status.idle": "2025-03-13T03:25:59.406864Z",
     "shell.execute_reply": "2025-03-13T03:25:59.406207Z"
    },
    "papermill": {
     "duration": 0.01189,
     "end_time": "2025-03-13T03:25:59.408039",
     "exception": false,
     "start_time": "2025-03-13T03:25:59.396149",
     "status": "completed"
    },
    "tags": []
   },
   "outputs": [],
   "source": [
    "# # the network optimizer\n",
    "# optimizer = getattr(optim, optim_name)(net.parameters(), **optim_kwargs)\n",
    "\n",
    "# # loss function\n",
    "# criterion = nn.CrossEntropyLoss()\n",
    "\n",
    "# # training loop\n",
    "# net.train()\n",
    "# for epoch in range(num_epochs):\n",
    "\n",
    "#     running_loss = 0.0\n",
    "#     for i, (img, target) in enumerate(loader[\"train\"]):\n",
    "#         img, target = img.to(device), target.to(device)\n",
    "\n",
    "#         pred = net(img)\n",
    "#         loss = criterion(pred, target)\n",
    "\n",
    "#         optimizer.zero_grad()\n",
    "#         loss.backward()\n",
    "#         optimizer.step()\n",
    "\n",
    "#         # print statistics\n",
    "#         running_loss += loss.item()\n",
    "#         if i % print_every == print_every - 1:\n",
    "#             print(f\"[epoch={epoch + 1:3d}, iter={i + 1:5d}] loss: {running_loss / print_every:.3f}\")\n",
    "#             running_loss = 0.0\n",
    "\n",
    "# print(\"Finished Training\")"
   ]
  },
  {
   "cell_type": "markdown",
   "id": "6872dc7c",
   "metadata": {
    "papermill": {
     "duration": 0.007199,
     "end_time": "2025-03-13T03:25:59.422588",
     "exception": false,
     "start_time": "2025-03-13T03:25:59.415389",
     "status": "completed"
    },
    "tags": []
   },
   "source": [
    "### 1.3 Evaluating its accuracy"
   ]
  },
  {
   "cell_type": "code",
   "execution_count": 7,
   "id": "e22d8ef4",
   "metadata": {
    "collapsed": false,
    "execution": {
     "iopub.execute_input": "2025-03-13T03:25:59.437714Z",
     "iopub.status.busy": "2025-03-13T03:25:59.437512Z",
     "iopub.status.idle": "2025-03-13T03:25:59.440049Z",
     "shell.execute_reply": "2025-03-13T03:25:59.439485Z"
    },
    "jupyter": {
     "outputs_hidden": false
    },
    "papermill": {
     "duration": 0.011325,
     "end_time": "2025-03-13T03:25:59.441108",
     "exception": false,
     "start_time": "2025-03-13T03:25:59.429783",
     "status": "completed"
    },
    "tags": []
   },
   "outputs": [],
   "source": [
    "# net.eval()\n",
    "# correct, total = 0, 0\n",
    "# with torch.no_grad():\n",
    "#     for img, target in loader[\"test\"]:\n",
    "#         img, target = img.to(device), target.to(device)\n",
    "        \n",
    "#         # make prediction\n",
    "#         pred = net(img)\n",
    "        \n",
    "#         # accumulate\n",
    "#         total += len(target)\n",
    "#         correct += (torch.argmax(pred, dim=1) == target).sum().item()\n",
    "\n",
    "# print(f\"Accuracy of the network on the {total} test images: {100 * correct / total:.2f}%\")"
   ]
  },
  {
   "cell_type": "markdown",
   "id": "a6fdc99f",
   "metadata": {
    "papermill": {
     "duration": 0.007121,
     "end_time": "2025-03-13T03:25:59.455718",
     "exception": false,
     "start_time": "2025-03-13T03:25:59.448597",
     "status": "completed"
    },
    "tags": []
   },
   "source": [
    "## 2. Variant 1\n",
    "Adding batchnorm dropping the dropout layers in conv blocks, and decreasing the dropout ratio in linear layers.  \n",
    "Time consuming: 50m   \n",
    "last loss: 0.033   \n",
    "Test acc: 89.31%"
   ]
  },
  {
   "cell_type": "code",
   "execution_count": 8,
   "id": "917e1730",
   "metadata": {
    "execution": {
     "iopub.execute_input": "2025-03-13T03:25:59.470932Z",
     "iopub.status.busy": "2025-03-13T03:25:59.470707Z",
     "iopub.status.idle": "2025-03-13T03:25:59.473583Z",
     "shell.execute_reply": "2025-03-13T03:25:59.472825Z"
    },
    "papermill": {
     "duration": 0.011903,
     "end_time": "2025-03-13T03:25:59.474897",
     "exception": false,
     "start_time": "2025-03-13T03:25:59.462994",
     "status": "completed"
    },
    "tags": []
   },
   "outputs": [],
   "source": [
    "# # some experimental setup\n",
    "# device = torch.device(\"cuda:0\" if torch.cuda.is_available() else \"cpu\")\n",
    "\n",
    "# num_epochs = 128\n",
    "# batch_size = 64\n",
    "# print_every = 200\n",
    "\n",
    "# optim_name = \"Adam\"\n",
    "# optim_kwargs = dict(\n",
    "#     lr=3e-4,\n",
    "#     weight_decay=1e-6,\n",
    "# )"
   ]
  },
  {
   "cell_type": "code",
   "execution_count": 9,
   "id": "861b1f09",
   "metadata": {
    "collapsed": false,
    "execution": {
     "iopub.execute_input": "2025-03-13T03:25:59.489987Z",
     "iopub.status.busy": "2025-03-13T03:25:59.489788Z",
     "iopub.status.idle": "2025-03-13T03:25:59.492733Z",
     "shell.execute_reply": "2025-03-13T03:25:59.492086Z"
    },
    "jupyter": {
     "outputs_hidden": false
    },
    "papermill": {
     "duration": 0.011827,
     "end_time": "2025-03-13T03:25:59.493956",
     "exception": false,
     "start_time": "2025-03-13T03:25:59.482129",
     "status": "completed"
    },
    "tags": []
   },
   "outputs": [],
   "source": [
    "# # prepare datasets\n",
    "# # preprocessing pipeline for input images\n",
    "# transformation = dict()\n",
    "# for data_type in (\"train\", \"test\"):\n",
    "#     is_train = data_type==\"train\"\n",
    "#     transformation[data_type] = tv_transforms.Compose(([\n",
    "#         tv_transforms.RandomRotation(degrees=15),\n",
    "#         tv_transforms.RandomHorizontalFlip(),\n",
    "#         tv_transforms.RandomAffine(degrees=0, translate=(0.1, 0.1)),\n",
    "#     ] if is_train else []) + \n",
    "#     [\n",
    "#         tv_transforms.ToTensor(),\n",
    "#         tv_transforms.Normalize(mean=[0.5, 0.5, 0.5], std=[0.5, 0.5, 0.5]),\n",
    "#     ])\n",
    "    \n",
    "# num_workers = 2\n",
    "# dataset, loader = {}, {}\n",
    "# for data_type in (\"train\", \"test\"):\n",
    "#     is_train = data_type==\"train\"\n",
    "#     dataset[data_type] = tv_datasets.CIFAR10(\n",
    "#         root=\"./data\", train=is_train, download=True, transform=transformation[data_type],\n",
    "#     )\n",
    "#     loader[data_type] = torch.utils.data.DataLoader(\n",
    "#         dataset[data_type], batch_size=batch_size, shuffle=is_train, num_workers=num_workers,\n",
    "#     )\n"
   ]
  },
  {
   "cell_type": "code",
   "execution_count": 10,
   "id": "6c86f574",
   "metadata": {
    "collapsed": false,
    "execution": {
     "iopub.execute_input": "2025-03-13T03:25:59.509213Z",
     "iopub.status.busy": "2025-03-13T03:25:59.509021Z",
     "iopub.status.idle": "2025-03-13T03:25:59.511837Z",
     "shell.execute_reply": "2025-03-13T03:25:59.511230Z"
    },
    "jupyter": {
     "outputs_hidden": false
    },
    "papermill": {
     "duration": 0.011631,
     "end_time": "2025-03-13T03:25:59.512914",
     "exception": false,
     "start_time": "2025-03-13T03:25:59.501283",
     "status": "completed"
    },
    "tags": []
   },
   "outputs": [],
   "source": [
    "# # our network architecture\n",
    "# net = nn.Sequential(\n",
    "#     nn.Conv2d(3, 128, 3, padding=1), nn.ReLU(inplace=True), nn.MaxPool2d(2),nn.BatchNorm2d(128),\n",
    "#     nn.Conv2d(128, 256, 3, padding=1), nn.ReLU(inplace=True), nn.MaxPool2d(2),nn.BatchNorm2d(256),\n",
    "#     nn.Conv2d(256, 512, 3, padding=1), nn.ReLU(inplace=True),nn.BatchNorm2d(512),\n",
    "#     nn.Conv2d(512, 512, 3, padding=1), nn.ReLU(inplace=True),nn.BatchNorm2d(512),\n",
    "#     nn.Conv2d(512, 256, 3, padding=1), nn.ReLU(inplace=True), nn.MaxPool2d(2),nn.BatchNorm2d(256),\n",
    "#     nn.Flatten(),\n",
    "#     nn.Linear(256 * 4 * 4, 512), nn.ReLU(inplace=True), nn.Dropout(0.3),nn.BatchNorm1d(512),\n",
    "#     nn.Linear(512, 256), nn.ReLU(inplace=True), nn.Dropout(0.3),nn.BatchNorm1d(256),\n",
    "#     nn.Linear(256, 128), nn.ReLU(inplace=True), nn.Dropout(0.3),nn.BatchNorm1d(128),\n",
    "#     nn.Linear(128, 10),\n",
    "# )\n",
    "\n",
    "# # move to device\n",
    "# net.to(device)\n",
    "\n",
    "# # print the number of parameters\n",
    "# print(f\"number of parameters: {sum(p.numel() for p in net.parameters() if p.requires_grad) / 1_000_000:.2f}M\")"
   ]
  },
  {
   "cell_type": "code",
   "execution_count": 11,
   "id": "3b1a2de3",
   "metadata": {
    "execution": {
     "iopub.execute_input": "2025-03-13T03:25:59.528228Z",
     "iopub.status.busy": "2025-03-13T03:25:59.528037Z",
     "iopub.status.idle": "2025-03-13T03:25:59.531048Z",
     "shell.execute_reply": "2025-03-13T03:25:59.530489Z"
    },
    "papermill": {
     "duration": 0.012037,
     "end_time": "2025-03-13T03:25:59.532247",
     "exception": false,
     "start_time": "2025-03-13T03:25:59.520210",
     "status": "completed"
    },
    "tags": []
   },
   "outputs": [],
   "source": [
    "# # the network optimizer\n",
    "# optimizer = getattr(optim, optim_name)(net.parameters(), **optim_kwargs)\n",
    "\n",
    "# # loss function\n",
    "# criterion = nn.CrossEntropyLoss()\n",
    "\n",
    "# # 训练循环\n",
    "# losses = []\n",
    "# accuracies = []\n",
    "# test_losses = []\n",
    "\n",
    "# for epoch in range(num_epochs):\n",
    "#     # 训练阶段\n",
    "#     net.train()\n",
    "#     running_loss = 0.0\n",
    "#     for i, (img, target) in enumerate(loader[\"train\"]):\n",
    "#         img, target = img.to(device), target.to(device)\n",
    "        \n",
    "#         pred = net(img)\n",
    "#         loss = criterion(pred, target)\n",
    "        \n",
    "#         optimizer.zero_grad()\n",
    "#         loss.backward()\n",
    "#         optimizer.step()\n",
    "        \n",
    "#         running_loss += loss.item()\n",
    "        \n",
    "#         if i % print_every == print_every - 1:\n",
    "#             print(f\"[epoch={epoch + 1:3d}, iter={i + 1:5d}] training loss: {running_loss / print_every:.3f}\")\n",
    "#             running_loss = 0.0\n",
    "    \n",
    "#     # 每个epoch结束后进行一次评估\n",
    "#     net.eval()\n",
    "#     test_loss = 0.0\n",
    "#     correct = 0\n",
    "#     total = 0\n",
    "    \n",
    "#     with torch.no_grad():\n",
    "#         for img, target in loader[\"test\"]:\n",
    "#             img, target = img.to(device), target.to(device)\n",
    "            \n",
    "#             pred = net(img)\n",
    "#             loss = criterion(pred, target)\n",
    "            \n",
    "#             test_loss += loss.item()\n",
    "#             total += len(target)\n",
    "#             correct += (torch.argmax(pred, dim=1) == target).sum().item()\n",
    "    \n",
    "#     # 计算平均损失和准确率\n",
    "#     avg_test_loss = test_loss / len(loader[\"test\"])\n",
    "#     accuracy = correct / total\n",
    "    \n",
    "#     # 记录结果\n",
    "#     losses.append(running_loss / print_every)\n",
    "#     accuracies.append(accuracy)\n",
    "#     test_losses.append(avg_test_loss)\n",
    "    \n",
    "#     print(f\"Epoch {epoch + 1}: Test Loss: {avg_test_loss:.3f}, Accuracy: {100 * accuracy:.2f}%\")\n",
    "\n",
    "# print(\"Finished Training\")"
   ]
  },
  {
   "cell_type": "code",
   "execution_count": 12,
   "id": "0d5c138c",
   "metadata": {
    "execution": {
     "iopub.execute_input": "2025-03-13T03:25:59.548888Z",
     "iopub.status.busy": "2025-03-13T03:25:59.548696Z",
     "iopub.status.idle": "2025-03-13T03:25:59.551507Z",
     "shell.execute_reply": "2025-03-13T03:25:59.550962Z"
    },
    "papermill": {
     "duration": 0.011913,
     "end_time": "2025-03-13T03:25:59.552638",
     "exception": false,
     "start_time": "2025-03-13T03:25:59.540725",
     "status": "completed"
    },
    "tags": []
   },
   "outputs": [],
   "source": [
    "# import pandas as pd\n",
    "# import matplotlib.pyplot as plt\n",
    "\n",
    "# results_df = pd.DataFrame({\n",
    "#     'Epoch': range(1, num_epochs + 1),\n",
    "#     'Training Loss': losses,\n",
    "#     'Test Loss': test_losses,\n",
    "#     'Test Accuracy': accuracies\n",
    "# })\n",
    "\n",
    "# results_df.to_excel('training_results_Variant1.xlsx', index=False)\n",
    "\n",
    "# # 可视化\n",
    "# plt.figure(figsize=(18, 5))\n",
    "\n",
    "# # 训练损失曲线\n",
    "# plt.subplot(1, 3, 1)\n",
    "# plt.plot(results_df['Epoch'], results_df['Training Loss'], label='Training Loss')\n",
    "# plt.xlabel('Epoch')\n",
    "# plt.ylabel('Loss')\n",
    "# plt.title('Training Loss')\n",
    "# plt.legend()\n",
    "\n",
    "# # 测试损失曲线\n",
    "# plt.subplot(1, 3, 2)\n",
    "# plt.plot(results_df['Epoch'], results_df['Test Loss'], label='Test Loss', color='orange')\n",
    "# plt.xlabel('Epoch')\n",
    "# plt.ylabel('Loss')\n",
    "# plt.title('Test Loss')\n",
    "# plt.legend()\n",
    "\n",
    "# # 测试准确率曲线\n",
    "# plt.subplot(1, 3, 3)\n",
    "# plt.plot(results_df['Epoch'], results_df['Test Accuracy'], label='Test Accuracy', color='green')\n",
    "# plt.xlabel('Epoch')\n",
    "# plt.ylabel('Accuracy')\n",
    "# plt.title('Test Accuracy')\n",
    "# plt.legend()\n",
    "\n",
    "# plt.tight_layout()\n",
    "# plt.savefig('training_results_Variant1.jpg')\n",
    "# plt.show()"
   ]
  },
  {
   "cell_type": "code",
   "execution_count": 13,
   "id": "d2852075",
   "metadata": {
    "execution": {
     "iopub.execute_input": "2025-03-13T03:25:59.568282Z",
     "iopub.status.busy": "2025-03-13T03:25:59.568092Z",
     "iopub.status.idle": "2025-03-13T03:25:59.570780Z",
     "shell.execute_reply": "2025-03-13T03:25:59.570174Z"
    },
    "papermill": {
     "duration": 0.011837,
     "end_time": "2025-03-13T03:25:59.571942",
     "exception": false,
     "start_time": "2025-03-13T03:25:59.560105",
     "status": "completed"
    },
    "tags": []
   },
   "outputs": [],
   "source": [
    "# # save model\n",
    "# torch.save(net.state_dict(), 'Variant1_3.pth')\n",
    "# # save model info\n",
    "# model_info = {\n",
    "#     \"Optimizer\": type(optimizer).__name__,\n",
    "#     \"Learning Rate\": optimizer.param_groups[0]['lr'],\n",
    "#     \"Weight Decay\": optimizer.param_groups[0]['weight_decay'],\n",
    "#     \"Network Architecture\": str(net)\n",
    "# }\n",
    "\n",
    "# model_info_df = pd.DataFrame([model_info])\n",
    "# model_info_df.to_excel('model_info_variant1.xlsx', index=False)"
   ]
  },
  {
   "cell_type": "code",
   "execution_count": 14,
   "id": "4609c7ba",
   "metadata": {
    "collapsed": false,
    "execution": {
     "iopub.execute_input": "2025-03-13T03:25:59.587657Z",
     "iopub.status.busy": "2025-03-13T03:25:59.587444Z",
     "iopub.status.idle": "2025-03-13T03:25:59.590170Z",
     "shell.execute_reply": "2025-03-13T03:25:59.589589Z"
    },
    "jupyter": {
     "outputs_hidden": false
    },
    "papermill": {
     "duration": 0.01195,
     "end_time": "2025-03-13T03:25:59.591319",
     "exception": false,
     "start_time": "2025-03-13T03:25:59.579369",
     "status": "completed"
    },
    "tags": []
   },
   "outputs": [],
   "source": [
    "# # evaluation\n",
    "# net.eval()\n",
    "# correct, total = 0, 0\n",
    "# with torch.no_grad():\n",
    "#     for img, target in loader[\"test\"]:\n",
    "#         img, target = img.to(device), target.to(device)\n",
    "        \n",
    "#         # make prediction\n",
    "#         pred = net(img)\n",
    "        \n",
    "#         # accumulate\n",
    "#         total += len(target)\n",
    "#         correct += (torch.argmax(pred, dim=1) == target).sum().item()\n",
    "\n",
    "# print(f\"Accuracy of the network on the {total} test images: {100 * correct / total:.2f}%\")"
   ]
  },
  {
   "cell_type": "markdown",
   "id": "6e6f091f",
   "metadata": {
    "papermill": {
     "duration": 0.007508,
     "end_time": "2025-03-13T03:25:59.606466",
     "exception": false,
     "start_time": "2025-03-13T03:25:59.598958",
     "status": "completed"
    },
    "tags": []
   },
   "source": [
    "## 3. Variant 2  \n",
    "Add 2 more Conv layers and use wider nets.  \n",
    "Time: 70min   \n",
    "last loss: 0.042  \n",
    "Test acc: 89.60%"
   ]
  },
  {
   "cell_type": "code",
   "execution_count": 15,
   "id": "04ad2e67",
   "metadata": {
    "execution": {
     "iopub.execute_input": "2025-03-13T03:25:59.622184Z",
     "iopub.status.busy": "2025-03-13T03:25:59.621991Z",
     "iopub.status.idle": "2025-03-13T03:25:59.624531Z",
     "shell.execute_reply": "2025-03-13T03:25:59.623943Z"
    },
    "papermill": {
     "duration": 0.011744,
     "end_time": "2025-03-13T03:25:59.625731",
     "exception": false,
     "start_time": "2025-03-13T03:25:59.613987",
     "status": "completed"
    },
    "tags": []
   },
   "outputs": [],
   "source": [
    "# # some experimental setup\n",
    "# device = torch.device(\"cuda:0\" if torch.cuda.is_available() else \"cpu\")\n",
    "\n",
    "# num_epochs = 64\n",
    "# batch_size = 64\n",
    "# print_every = 200\n",
    "\n",
    "# optim_name = \"Adam\"\n",
    "# optim_kwargs = dict(\n",
    "#     lr=3e-4,\n",
    "#     weight_decay=1e-6,\n",
    "# )"
   ]
  },
  {
   "cell_type": "code",
   "execution_count": 16,
   "id": "5d83af7c",
   "metadata": {
    "execution": {
     "iopub.execute_input": "2025-03-13T03:25:59.641387Z",
     "iopub.status.busy": "2025-03-13T03:25:59.641192Z",
     "iopub.status.idle": "2025-03-13T03:25:59.644085Z",
     "shell.execute_reply": "2025-03-13T03:25:59.643495Z"
    },
    "papermill": {
     "duration": 0.012008,
     "end_time": "2025-03-13T03:25:59.645226",
     "exception": false,
     "start_time": "2025-03-13T03:25:59.633218",
     "status": "completed"
    },
    "tags": []
   },
   "outputs": [],
   "source": [
    "# # prepare datasets\n",
    "# # preprocessing pipeline for input images\n",
    "# transformation = dict()\n",
    "# for data_type in (\"train\", \"test\"):\n",
    "#     is_train = data_type==\"train\"\n",
    "#     transformation[data_type] = tv_transforms.Compose(([\n",
    "#         tv_transforms.RandomRotation(degrees=15),\n",
    "#         tv_transforms.RandomHorizontalFlip(),\n",
    "#         tv_transforms.RandomAffine(degrees=0, translate=(0.1, 0.1)),\n",
    "#     ] if is_train else []) + \n",
    "#     [\n",
    "#         tv_transforms.ToTensor(),\n",
    "#         tv_transforms.Normalize(mean=[0.5, 0.5, 0.5], std=[0.5, 0.5, 0.5]),\n",
    "#     ])\n",
    "    \n",
    "# num_workers = 2\n",
    "# dataset, loader = {}, {}\n",
    "# for data_type in (\"train\", \"test\"):\n",
    "#     is_train = data_type==\"train\"\n",
    "#     dataset[data_type] = tv_datasets.CIFAR10(\n",
    "#         root=\"./data\", train=is_train, download=True, transform=transformation[data_type],\n",
    "#     )\n",
    "#     loader[data_type] = torch.utils.data.DataLoader(\n",
    "#         dataset[data_type], batch_size=batch_size, shuffle=is_train, num_workers=num_workers,\n",
    "#     )\n"
   ]
  },
  {
   "cell_type": "code",
   "execution_count": 17,
   "id": "2e02af13",
   "metadata": {
    "execution": {
     "iopub.execute_input": "2025-03-13T03:25:59.661193Z",
     "iopub.status.busy": "2025-03-13T03:25:59.660997Z",
     "iopub.status.idle": "2025-03-13T03:25:59.663869Z",
     "shell.execute_reply": "2025-03-13T03:25:59.663243Z"
    },
    "papermill": {
     "duration": 0.012192,
     "end_time": "2025-03-13T03:25:59.664963",
     "exception": false,
     "start_time": "2025-03-13T03:25:59.652771",
     "status": "completed"
    },
    "tags": []
   },
   "outputs": [],
   "source": [
    "# # our network architecture\n",
    "# net = nn.Sequential(\n",
    "#     nn.Conv2d(3, 256, 3, padding=1), nn.ReLU(inplace=True), nn.MaxPool2d(2), nn.BatchNorm2d(256),\n",
    "#     nn.Conv2d(256, 512, 3, padding=1), nn.ReLU(inplace=True), nn.MaxPool2d(2), nn.BatchNorm2d(512),\n",
    "#     nn.Conv2d(512, 1024, 3, padding=1), nn.ReLU(inplace=True), nn.BatchNorm2d(1024),\n",
    "#     nn.Conv2d(1024, 1024, 3, padding=1), nn.ReLU(inplace=True), nn.BatchNorm2d(1024),\n",
    "#     nn.Conv2d(1024, 2048, 3, padding=1), nn.ReLU(inplace=True), nn.BatchNorm2d(2048),\n",
    "#     nn.Conv2d(2048, 2048, 3, padding=1), nn.ReLU(inplace=True), nn.BatchNorm2d(2048),\n",
    "#     nn.Conv2d(2048, 1024, 3, padding=1), nn.ReLU(inplace=True), nn.MaxPool2d(2), nn.BatchNorm2d(1024),\n",
    "    \n",
    "#     nn.Flatten(),\n",
    "    \n",
    "#     nn.Linear(1024 * 4 * 4, 2048), nn.ReLU(inplace=True), nn.Dropout(0.3), nn.BatchNorm1d(2048),\n",
    "#     nn.Linear(2048, 1024), nn.ReLU(inplace=True), nn.Dropout(0.3), nn.BatchNorm1d(1024),\n",
    "#     nn.Linear(1024, 512), nn.ReLU(inplace=True), nn.Dropout(0.3), nn.BatchNorm1d(512),\n",
    "#     nn.Linear(512, 10),\n",
    "# )\n",
    "\n",
    "# # move to device\n",
    "# net.to(device)\n",
    "\n",
    "# # print the number of parameters\n",
    "# print(f\"number of parameters: {sum(p.numel() for p in net.parameters() if p.requires_grad) / 1_000_000:.2f}M\")"
   ]
  },
  {
   "cell_type": "code",
   "execution_count": 18,
   "id": "54414b71",
   "metadata": {
    "execution": {
     "iopub.execute_input": "2025-03-13T03:25:59.680952Z",
     "iopub.status.busy": "2025-03-13T03:25:59.680746Z",
     "iopub.status.idle": "2025-03-13T03:25:59.683932Z",
     "shell.execute_reply": "2025-03-13T03:25:59.683338Z"
    },
    "papermill": {
     "duration": 0.012275,
     "end_time": "2025-03-13T03:25:59.685030",
     "exception": false,
     "start_time": "2025-03-13T03:25:59.672755",
     "status": "completed"
    },
    "tags": []
   },
   "outputs": [],
   "source": [
    "# # the network optimizer\n",
    "# optimizer = getattr(optim, optim_name)(net.parameters(), **optim_kwargs)\n",
    "\n",
    "# # loss function\n",
    "# criterion = nn.CrossEntropyLoss()\n",
    "\n",
    "# # 训练循环\n",
    "# losses = []\n",
    "# accuracies = []\n",
    "# test_losses = []\n",
    "\n",
    "# for epoch in range(num_epochs):\n",
    "#     # 训练阶段\n",
    "#     net.train()\n",
    "#     running_loss = 0.0\n",
    "#     for i, (img, target) in enumerate(loader[\"train\"]):\n",
    "#         img, target = img.to(device), target.to(device)\n",
    "        \n",
    "#         pred = net(img)\n",
    "#         loss = criterion(pred, target)\n",
    "        \n",
    "#         optimizer.zero_grad()\n",
    "#         loss.backward()\n",
    "#         optimizer.step()\n",
    "        \n",
    "#         running_loss += loss.item()\n",
    "        \n",
    "#         if i % print_every == print_every - 1:\n",
    "#             print(f\"[epoch={epoch + 1:3d}, iter={i + 1:5d}] training loss: {running_loss / print_every:.3f}\")\n",
    "#             running_loss = 0.0\n",
    "    \n",
    "#     # 每个epoch结束后进行一次评估\n",
    "#     net.eval()\n",
    "#     test_loss = 0.0\n",
    "#     correct = 0\n",
    "#     total = 0\n",
    "    \n",
    "#     with torch.no_grad():\n",
    "#         for img, target in loader[\"test\"]:\n",
    "#             img, target = img.to(device), target.to(device)\n",
    "            \n",
    "#             pred = net(img)\n",
    "#             loss = criterion(pred, target)\n",
    "            \n",
    "#             test_loss += loss.item()\n",
    "#             total += len(target)\n",
    "#             correct += (torch.argmax(pred, dim=1) == target).sum().item()\n",
    "    \n",
    "#     # 计算平均损失和准确率\n",
    "#     avg_test_loss = test_loss / len(loader[\"test\"])\n",
    "#     accuracy = correct / total\n",
    "    \n",
    "#     # 记录结果\n",
    "#     losses.append(running_loss / print_every)\n",
    "#     accuracies.append(accuracy)\n",
    "#     test_losses.append(avg_test_loss)\n",
    "    \n",
    "#     print(f\"Epoch {epoch + 1}: Test Loss: {avg_test_loss:.3f}, Accuracy: {100 * accuracy:.2f}%\")\n",
    "\n",
    "# print(\"Finished Training\")"
   ]
  },
  {
   "cell_type": "code",
   "execution_count": 19,
   "id": "f325f1a1",
   "metadata": {
    "execution": {
     "iopub.execute_input": "2025-03-13T03:25:59.700847Z",
     "iopub.status.busy": "2025-03-13T03:25:59.700649Z",
     "iopub.status.idle": "2025-03-13T03:25:59.703611Z",
     "shell.execute_reply": "2025-03-13T03:25:59.703001Z"
    },
    "papermill": {
     "duration": 0.01213,
     "end_time": "2025-03-13T03:25:59.704778",
     "exception": false,
     "start_time": "2025-03-13T03:25:59.692648",
     "status": "completed"
    },
    "tags": []
   },
   "outputs": [],
   "source": [
    "# import pandas as pd\n",
    "# import matplotlib.pyplot as plt\n",
    "\n",
    "# results_df = pd.DataFrame({\n",
    "#     'Epoch': range(1, num_epochs + 1),\n",
    "#     'Training Loss': losses,\n",
    "#     'Test Loss': test_losses,\n",
    "#     'Test Accuracy': accuracies\n",
    "# })\n",
    "\n",
    "# results_df.to_excel('training_results_Variant2.xlsx', index=False)\n",
    "\n",
    "# # 可视化\n",
    "# plt.figure(figsize=(18, 5))\n",
    "\n",
    "# # 训练损失曲线\n",
    "# plt.subplot(1, 3, 1)\n",
    "# plt.plot(results_df['Epoch'], results_df['Training Loss'], label='Training Loss')\n",
    "# plt.xlabel('Epoch')\n",
    "# plt.ylabel('Loss')\n",
    "# plt.title('Training Loss')\n",
    "# plt.legend()\n",
    "\n",
    "# # 测试损失曲线\n",
    "# plt.subplot(1, 3, 2)\n",
    "# plt.plot(results_df['Epoch'], results_df['Test Loss'], label='Test Loss', color='orange')\n",
    "# plt.xlabel('Epoch')\n",
    "# plt.ylabel('Loss')\n",
    "# plt.title('Test Loss')\n",
    "# plt.legend()\n",
    "\n",
    "# # 测试准确率曲线\n",
    "# plt.subplot(1, 3, 3)\n",
    "# plt.plot(results_df['Epoch'], results_df['Test Accuracy'], label='Test Accuracy', color='green')\n",
    "# plt.xlabel('Epoch')\n",
    "# plt.ylabel('Accuracy')\n",
    "# plt.title('Test Accuracy')\n",
    "# plt.legend()\n",
    "\n",
    "# plt.tight_layout()\n",
    "# plt.savefig('training_results_Variant2.jpg')\n",
    "# plt.show()"
   ]
  },
  {
   "cell_type": "code",
   "execution_count": 20,
   "id": "91cb61dc",
   "metadata": {
    "execution": {
     "iopub.execute_input": "2025-03-13T03:25:59.721121Z",
     "iopub.status.busy": "2025-03-13T03:25:59.720927Z",
     "iopub.status.idle": "2025-03-13T03:25:59.723389Z",
     "shell.execute_reply": "2025-03-13T03:25:59.722851Z"
    },
    "papermill": {
     "duration": 0.012162,
     "end_time": "2025-03-13T03:25:59.724549",
     "exception": false,
     "start_time": "2025-03-13T03:25:59.712387",
     "status": "completed"
    },
    "tags": []
   },
   "outputs": [],
   "source": [
    "# # save model\n",
    "# torch.save(net.state_dict(), 'Variant2.pth')\n",
    "# # save model info\n",
    "# model_info = {\n",
    "#     \"Optimizer\": type(optimizer).__name__,\n",
    "#     \"Learning Rate\": optimizer.param_groups[0]['lr'],\n",
    "#     \"Weight Decay\": optimizer.param_groups[0]['weight_decay'],\n",
    "#     \"Network Architecture\": str(net)\n",
    "# }\n",
    "\n",
    "# model_info_df = pd.DataFrame([model_info])\n",
    "# model_info_df.to_excel('model_info_variant2.xlsx', index=False)"
   ]
  },
  {
   "cell_type": "code",
   "execution_count": 21,
   "id": "d4feb38b",
   "metadata": {
    "execution": {
     "iopub.execute_input": "2025-03-13T03:25:59.740883Z",
     "iopub.status.busy": "2025-03-13T03:25:59.740692Z",
     "iopub.status.idle": "2025-03-13T03:25:59.743187Z",
     "shell.execute_reply": "2025-03-13T03:25:59.742627Z"
    },
    "papermill": {
     "duration": 0.011935,
     "end_time": "2025-03-13T03:25:59.744297",
     "exception": false,
     "start_time": "2025-03-13T03:25:59.732362",
     "status": "completed"
    },
    "tags": []
   },
   "outputs": [],
   "source": [
    "# # evaluation\n",
    "# net.eval()\n",
    "# correct, total = 0, 0\n",
    "# with torch.no_grad():\n",
    "#     for img, target in loader[\"test\"]:\n",
    "#         img, target = img.to(device), target.to(device)\n",
    "        \n",
    "#         # make prediction\n",
    "#         pred = net(img)\n",
    "        \n",
    "#         # accumulate\n",
    "#         total += len(target)\n",
    "#         correct += (torch.argmax(pred, dim=1) == target).sum().item()\n",
    "\n",
    "# print(f\"Accuracy of the network on the {total} test images: {100 * correct / total:.2f}%\")"
   ]
  },
  {
   "cell_type": "markdown",
   "id": "c1fca165",
   "metadata": {
    "papermill": {
     "duration": 0.007437,
     "end_time": "2025-03-13T03:25:59.759536",
     "exception": false,
     "start_time": "2025-03-13T03:25:59.752099",
     "status": "completed"
    },
    "tags": []
   },
   "source": [
    "## 4. Variant 3\n",
    "Adding residual connections to be a ResNet, which allows the network to be deeper while avoiding the problems of vanishing or exploding gradients.  \n",
    "ResNet34:  \n",
    "Time consuming: 1h13m  \n",
    "last loss: 0.129  \n",
    "Test acc: 84.33%"
   ]
  },
  {
   "cell_type": "code",
   "execution_count": 22,
   "id": "0522cbf1",
   "metadata": {
    "execution": {
     "iopub.execute_input": "2025-03-13T03:25:59.775673Z",
     "iopub.status.busy": "2025-03-13T03:25:59.775443Z",
     "iopub.status.idle": "2025-03-13T03:25:59.778013Z",
     "shell.execute_reply": "2025-03-13T03:25:59.777429Z"
    },
    "papermill": {
     "duration": 0.011937,
     "end_time": "2025-03-13T03:25:59.779184",
     "exception": false,
     "start_time": "2025-03-13T03:25:59.767247",
     "status": "completed"
    },
    "tags": []
   },
   "outputs": [],
   "source": [
    "# # some experimental setup\n",
    "# device = torch.device(\"cuda:0\" if torch.cuda.is_available() else \"cpu\")\n",
    "\n",
    "# num_epochs = 64\n",
    "# batch_size = 64\n",
    "# print_every = 200\n",
    "\n",
    "# optim_name = \"Adam\"\n",
    "# optim_kwargs = dict(\n",
    "#     lr=3e-4,\n",
    "#     weight_decay=1e-6,\n",
    "# )"
   ]
  },
  {
   "cell_type": "code",
   "execution_count": 23,
   "id": "92cd2119",
   "metadata": {
    "collapsed": false,
    "execution": {
     "iopub.execute_input": "2025-03-13T03:25:59.795217Z",
     "iopub.status.busy": "2025-03-13T03:25:59.795018Z",
     "iopub.status.idle": "2025-03-13T03:25:59.797921Z",
     "shell.execute_reply": "2025-03-13T03:25:59.797311Z"
    },
    "jupyter": {
     "outputs_hidden": false
    },
    "papermill": {
     "duration": 0.012046,
     "end_time": "2025-03-13T03:25:59.799021",
     "exception": false,
     "start_time": "2025-03-13T03:25:59.786975",
     "status": "completed"
    },
    "tags": []
   },
   "outputs": [],
   "source": [
    "# # prepare datasets\n",
    "# # preprocessing pipeline for input images\n",
    "# transformation = dict()\n",
    "# for data_type in (\"train\", \"test\"):\n",
    "#     is_train = data_type==\"train\"\n",
    "#     transformation[data_type] = tv_transforms.Compose(([\n",
    "#         tv_transforms.RandomRotation(degrees=15),\n",
    "#         tv_transforms.RandomHorizontalFlip(),\n",
    "#         tv_transforms.RandomAffine(degrees=0, translate=(0.1, 0.1)),\n",
    "#     ] if is_train else []) + \n",
    "#     [\n",
    "#         tv_transforms.ToTensor(),\n",
    "#         tv_transforms.Normalize(mean=[0.5, 0.5, 0.5], std=[0.5, 0.5, 0.5]),\n",
    "#     ])\n",
    "    \n",
    "# num_workers = 2\n",
    "# dataset, loader = {}, {}\n",
    "# for data_type in (\"train\", \"test\"):\n",
    "#     is_train = data_type==\"train\"\n",
    "#     dataset[data_type] = tv_datasets.CIFAR10(\n",
    "#         root=\"./data\", train=is_train, download=True, transform=transformation[data_type],\n",
    "#     )\n",
    "#     loader[data_type] = torch.utils.data.DataLoader(\n",
    "#         dataset[data_type], batch_size=batch_size, shuffle=is_train, num_workers=num_workers,\n",
    "#     )\n"
   ]
  },
  {
   "cell_type": "code",
   "execution_count": 24,
   "id": "2a731c92",
   "metadata": {
    "collapsed": false,
    "execution": {
     "iopub.execute_input": "2025-03-13T03:25:59.815027Z",
     "iopub.status.busy": "2025-03-13T03:25:59.814820Z",
     "iopub.status.idle": "2025-03-13T03:25:59.818230Z",
     "shell.execute_reply": "2025-03-13T03:25:59.817622Z"
    },
    "jupyter": {
     "outputs_hidden": false
    },
    "papermill": {
     "duration": 0.012534,
     "end_time": "2025-03-13T03:25:59.819275",
     "exception": false,
     "start_time": "2025-03-13T03:25:59.806741",
     "status": "completed"
    },
    "tags": []
   },
   "outputs": [],
   "source": [
    "# # ResNet 34\n",
    "# # 定义基本的残差块\n",
    "# class ResBlock(nn.Module):\n",
    "#     expansion = 1\n",
    "\n",
    "#     def __init__(self, in_channels, out_channels, stride=1):\n",
    "#         super(ResBlock, self).__init__()\n",
    "#         self.conv1 = nn.Conv2d(in_channels, out_channels, kernel_size=3, stride=stride, padding=1, bias=False)\n",
    "#         self.bn1 = nn.BatchNorm2d(out_channels)\n",
    "#         self.relu = nn.ReLU(inplace=True)\n",
    "#         self.conv2 = nn.Conv2d(out_channels, out_channels, kernel_size=3, stride=1, padding=1, bias=False)\n",
    "#         self.bn2 = nn.BatchNorm2d(out_channels)\n",
    "\n",
    "#         self.shortcut = nn.Sequential()\n",
    "#         if stride != 1 or in_channels != self.expansion * out_channels:\n",
    "#             self.shortcut = nn.Sequential(\n",
    "#                 nn.Conv2d(in_channels, self.expansion * out_channels, kernel_size=1, stride=stride, bias=False),\n",
    "#                 nn.BatchNorm2d(self.expansion * out_channels)\n",
    "#             )\n",
    "\n",
    "#     def forward(self, x):\n",
    "#         out = self.relu(self.bn1(self.conv1(x)))\n",
    "#         out = self.bn2(self.conv2(out))\n",
    "#         out += self.shortcut(x)\n",
    "#         out = self.relu(out)\n",
    "#         return out\n",
    "\n",
    "# # 定义ResNet34模型\n",
    "# class ResNet34(nn.Module):\n",
    "#     def __init__(self, num_classes=1000):\n",
    "#         super(ResNet34, self).__init__()\n",
    "#         self.in_channels = 64\n",
    "\n",
    "#         self.conv1 = nn.Conv2d(3, 64, kernel_size=7, stride=2, padding=3, bias=False)\n",
    "#         self.bn1 = nn.BatchNorm2d(64)\n",
    "#         self.relu = nn.ReLU(inplace=True)\n",
    "#         self.maxpool = nn.MaxPool2d(kernel_size=3, stride=2, padding=1)\n",
    "\n",
    "#         self.layer1 = self._make_layer(64, 3, stride=1)\n",
    "#         self.layer2 = self._make_layer(128, 4, stride=2)\n",
    "#         self.layer3 = self._make_layer(256, 6, stride=2)\n",
    "#         self.layer4 = self._make_layer(512, 3, stride=2)\n",
    "\n",
    "#         self.avgpool = nn.AdaptiveAvgPool2d((1, 1))\n",
    "#         self.fc = nn.Linear(512 * ResBlock.expansion, num_classes)\n",
    "\n",
    "#     def _make_layer(self, out_channels, num_blocks, stride):\n",
    "#         strides = [stride] + [1] * (num_blocks - 1)\n",
    "#         layers = []\n",
    "#         for stride in strides:\n",
    "#             layers.append(ResBlock(self.in_channels, out_channels, stride))\n",
    "#             self.in_channels = out_channels * ResBlock.expansion\n",
    "#         return nn.Sequential(*layers)\n",
    "\n",
    "#     def forward(self, x):\n",
    "#         out = self.relu(self.bn1(self.conv1(x)))\n",
    "#         out = self.maxpool(out)\n",
    "#         out = self.layer1(out)\n",
    "#         out = self.layer2(out)\n",
    "#         out = self.layer3(out)\n",
    "#         out = self.layer4(out)\n",
    "#         out = self.avgpool(out)\n",
    "#         out = torch.flatten(out, 1)\n",
    "#         out = self.fc(out)\n",
    "#         return out\n",
    "\n",
    "\n",
    "# net = ResNet34(num_classes=10)\n",
    "\n",
    "# # move to device\n",
    "# net.to(device)\n",
    "\n",
    "# # print the number of parameters\n",
    "# print(f\"number of parameters: {sum(p.numel() for p in net.parameters() if p.requires_grad) / 1_000_000:.2f}M\")"
   ]
  },
  {
   "cell_type": "code",
   "execution_count": 25,
   "id": "f719bc04",
   "metadata": {
    "execution": {
     "iopub.execute_input": "2025-03-13T03:25:59.835439Z",
     "iopub.status.busy": "2025-03-13T03:25:59.835244Z",
     "iopub.status.idle": "2025-03-13T03:25:59.838561Z",
     "shell.execute_reply": "2025-03-13T03:25:59.837944Z"
    },
    "papermill": {
     "duration": 0.012737,
     "end_time": "2025-03-13T03:25:59.839680",
     "exception": false,
     "start_time": "2025-03-13T03:25:59.826943",
     "status": "completed"
    },
    "tags": []
   },
   "outputs": [],
   "source": [
    "# # 定义基本的残差块\n",
    "# class ResBlock(nn.Module):\n",
    "#     def __init__(self, in_channels, out_channels, stride=1):\n",
    "#         super(ResBlock, self).__init__()\n",
    "#         # 主路径\n",
    "#         self.conv1 = nn.Conv2d(in_channels, out_channels, kernel_size=3, stride=stride, padding=1)\n",
    "#         self.bn1 = nn.BatchNorm2d(out_channels)\n",
    "#         self.relu = nn.ReLU(inplace=False)\n",
    "        \n",
    "#         # 残差路径\n",
    "#         self.shortcut = nn.Sequential()\n",
    "#         if stride != 1 or in_channels != out_channels:\n",
    "#             self.shortcut = nn.Sequential(\n",
    "#                 nn.Conv2d(in_channels, out_channels, kernel_size=1, stride=stride),\n",
    "#                 nn.BatchNorm2d(out_channels)\n",
    "#             )\n",
    "\n",
    "#     def forward(self, x):\n",
    "#         identity = x\n",
    "        \n",
    "#         out = self.bn1(self.conv1(x))\n",
    "#         out = self.relu(out)\n",
    "        \n",
    "#         # 添加残差连接\n",
    "#         out = out + self.shortcut(identity)\n",
    "#         out = self.relu(out)\n",
    "        \n",
    "#         return out\n",
    "\n",
    "# # 网络结构\n",
    "# net = nn.Sequential(\n",
    "#     # 第一个卷积块 - 保持与Variant2相同的起始通道数\n",
    "#     nn.Conv2d(3, 256, 3, padding=1), nn.ReLU(inplace=True), nn.BatchNorm2d(256),\n",
    "#     ResBlock(256, 256),  # 添加残差连接\n",
    "#     nn.MaxPool2d(2),\n",
    "    \n",
    "#     # 第二个卷积块 - 基于Variant2的通道数\n",
    "#     ResBlock(256, 512),\n",
    "#     ResBlock(512, 512),\n",
    "#     nn.MaxPool2d(2),\n",
    "    \n",
    "#     # 第三个卷积块\n",
    "#     ResBlock(512, 1024),\n",
    "#     ResBlock(1024, 1024),\n",
    "    \n",
    "#     # 第四个卷积块\n",
    "#     ResBlock(1024, 2048),\n",
    "#     ResBlock(2048, 2048),\n",
    "    \n",
    "#     # 第五个卷积块\n",
    "#     ResBlock(2048, 1024),\n",
    "#     nn.MaxPool2d(2),\n",
    "    \n",
    "#     nn.Flatten(),\n",
    "    \n",
    "#     # 全连接层 - 与Variant2保持一致\n",
    "#     nn.Linear(1024 * 4 * 4, 2048), nn.ReLU(inplace=True), nn.Dropout(0.3), nn.BatchNorm1d(2048),\n",
    "#     nn.Linear(2048, 1024), nn.ReLU(inplace=True), nn.Dropout(0.3), nn.BatchNorm1d(1024),\n",
    "#     nn.Linear(1024, 512), nn.ReLU(inplace=True), nn.Dropout(0.3), nn.BatchNorm1d(512),\n",
    "#     nn.Linear(512, 10),\n",
    "# )\n",
    "\n",
    "# # move to device\n",
    "# net.to(device)\n",
    "\n",
    "# # print the number of parameters\n",
    "# print(f\"number of parameters: {sum(p.numel() for p in net.parameters() if p.requires_grad) / 1_000_000:.2f}M\")"
   ]
  },
  {
   "cell_type": "code",
   "execution_count": 26,
   "id": "3bf59a70",
   "metadata": {
    "execution": {
     "iopub.execute_input": "2025-03-13T03:25:59.856286Z",
     "iopub.status.busy": "2025-03-13T03:25:59.856090Z",
     "iopub.status.idle": "2025-03-13T03:25:59.859333Z",
     "shell.execute_reply": "2025-03-13T03:25:59.858745Z"
    },
    "papermill": {
     "duration": 0.012587,
     "end_time": "2025-03-13T03:25:59.860387",
     "exception": false,
     "start_time": "2025-03-13T03:25:59.847800",
     "status": "completed"
    },
    "tags": []
   },
   "outputs": [],
   "source": [
    "# # the network optimizer\n",
    "# optimizer = getattr(optim, optim_name)(net.parameters(), **optim_kwargs)\n",
    "\n",
    "# # loss function\n",
    "# criterion = nn.CrossEntropyLoss()\n",
    "\n",
    "# # 开启异常检测\n",
    "# torch.autograd.set_detect_anomaly(True)\n",
    "\n",
    "# # 训练循环\n",
    "# losses = []\n",
    "# accuracies = []\n",
    "# test_losses = []\n",
    "\n",
    "# for epoch in range(num_epochs):\n",
    "#     # 训练阶段\n",
    "#     net.train()\n",
    "#     running_loss = 0.0\n",
    "#     for i, (img, target) in enumerate(loader[\"train\"]):\n",
    "#         img, target = img.to(device), target.to(device)\n",
    "        \n",
    "#         pred = net(img)\n",
    "#         loss = criterion(pred, target)\n",
    "        \n",
    "#         optimizer.zero_grad()\n",
    "#         loss.backward()\n",
    "#         optimizer.step()\n",
    "        \n",
    "#         running_loss += loss.item()\n",
    "        \n",
    "#         if i % print_every == print_every - 1:\n",
    "#             print(f\"[epoch={epoch + 1:3d}, iter={i + 1:5d}] training loss: {running_loss / print_every:.3f}\")\n",
    "#             running_loss = 0.0\n",
    "    \n",
    "#     # 每个epoch结束后进行一次评估\n",
    "#     net.eval()\n",
    "#     test_loss = 0.0\n",
    "#     correct = 0\n",
    "#     total = 0\n",
    "    \n",
    "#     with torch.no_grad():\n",
    "#         for img, target in loader[\"test\"]:\n",
    "#             img, target = img.to(device), target.to(device)\n",
    "            \n",
    "#             pred = net(img)\n",
    "#             loss = criterion(pred, target)\n",
    "            \n",
    "#             test_loss += loss.item()\n",
    "#             total += len(target)\n",
    "#             correct += (torch.argmax(pred, dim=1) == target).sum().item()\n",
    "    \n",
    "#     # 计算平均损失和准确率\n",
    "#     avg_test_loss = test_loss / len(loader[\"test\"])\n",
    "#     accuracy = correct / total\n",
    "    \n",
    "#     # 记录结果\n",
    "#     losses.append(running_loss / print_every)\n",
    "#     accuracies.append(accuracy)\n",
    "#     test_losses.append(avg_test_loss)\n",
    "    \n",
    "#     print(f\"Epoch {epoch + 1}: Test Loss: {avg_test_loss:.3f}, Accuracy: {100 * accuracy:.2f}%\")\n",
    "\n",
    "# print(\"Finished Training\")"
   ]
  },
  {
   "cell_type": "code",
   "execution_count": 27,
   "id": "01ded94a",
   "metadata": {
    "execution": {
     "iopub.execute_input": "2025-03-13T03:25:59.876719Z",
     "iopub.status.busy": "2025-03-13T03:25:59.876516Z",
     "iopub.status.idle": "2025-03-13T03:25:59.879637Z",
     "shell.execute_reply": "2025-03-13T03:25:59.878891Z"
    },
    "papermill": {
     "duration": 0.01264,
     "end_time": "2025-03-13T03:25:59.880828",
     "exception": false,
     "start_time": "2025-03-13T03:25:59.868188",
     "status": "completed"
    },
    "tags": []
   },
   "outputs": [],
   "source": [
    "# import pandas as pd\n",
    "# import matplotlib.pyplot as plt\n",
    "\n",
    "# results_df = pd.DataFrame({\n",
    "#     'Epoch': range(1, num_epochs + 1),\n",
    "#     'Training Loss': losses,\n",
    "#     'Test Loss': test_losses,\n",
    "#     'Test Accuracy': accuracies\n",
    "# })\n",
    "\n",
    "# results_df.to_excel('training_results_Variant3.xlsx', index=False)\n",
    "\n",
    "# # 可视化\n",
    "# plt.figure(figsize=(18, 5))\n",
    "\n",
    "# # 训练损失曲线\n",
    "# plt.subplot(1, 3, 1)\n",
    "# plt.plot(results_df['Epoch'], results_df['Training Loss'], label='Training Loss')\n",
    "# plt.xlabel('Epoch')\n",
    "# plt.ylabel('Loss')\n",
    "# plt.title('Training Loss')\n",
    "# plt.legend()\n",
    "\n",
    "# # 测试损失曲线\n",
    "# plt.subplot(1, 3, 2)\n",
    "# plt.plot(results_df['Epoch'], results_df['Test Loss'], label='Test Loss', color='orange')\n",
    "# plt.xlabel('Epoch')\n",
    "# plt.ylabel('Loss')\n",
    "# plt.title('Test Loss')\n",
    "# plt.legend()\n",
    "\n",
    "# # 测试准确率曲线\n",
    "# plt.subplot(1, 3, 3)\n",
    "# plt.plot(results_df['Epoch'], results_df['Test Accuracy'], label='Test Accuracy', color='green')\n",
    "# plt.xlabel('Epoch')\n",
    "# plt.ylabel('Accuracy')\n",
    "# plt.title('Test Accuracy')\n",
    "# plt.legend()\n",
    "\n",
    "# plt.tight_layout()\n",
    "# plt.savefig('training_results_Variant3.jpg')\n",
    "# plt.show()"
   ]
  },
  {
   "cell_type": "code",
   "execution_count": 28,
   "id": "de391d92",
   "metadata": {
    "execution": {
     "iopub.execute_input": "2025-03-13T03:25:59.897094Z",
     "iopub.status.busy": "2025-03-13T03:25:59.896885Z",
     "iopub.status.idle": "2025-03-13T03:25:59.899707Z",
     "shell.execute_reply": "2025-03-13T03:25:59.899069Z"
    },
    "papermill": {
     "duration": 0.012202,
     "end_time": "2025-03-13T03:25:59.900871",
     "exception": false,
     "start_time": "2025-03-13T03:25:59.888669",
     "status": "completed"
    },
    "tags": []
   },
   "outputs": [],
   "source": [
    "# # save model\n",
    "# torch.save(net.state_dict(), 'Variant3.pth')\n",
    "# # save model info\n",
    "# model_info = {\n",
    "#     \"Optimizer\": type(optimizer).__name__,\n",
    "#     \"Learning Rate\": optimizer.param_groups[0]['lr'],\n",
    "#     \"Weight Decay\": optimizer.param_groups[0]['weight_decay'],\n",
    "#     \"Network Architecture\": str(net)\n",
    "# }\n",
    "\n",
    "# model_info_df = pd.DataFrame([model_info])\n",
    "# model_info_df.to_excel('model_info_variant3.xlsx', index=False)"
   ]
  },
  {
   "cell_type": "code",
   "execution_count": 29,
   "id": "511c1980",
   "metadata": {
    "collapsed": false,
    "execution": {
     "iopub.execute_input": "2025-03-13T03:25:59.917273Z",
     "iopub.status.busy": "2025-03-13T03:25:59.917080Z",
     "iopub.status.idle": "2025-03-13T03:25:59.919884Z",
     "shell.execute_reply": "2025-03-13T03:25:59.919261Z"
    },
    "jupyter": {
     "outputs_hidden": false
    },
    "papermill": {
     "duration": 0.012252,
     "end_time": "2025-03-13T03:25:59.921046",
     "exception": false,
     "start_time": "2025-03-13T03:25:59.908794",
     "status": "completed"
    },
    "tags": []
   },
   "outputs": [],
   "source": [
    "# net.eval()\n",
    "# correct, total = 0, 0\n",
    "# with torch.no_grad():\n",
    "#     for img, target in loader[\"test\"]:\n",
    "#         img, target = img.to(device), target.to(device)\n",
    "        \n",
    "#         # make prediction\n",
    "#         pred = net(img)\n",
    "        \n",
    "#         # accumulate\n",
    "#         total += len(target)\n",
    "#         correct += (torch.argmax(pred, dim=1) == target).sum().item()\n",
    "\n",
    "# print(f\"Accuracy of the network on the {total} test images: {100 * correct / total:.2f}%\")"
   ]
  },
  {
   "cell_type": "markdown",
   "id": "b7231fae",
   "metadata": {
    "papermill": {
     "duration": 0.007677,
     "end_time": "2025-03-13T03:25:59.936709",
     "exception": false,
     "start_time": "2025-03-13T03:25:59.929032",
     "status": "completed"
    },
    "tags": []
   },
   "source": [
    "## 6. Variant 5\n",
    "Changing the optimizer and learning rate scheduler.  \n",
    "Add warmup in the first warmup_epochs, then keeping max_lr and cooldown with cosinelr after 50% num_epochs.  "
   ]
  },
  {
   "cell_type": "code",
   "execution_count": 30,
   "id": "964d5909",
   "metadata": {
    "execution": {
     "iopub.execute_input": "2025-03-13T03:25:59.953186Z",
     "iopub.status.busy": "2025-03-13T03:25:59.952988Z",
     "iopub.status.idle": "2025-03-13T03:26:06.953353Z",
     "shell.execute_reply": "2025-03-13T03:26:06.952722Z"
    },
    "papermill": {
     "duration": 7.010362,
     "end_time": "2025-03-13T03:26:06.954895",
     "exception": false,
     "start_time": "2025-03-13T03:25:59.944533",
     "status": "completed"
    },
    "tags": []
   },
   "outputs": [
    {
     "name": "stdout",
     "output_type": "stream",
     "text": [
      "Downloading https://www.cs.toronto.edu/~kriz/cifar-10-python.tar.gz to ./data/cifar-10-python.tar.gz\n"
     ]
    },
    {
     "name": "stderr",
     "output_type": "stream",
     "text": [
      "100%|██████████| 170M/170M [00:03<00:00, 47.8MB/s]\n"
     ]
    },
    {
     "name": "stdout",
     "output_type": "stream",
     "text": [
      "Extracting ./data/cifar-10-python.tar.gz to ./data\n",
      "Files already downloaded and verified\n"
     ]
    }
   ],
   "source": [
    "# prepare datasets\n",
    "# preprocessing pipeline for input images\n",
    "# 数据增强\n",
    "transformation = dict()\n",
    "for data_type in (\"train\", \"test\"):\n",
    "    is_train = data_type==\"train\"\n",
    "    if is_train:\n",
    "        # 训练集使用增强的数据增强\n",
    "        transformation[data_type] = tv_transforms.Compose([\n",
    "            # 随机裁剪和填充\n",
    "            tv_transforms.RandomCrop(32, padding=4, padding_mode='reflect'),\n",
    "            # 随机水平翻转\n",
    "            tv_transforms.RandomHorizontalFlip(),\n",
    "            # 随机旋转\n",
    "            tv_transforms.RandomRotation(degrees=15),\n",
    "            # 随机仿射变换\n",
    "            tv_transforms.RandomAffine(degrees=0, translate=(0.1, 0.1), scale=(0.9, 1.1)),\n",
    "            # 颜色抖动\n",
    "            tv_transforms.ColorJitter(brightness=0.2, contrast=0.2, saturation=0.2, hue=0.1),\n",
    "            # 转换为张量\n",
    "            tv_transforms.ToTensor(),\n",
    "            # 标准化\n",
    "            tv_transforms.Normalize(mean=[0.5, 0.5, 0.5], std=[0.5, 0.5, 0.5]),\n",
    "            # 随机擦除\n",
    "            tv_transforms.RandomErasing(p=0.5, scale=(0.02, 0.33), ratio=(0.3, 3.3)),\n",
    "        ])\n",
    "    else:\n",
    "        # 测试集只进行基本转换\n",
    "        transformation[data_type] = tv_transforms.Compose([\n",
    "            tv_transforms.ToTensor(),\n",
    "            tv_transforms.Normalize(mean=[0.5, 0.5, 0.5], std=[0.5, 0.5, 0.5]),\n",
    "        ])\n",
    "        \n",
    "num_workers = 2\n",
    "batch_size = 64\n",
    "dataset, loader = {}, {}\n",
    "for data_type in (\"train\", \"test\"):\n",
    "    is_train = data_type==\"train\"\n",
    "    dataset[data_type] = tv_datasets.CIFAR10(\n",
    "        root=\"./data\", train=is_train, download=True, transform=transformation[data_type],\n",
    "    )\n",
    "    loader[data_type] = torch.utils.data.DataLoader(\n",
    "        dataset[data_type], batch_size=batch_size, shuffle=is_train, num_workers=num_workers,\n",
    "    )\n"
   ]
  },
  {
   "cell_type": "code",
   "execution_count": 31,
   "id": "a8160994",
   "metadata": {
    "execution": {
     "iopub.execute_input": "2025-03-13T03:26:06.975918Z",
     "iopub.status.busy": "2025-03-13T03:26:06.975672Z",
     "iopub.status.idle": "2025-03-13T03:26:06.979361Z",
     "shell.execute_reply": "2025-03-13T03:26:06.978760Z"
    },
    "papermill": {
     "duration": 0.015143,
     "end_time": "2025-03-13T03:26:06.980587",
     "exception": false,
     "start_time": "2025-03-13T03:26:06.965444",
     "status": "completed"
    },
    "tags": []
   },
   "outputs": [],
   "source": [
    "# some experimental setup\n",
    "from torch.optim import lr_scheduler\n",
    "\n",
    "device = torch.device(\"cuda:0\" if torch.cuda.is_available() else \"cpu\")\n",
    "\n",
    "num_epochs = 64\n",
    "print_every = 200\n",
    "\n",
    "optim_name = \"AdamW\"\n",
    "optim_kwargs = dict(\n",
    "    lr=3e-4,\n",
    "    weight_decay=1e-6,\n",
    ")"
   ]
  },
  {
   "cell_type": "markdown",
   "id": "1f2e870d",
   "metadata": {
    "papermill": {
     "duration": 0.009394,
     "end_time": "2025-03-13T03:26:06.999775",
     "exception": false,
     "start_time": "2025-03-13T03:26:06.990381",
     "status": "completed"
    },
    "tags": []
   },
   "source": [
    "### Results\n",
    "AdamW lr=3e-4,weight_decay=0.01 scheduler = lr_scheduler.StepLR(optimizer, step_size=15,gamma=0.1) last_loss = 0.464 acc = 83.82%\n",
    "\n",
    "AdamW lr=3e-4,weight_decay=0.01\n",
    "constant + cooldown last_loss = 1.015 acc = 68.65%\n"
   ]
  },
  {
   "cell_type": "code",
   "execution_count": 32,
   "id": "d8c0edc8",
   "metadata": {
    "collapsed": false,
    "execution": {
     "iopub.execute_input": "2025-03-13T03:26:07.019649Z",
     "iopub.status.busy": "2025-03-13T03:26:07.019406Z",
     "iopub.status.idle": "2025-03-13T03:26:08.349235Z",
     "shell.execute_reply": "2025-03-13T03:26:08.348275Z"
    },
    "jupyter": {
     "outputs_hidden": false
    },
    "papermill": {
     "duration": 1.341313,
     "end_time": "2025-03-13T03:26:08.350691",
     "exception": false,
     "start_time": "2025-03-13T03:26:07.009378",
     "status": "completed"
    },
    "tags": []
   },
   "outputs": [
    {
     "name": "stdout",
     "output_type": "stream",
     "text": [
      "number of parameters: 127.06M\n"
     ]
    }
   ],
   "source": [
    "# 使用Variant2的网络架构\n",
    "net = nn.Sequential(\n",
    "    nn.Conv2d(3, 256, 3, padding=1), nn.ReLU(inplace=True), nn.MaxPool2d(2), nn.BatchNorm2d(256),\n",
    "    nn.Conv2d(256, 512, 3, padding=1), nn.ReLU(inplace=True), nn.MaxPool2d(2), nn.BatchNorm2d(512),\n",
    "    nn.Conv2d(512, 1024, 3, padding=1), nn.ReLU(inplace=True), nn.BatchNorm2d(1024),\n",
    "    nn.Conv2d(1024, 1024, 3, padding=1), nn.ReLU(inplace=True), nn.BatchNorm2d(1024),\n",
    "    nn.Conv2d(1024, 2048, 3, padding=1), nn.ReLU(inplace=True), nn.BatchNorm2d(2048),\n",
    "    nn.Conv2d(2048, 2048, 3, padding=1), nn.ReLU(inplace=True), nn.BatchNorm2d(2048),\n",
    "    nn.Conv2d(2048, 1024, 3, padding=1), nn.ReLU(inplace=True), nn.MaxPool2d(2), nn.BatchNorm2d(1024),\n",
    "    \n",
    "    nn.Flatten(),\n",
    "    \n",
    "    nn.Linear(1024 * 4 * 4, 2048), nn.ReLU(inplace=True), nn.Dropout(0.3), nn.BatchNorm1d(2048),\n",
    "    nn.Linear(2048, 1024), nn.ReLU(inplace=True), nn.Dropout(0.3), nn.BatchNorm1d(1024),\n",
    "    nn.Linear(1024, 512), nn.ReLU(inplace=True), nn.Dropout(0.3), nn.BatchNorm1d(512),\n",
    "    nn.Linear(512, 10),\n",
    ")\n",
    "# 移动到设备\n",
    "net.to(device)\n",
    "\n",
    "# 打印参数数量\n",
    "print(f\"number of parameters: {sum(p.numel() for p in net.parameters() if p.requires_grad) / 1_000_000:.2f}M\")\n",
    "\n"
   ]
  },
  {
   "cell_type": "code",
   "execution_count": 33,
   "id": "74df7d7c",
   "metadata": {
    "execution": {
     "iopub.execute_input": "2025-03-13T03:26:08.371599Z",
     "iopub.status.busy": "2025-03-13T03:26:08.371328Z",
     "iopub.status.idle": "2025-03-13T03:26:08.374487Z",
     "shell.execute_reply": "2025-03-13T03:26:08.373696Z"
    },
    "papermill": {
     "duration": 0.014964,
     "end_time": "2025-03-13T03:26:08.375818",
     "exception": false,
     "start_time": "2025-03-13T03:26:08.360854",
     "status": "completed"
    },
    "tags": []
   },
   "outputs": [],
   "source": [
    "# # the network optimizer\n",
    "# 之前的\n",
    "# optimizer = getattr(optim, optim_name)(net.parameters(), **optim_kwargs)\n",
    "\n",
    "# # loss function\n",
    "# criterion = nn.CrossEntropyLoss()\n",
    "\n",
    "# # the network lr_scheduler\n",
    "# # scheduler = lr_scheduler.StepLR(optimizer, step_size=15,gamma=0.1)\n",
    "# # scheduler = torch.optim.lr_scheduler.CosineAnnealingLR(optimizer,T_max=num_epochs) #或者20？\n",
    "# # constant + cooldown\n",
    "# def update_learn_rate(optimizer, alpha):\n",
    "#     for param_group in optimizer.param_groups:\n",
    "#         param_group['lr'] = alpha"
   ]
  },
  {
   "cell_type": "code",
   "execution_count": 34,
   "id": "32160a56",
   "metadata": {
    "execution": {
     "iopub.execute_input": "2025-03-13T03:26:08.396330Z",
     "iopub.status.busy": "2025-03-13T03:26:08.396130Z",
     "iopub.status.idle": "2025-03-13T03:26:08.399295Z",
     "shell.execute_reply": "2025-03-13T03:26:08.398675Z"
    },
    "papermill": {
     "duration": 0.014806,
     "end_time": "2025-03-13T03:26:08.400513",
     "exception": false,
     "start_time": "2025-03-13T03:26:08.385707",
     "status": "completed"
    },
    "tags": []
   },
   "outputs": [],
   "source": [
    "# # training loop\n",
    "# 这个需要整理一下，如果要放的话\n",
    "# net.train()\n",
    "# for epoch in range(num_epochs):\n",
    "    \n",
    "#     running_loss = 0.0\n",
    "#     alpha = lr\n",
    "#     for i, (img, target) in enumerate(loader[\"train\"]):\n",
    "#         img, target = img.to(device), target.to(device)\n",
    "#         # 调整学习率\n",
    "#         if epoch <= 30 and (epoch + 1) % 5 == 0:\n",
    "#             alpha *= 0.98\n",
    "#             update_learn_rate(optimizer, alpha)  # 更新学习率\n",
    "#         elif epoch > 30 and epoch <= 70 and (epoch + 1) % 5 == 0:\n",
    "#             alpha *= 0.95\n",
    "#             update_learn_rate(optimizer, alpha)\n",
    "#         elif epoch > 70 and epoch <= 100 and (epoch + 1) % 5 == 0:\n",
    "#             alpha *= 0.925\n",
    "#             update_learn_rate(optimizer, alpha)\n",
    "#         elif epoch > 100 and (epoch + 1) % 5 == 0:\n",
    "#             alpha *= 0.5\n",
    "#             update_learn_rate(optimizer, alpha)\n",
    "\n",
    "#         pred = net(img)\n",
    "#         loss = criterion(pred, target)\n",
    "\n",
    "#         optimizer.zero_grad()\n",
    "#         loss.backward()\n",
    "#         optimizer.step()\n",
    "\n",
    "#         # print statistics\n",
    "#         running_loss += loss.item()\n",
    "#         if i % print_every == print_every - 1:\n",
    "#             print(f\"[epoch={epoch + 1:3d}, iter={i + 1:5d}] loss: {running_loss / print_every:.3f}\")\n",
    "#             running_loss = 0.0\n",
    "#     scheduler.step()\n",
    "# print(\"Finished Training\")"
   ]
  },
  {
   "cell_type": "code",
   "execution_count": 35,
   "id": "10dec5a7",
   "metadata": {
    "execution": {
     "iopub.execute_input": "2025-03-13T03:26:08.420998Z",
     "iopub.status.busy": "2025-03-13T03:26:08.420792Z",
     "iopub.status.idle": "2025-03-13T03:26:08.425207Z",
     "shell.execute_reply": "2025-03-13T03:26:08.424597Z"
    },
    "papermill": {
     "duration": 0.015877,
     "end_time": "2025-03-13T03:26:08.426362",
     "exception": false,
     "start_time": "2025-03-13T03:26:08.410485",
     "status": "completed"
    },
    "tags": []
   },
   "outputs": [],
   "source": [
    "# the network optimizer\n",
    "optimizer = getattr(optim, optim_name)(net.parameters(), **optim_kwargs)\n",
    "\n",
    "# Warm-up设置\n",
    "warmup_epochs = 0.1*num_epochs  # 设定warm-up的轮数\n",
    "initial_lr = 3e-4  # 初始学习率\n",
    "max_lr = 3e-3  # 最大学习率\n",
    "\n",
    "# 计算每个epoch的学习率\n",
    "def get_lr(epoch):\n",
    "    if epoch < warmup_epochs:\n",
    "        return initial_lr + (max_lr - initial_lr) * (epoch / warmup_epochs)\n",
    "    return max_lr  # warm-up结束后使用最大学习率\n",
    "\n",
    "# 在最后50%阶段设置cosinelr调度器\n",
    "scheduler = torch.optim.lr_scheduler.CosineAnnealingLR(optimizer, T_max=num_epochs*0.5, eta_min=1e-6)"
   ]
  },
  {
   "cell_type": "code",
   "execution_count": 36,
   "id": "c6c8dfcf",
   "metadata": {
    "execution": {
     "iopub.execute_input": "2025-03-13T03:26:08.446807Z",
     "iopub.status.busy": "2025-03-13T03:26:08.446594Z",
     "iopub.status.idle": "2025-03-13T05:30:17.867210Z",
     "shell.execute_reply": "2025-03-13T05:30:17.866155Z"
    },
    "papermill": {
     "duration": 7449.453493,
     "end_time": "2025-03-13T05:30:17.889774",
     "exception": false,
     "start_time": "2025-03-13T03:26:08.436281",
     "status": "completed"
    },
    "tags": []
   },
   "outputs": [
    {
     "name": "stdout",
     "output_type": "stream",
     "text": [
      "[epoch=  1, iter=  200] training loss: 2.011\n",
      "[epoch=  1, iter=  400] training loss: 1.809\n",
      "[epoch=  1, iter=  600] training loss: 1.694\n",
      "Epoch 1: Test Loss: 1.327, Accuracy: 51.04%\n",
      "[epoch=  2, iter=  200] training loss: 1.650\n",
      "[epoch=  2, iter=  400] training loss: 1.567\n",
      "[epoch=  2, iter=  600] training loss: 1.485\n",
      "Epoch 2: Test Loss: 1.116, Accuracy: 58.55%\n",
      "[epoch=  3, iter=  200] training loss: 1.450\n",
      "[epoch=  3, iter=  400] training loss: 1.402\n",
      "[epoch=  3, iter=  600] training loss: 1.354\n",
      "Epoch 3: Test Loss: 1.030, Accuracy: 63.44%\n",
      "[epoch=  4, iter=  200] training loss: 1.334\n",
      "[epoch=  4, iter=  400] training loss: 1.253\n",
      "[epoch=  4, iter=  600] training loss: 1.232\n",
      "Epoch 4: Test Loss: 0.875, Accuracy: 69.33%\n",
      "[epoch=  5, iter=  200] training loss: 1.237\n",
      "[epoch=  5, iter=  400] training loss: 1.197\n",
      "[epoch=  5, iter=  600] training loss: 1.157\n",
      "Epoch 5: Test Loss: 0.756, Accuracy: 74.05%\n",
      "[epoch=  6, iter=  200] training loss: 1.156\n",
      "[epoch=  6, iter=  400] training loss: 1.105\n",
      "[epoch=  6, iter=  600] training loss: 1.091\n",
      "Epoch 6: Test Loss: 0.744, Accuracy: 74.24%\n",
      "[epoch=  7, iter=  200] training loss: 1.076\n",
      "[epoch=  7, iter=  400] training loss: 1.036\n",
      "[epoch=  7, iter=  600] training loss: 1.026\n",
      "Epoch 7: Test Loss: 0.681, Accuracy: 77.72%\n",
      "[epoch=  8, iter=  200] training loss: 1.025\n",
      "[epoch=  8, iter=  400] training loss: 0.960\n",
      "[epoch=  8, iter=  600] training loss: 0.963\n",
      "Epoch 8: Test Loss: 2.549, Accuracy: 78.39%\n",
      "[epoch=  9, iter=  200] training loss: 0.929\n",
      "[epoch=  9, iter=  400] training loss: 0.919\n",
      "[epoch=  9, iter=  600] training loss: 0.918\n",
      "Epoch 9: Test Loss: 0.588, Accuracy: 79.87%\n",
      "[epoch= 10, iter=  200] training loss: 0.896\n",
      "[epoch= 10, iter=  400] training loss: 0.863\n",
      "[epoch= 10, iter=  600] training loss: 0.868\n",
      "Epoch 10: Test Loss: 0.616, Accuracy: 80.61%\n",
      "[epoch= 11, iter=  200] training loss: 0.840\n",
      "[epoch= 11, iter=  400] training loss: 0.851\n",
      "[epoch= 11, iter=  600] training loss: 0.821\n",
      "Epoch 11: Test Loss: 0.537, Accuracy: 81.70%\n",
      "[epoch= 12, iter=  200] training loss: 0.790\n",
      "[epoch= 12, iter=  400] training loss: 0.803\n",
      "[epoch= 12, iter=  600] training loss: 0.794\n",
      "Epoch 12: Test Loss: 0.587, Accuracy: 82.73%\n",
      "[epoch= 13, iter=  200] training loss: 0.758\n",
      "[epoch= 13, iter=  400] training loss: 0.748\n",
      "[epoch= 13, iter=  600] training loss: 0.757\n",
      "Epoch 13: Test Loss: 0.444, Accuracy: 85.26%\n",
      "[epoch= 14, iter=  200] training loss: 0.722\n",
      "[epoch= 14, iter=  400] training loss: 0.714\n",
      "[epoch= 14, iter=  600] training loss: 0.727\n",
      "Epoch 14: Test Loss: 0.474, Accuracy: 84.20%\n",
      "[epoch= 15, iter=  200] training loss: 0.715\n",
      "[epoch= 15, iter=  400] training loss: 0.714\n",
      "[epoch= 15, iter=  600] training loss: 0.702\n",
      "Epoch 15: Test Loss: 0.490, Accuracy: 83.58%\n",
      "[epoch= 16, iter=  200] training loss: 0.684\n",
      "[epoch= 16, iter=  400] training loss: 0.679\n",
      "[epoch= 16, iter=  600] training loss: 0.664\n",
      "Epoch 16: Test Loss: 0.421, Accuracy: 85.97%\n",
      "[epoch= 17, iter=  200] training loss: 0.633\n",
      "[epoch= 17, iter=  400] training loss: 0.652\n",
      "[epoch= 17, iter=  600] training loss: 0.646\n",
      "Epoch 17: Test Loss: 0.402, Accuracy: 86.50%\n",
      "[epoch= 18, iter=  200] training loss: 0.624\n",
      "[epoch= 18, iter=  400] training loss: 0.647\n",
      "[epoch= 18, iter=  600] training loss: 0.625\n",
      "Epoch 18: Test Loss: 0.384, Accuracy: 87.09%\n",
      "[epoch= 19, iter=  200] training loss: 0.600\n",
      "[epoch= 19, iter=  400] training loss: 0.616\n",
      "[epoch= 19, iter=  600] training loss: 0.602\n",
      "Epoch 19: Test Loss: 0.362, Accuracy: 87.63%\n",
      "[epoch= 20, iter=  200] training loss: 0.578\n",
      "[epoch= 20, iter=  400] training loss: 0.593\n",
      "[epoch= 20, iter=  600] training loss: 0.587\n",
      "Epoch 20: Test Loss: 0.408, Accuracy: 86.38%\n",
      "[epoch= 21, iter=  200] training loss: 0.560\n",
      "[epoch= 21, iter=  400] training loss: 0.558\n",
      "[epoch= 21, iter=  600] training loss: 0.560\n",
      "Epoch 21: Test Loss: 0.335, Accuracy: 88.71%\n",
      "[epoch= 22, iter=  200] training loss: 0.537\n",
      "[epoch= 22, iter=  400] training loss: 0.556\n",
      "[epoch= 22, iter=  600] training loss: 0.551\n",
      "Epoch 22: Test Loss: 0.362, Accuracy: 87.82%\n",
      "[epoch= 23, iter=  200] training loss: 0.526\n",
      "[epoch= 23, iter=  400] training loss: 0.531\n",
      "[epoch= 23, iter=  600] training loss: 0.536\n",
      "Epoch 23: Test Loss: 0.346, Accuracy: 88.45%\n",
      "[epoch= 24, iter=  200] training loss: 0.521\n",
      "[epoch= 24, iter=  400] training loss: 0.517\n",
      "[epoch= 24, iter=  600] training loss: 0.517\n",
      "Epoch 24: Test Loss: 0.356, Accuracy: 88.28%\n",
      "[epoch= 25, iter=  200] training loss: 0.522\n",
      "[epoch= 25, iter=  400] training loss: 0.501\n",
      "[epoch= 25, iter=  600] training loss: 0.509\n",
      "Epoch 25: Test Loss: 0.361, Accuracy: 88.37%\n",
      "[epoch= 26, iter=  200] training loss: 0.498\n",
      "[epoch= 26, iter=  400] training loss: 0.496\n",
      "[epoch= 26, iter=  600] training loss: 0.491\n",
      "Epoch 26: Test Loss: 0.366, Accuracy: 89.07%\n",
      "[epoch= 27, iter=  200] training loss: 0.480\n",
      "[epoch= 27, iter=  400] training loss: 0.467\n",
      "[epoch= 27, iter=  600] training loss: 0.497\n",
      "Epoch 27: Test Loss: 0.321, Accuracy: 89.46%\n",
      "[epoch= 28, iter=  200] training loss: 0.460\n",
      "[epoch= 28, iter=  400] training loss: 0.471\n",
      "[epoch= 28, iter=  600] training loss: 0.473\n",
      "Epoch 28: Test Loss: 0.325, Accuracy: 89.41%\n",
      "[epoch= 29, iter=  200] training loss: 0.457\n",
      "[epoch= 29, iter=  400] training loss: 0.456\n",
      "[epoch= 29, iter=  600] training loss: 0.451\n",
      "Epoch 29: Test Loss: 0.312, Accuracy: 89.54%\n",
      "[epoch= 30, iter=  200] training loss: 0.446\n",
      "[epoch= 30, iter=  400] training loss: 0.435\n",
      "[epoch= 30, iter=  600] training loss: 0.443\n",
      "Epoch 30: Test Loss: 0.315, Accuracy: 89.57%\n",
      "[epoch= 31, iter=  200] training loss: 0.428\n",
      "[epoch= 31, iter=  400] training loss: 0.420\n",
      "[epoch= 31, iter=  600] training loss: 0.427\n",
      "Epoch 31: Test Loss: 0.294, Accuracy: 90.61%\n",
      "[epoch= 32, iter=  200] training loss: 0.423\n",
      "[epoch= 32, iter=  400] training loss: 0.434\n",
      "[epoch= 32, iter=  600] training loss: 0.426\n",
      "Epoch 32: Test Loss: 0.300, Accuracy: 90.08%\n",
      "[epoch= 33, iter=  200] training loss: 0.419\n",
      "[epoch= 33, iter=  400] training loss: 0.415\n",
      "[epoch= 33, iter=  600] training loss: 0.403\n",
      "Epoch 33: Test Loss: 0.303, Accuracy: 89.93%\n",
      "[epoch= 34, iter=  200] training loss: 0.384\n",
      "[epoch= 34, iter=  400] training loss: 0.398\n",
      "[epoch= 34, iter=  600] training loss: 0.415\n",
      "Epoch 34: Test Loss: 0.284, Accuracy: 90.75%\n",
      "[epoch= 35, iter=  200] training loss: 0.400\n",
      "[epoch= 35, iter=  400] training loss: 0.393\n",
      "[epoch= 35, iter=  600] training loss: 0.400\n",
      "Epoch 35: Test Loss: 0.329, Accuracy: 89.77%\n",
      "[epoch= 36, iter=  200] training loss: 0.382\n",
      "[epoch= 36, iter=  400] training loss: 0.386\n",
      "[epoch= 36, iter=  600] training loss: 0.369\n",
      "Epoch 36: Test Loss: 0.287, Accuracy: 90.36%\n",
      "[epoch= 37, iter=  200] training loss: 0.378\n",
      "[epoch= 37, iter=  400] training loss: 0.368\n",
      "[epoch= 37, iter=  600] training loss: 0.381\n",
      "Epoch 37: Test Loss: 0.299, Accuracy: 90.52%\n",
      "[epoch= 38, iter=  200] training loss: 0.363\n",
      "[epoch= 38, iter=  400] training loss: 0.354\n",
      "[epoch= 38, iter=  600] training loss: 0.377\n",
      "Epoch 38: Test Loss: 0.286, Accuracy: 90.73%\n",
      "[epoch= 39, iter=  200] training loss: 0.355\n",
      "[epoch= 39, iter=  400] training loss: 0.358\n",
      "[epoch= 39, iter=  600] training loss: 0.462\n",
      "Epoch 39: Test Loss: 0.305, Accuracy: 90.34%\n",
      "[epoch= 40, iter=  200] training loss: 0.374\n",
      "[epoch= 40, iter=  400] training loss: 0.356\n",
      "[epoch= 40, iter=  600] training loss: 0.350\n",
      "Epoch 40: Test Loss: 0.274, Accuracy: 91.33%\n",
      "[epoch= 41, iter=  200] training loss: 0.340\n",
      "[epoch= 41, iter=  400] training loss: 0.326\n",
      "[epoch= 41, iter=  600] training loss: 0.332\n",
      "Epoch 41: Test Loss: 0.301, Accuracy: 90.56%\n",
      "[epoch= 42, iter=  200] training loss: 0.305\n",
      "[epoch= 42, iter=  400] training loss: 0.314\n",
      "[epoch= 42, iter=  600] training loss: 0.320\n",
      "Epoch 42: Test Loss: 0.272, Accuracy: 91.37%\n",
      "[epoch= 43, iter=  200] training loss: 0.311\n",
      "[epoch= 43, iter=  400] training loss: 0.301\n",
      "[epoch= 43, iter=  600] training loss: 0.300\n",
      "Epoch 43: Test Loss: 0.264, Accuracy: 91.28%\n",
      "[epoch= 44, iter=  200] training loss: 0.286\n",
      "[epoch= 44, iter=  400] training loss: 0.298\n",
      "[epoch= 44, iter=  600] training loss: 0.301\n",
      "Epoch 44: Test Loss: 0.275, Accuracy: 91.58%\n",
      "[epoch= 45, iter=  200] training loss: 0.280\n",
      "[epoch= 45, iter=  400] training loss: 0.283\n",
      "[epoch= 45, iter=  600] training loss: 0.281\n",
      "Epoch 45: Test Loss: 0.283, Accuracy: 91.35%\n",
      "[epoch= 46, iter=  200] training loss: 0.277\n",
      "[epoch= 46, iter=  400] training loss: 0.274\n",
      "[epoch= 46, iter=  600] training loss: 0.285\n",
      "Epoch 46: Test Loss: 0.272, Accuracy: 91.48%\n",
      "[epoch= 47, iter=  200] training loss: 0.262\n",
      "[epoch= 47, iter=  400] training loss: 0.261\n",
      "[epoch= 47, iter=  600] training loss: 0.265\n",
      "Epoch 47: Test Loss: 0.275, Accuracy: 91.63%\n",
      "[epoch= 48, iter=  200] training loss: 0.256\n",
      "[epoch= 48, iter=  400] training loss: 0.251\n",
      "[epoch= 48, iter=  600] training loss: 0.254\n",
      "Epoch 48: Test Loss: 0.280, Accuracy: 91.69%\n",
      "[epoch= 49, iter=  200] training loss: 0.236\n",
      "[epoch= 49, iter=  400] training loss: 0.245\n",
      "[epoch= 49, iter=  600] training loss: 0.240\n",
      "Epoch 49: Test Loss: 0.275, Accuracy: 91.99%\n",
      "[epoch= 50, iter=  200] training loss: 0.228\n",
      "[epoch= 50, iter=  400] training loss: 0.231\n",
      "[epoch= 50, iter=  600] training loss: 0.229\n",
      "Epoch 50: Test Loss: 0.262, Accuracy: 92.12%\n",
      "[epoch= 51, iter=  200] training loss: 0.220\n",
      "[epoch= 51, iter=  400] training loss: 0.211\n",
      "[epoch= 51, iter=  600] training loss: 0.218\n",
      "Epoch 51: Test Loss: 0.256, Accuracy: 92.41%\n",
      "[epoch= 52, iter=  200] training loss: 0.203\n",
      "[epoch= 52, iter=  400] training loss: 0.202\n",
      "[epoch= 52, iter=  600] training loss: 0.200\n",
      "Epoch 52: Test Loss: 0.261, Accuracy: 92.59%\n",
      "[epoch= 53, iter=  200] training loss: 0.208\n",
      "[epoch= 53, iter=  400] training loss: 0.206\n",
      "[epoch= 53, iter=  600] training loss: 0.199\n",
      "Epoch 53: Test Loss: 0.263, Accuracy: 92.36%\n",
      "[epoch= 54, iter=  200] training loss: 0.201\n",
      "[epoch= 54, iter=  400] training loss: 0.191\n",
      "[epoch= 54, iter=  600] training loss: 0.201\n",
      "Epoch 54: Test Loss: 0.264, Accuracy: 92.44%\n",
      "[epoch= 55, iter=  200] training loss: 0.190\n",
      "[epoch= 55, iter=  400] training loss: 0.176\n",
      "[epoch= 55, iter=  600] training loss: 0.191\n",
      "Epoch 55: Test Loss: 0.260, Accuracy: 92.81%\n",
      "[epoch= 56, iter=  200] training loss: 0.182\n",
      "[epoch= 56, iter=  400] training loss: 0.171\n",
      "[epoch= 56, iter=  600] training loss: 0.175\n",
      "Epoch 56: Test Loss: 0.259, Accuracy: 92.83%\n",
      "[epoch= 57, iter=  200] training loss: 0.160\n",
      "[epoch= 57, iter=  400] training loss: 0.170\n",
      "[epoch= 57, iter=  600] training loss: 0.173\n",
      "Epoch 57: Test Loss: 0.260, Accuracy: 92.66%\n",
      "[epoch= 58, iter=  200] training loss: 0.158\n",
      "[epoch= 58, iter=  400] training loss: 0.178\n",
      "[epoch= 58, iter=  600] training loss: 0.172\n",
      "Epoch 58: Test Loss: 0.251, Accuracy: 92.93%\n",
      "[epoch= 59, iter=  200] training loss: 0.160\n",
      "[epoch= 59, iter=  400] training loss: 0.169\n",
      "[epoch= 59, iter=  600] training loss: 0.165\n",
      "Epoch 59: Test Loss: 0.255, Accuracy: 92.92%\n",
      "[epoch= 60, iter=  200] training loss: 0.155\n",
      "[epoch= 60, iter=  400] training loss: 0.157\n",
      "[epoch= 60, iter=  600] training loss: 0.160\n",
      "Epoch 60: Test Loss: 0.252, Accuracy: 93.08%\n",
      "[epoch= 61, iter=  200] training loss: 0.154\n",
      "[epoch= 61, iter=  400] training loss: 0.160\n",
      "[epoch= 61, iter=  600] training loss: 0.155\n",
      "Epoch 61: Test Loss: 0.250, Accuracy: 92.91%\n",
      "[epoch= 62, iter=  200] training loss: 0.159\n",
      "[epoch= 62, iter=  400] training loss: 0.147\n",
      "[epoch= 62, iter=  600] training loss: 0.154\n",
      "Epoch 62: Test Loss: 0.248, Accuracy: 93.07%\n",
      "[epoch= 63, iter=  200] training loss: 0.162\n",
      "[epoch= 63, iter=  400] training loss: 0.153\n",
      "[epoch= 63, iter=  600] training loss: 0.154\n",
      "Epoch 63: Test Loss: 0.251, Accuracy: 93.17%\n",
      "[epoch= 64, iter=  200] training loss: 0.153\n",
      "[epoch= 64, iter=  400] training loss: 0.154\n",
      "[epoch= 64, iter=  600] training loss: 0.154\n",
      "Epoch 64: Test Loss: 0.249, Accuracy: 93.04%\n",
      "Finished Training\n"
     ]
    }
   ],
   "source": [
    "# loss function\n",
    "criterion = nn.CrossEntropyLoss()\n",
    "\n",
    "# 开启异常检测\n",
    "torch.autograd.set_detect_anomaly(True)\n",
    "\n",
    "# 训练循环\n",
    "losses = []\n",
    "accuracies = []\n",
    "test_losses = []\n",
    "learning_rates = []\n",
    "\n",
    "for epoch in range(num_epochs):\n",
    "    # 更新学习率\n",
    "    if epoch <= num_epochs*0.5:\n",
    "        current_lr = get_lr(epoch)\n",
    "    else:\n",
    "        scheduler.step() \n",
    "        current_lr = optimizer.param_groups[0]['lr']\n",
    "\n",
    "    learning_rates.append(current_lr)\n",
    "\n",
    "    for param_group in optimizer.param_groups:\n",
    "        param_group['lr'] = current_lr\n",
    "\n",
    "    # 训练阶段\n",
    "    net.train()\n",
    "    running_loss = 0.0\n",
    "    for i, (img, target) in enumerate(loader[\"train\"]):\n",
    "        img, target = img.to(device), target.to(device)\n",
    "        \n",
    "        pred = net(img)\n",
    "        loss = criterion(pred, target)\n",
    "        \n",
    "        optimizer.zero_grad()\n",
    "        loss.backward()\n",
    "        optimizer.step()\n",
    "        \n",
    "        running_loss += loss.item()\n",
    "        \n",
    "        if i % print_every == print_every - 1:\n",
    "            print(f\"[epoch={epoch + 1:3d}, iter={i + 1:5d}] training loss: {running_loss / print_every:.3f}\")\n",
    "            running_loss = 0.0\n",
    "    \n",
    "    # 每个epoch结束后进行一次评估\n",
    "    net.eval()\n",
    "    test_loss = 0.0\n",
    "    correct = 0\n",
    "    total = 0\n",
    "    \n",
    "    with torch.no_grad():\n",
    "        for img, target in loader[\"test\"]:\n",
    "            img, target = img.to(device), target.to(device)\n",
    "            \n",
    "            pred = net(img)\n",
    "            loss = criterion(pred, target)\n",
    "            \n",
    "            test_loss += loss.item()\n",
    "            total += len(target)\n",
    "            correct += (torch.argmax(pred, dim=1) == target).sum().item()\n",
    "    \n",
    "    # 计算平均损失和准确率\n",
    "    avg_test_loss = test_loss / len(loader[\"test\"])\n",
    "    accuracy = correct / total\n",
    "    \n",
    "    # 记录结果\n",
    "    losses.append(running_loss / print_every)\n",
    "    accuracies.append(accuracy)\n",
    "    test_losses.append(avg_test_loss)\n",
    "    \n",
    "    print(f\"Epoch {epoch + 1}: Test Loss: {avg_test_loss:.3f}, Accuracy: {100 * accuracy:.2f}%\")\n",
    "\n",
    "print(\"Finished Training\")\n"
   ]
  },
  {
   "cell_type": "code",
   "execution_count": 37,
   "id": "19826409",
   "metadata": {
    "execution": {
     "iopub.execute_input": "2025-03-13T05:30:17.932814Z",
     "iopub.status.busy": "2025-03-13T05:30:17.932523Z",
     "iopub.status.idle": "2025-03-13T05:30:27.718582Z",
     "shell.execute_reply": "2025-03-13T05:30:27.717519Z"
    },
    "papermill": {
     "duration": 9.809178,
     "end_time": "2025-03-13T05:30:27.719966",
     "exception": false,
     "start_time": "2025-03-13T05:30:17.910788",
     "status": "completed"
    },
    "tags": []
   },
   "outputs": [
    {
     "data": {
      "image/png": "[encoded data removed]",
      "text/plain": [
       "<Figure size 1800x500 with 3 Axes>"
      ]
     },
     "metadata": {},
     "output_type": "display_data"
    },
    {
     "data": {
      "image/png": "[encoded data removed]",
      "text/plain": [
       "<Figure size 1000x500 with 1 Axes>"
      ]
     },
     "metadata": {},
     "output_type": "display_data"
    },
    {
     "name": "stdout",
     "output_type": "stream",
     "text": [
      "Accuracy of the network on the 10000 test images: 93.04%\n"
     ]
    }
   ],
   "source": [
    "# 保存结果\n",
    "import pandas as pd\n",
    "import matplotlib.pyplot as plt\n",
    "\n",
    "results_df = pd.DataFrame({\n",
    "    'Epoch': range(1, num_epochs + 1),\n",
    "    'Training Loss': losses,\n",
    "    'Test Loss': test_losses,\n",
    "    'Test Accuracy': accuracies\n",
    "})\n",
    "\n",
    "results_df.to_excel('training_results_Variant4.xlsx', index=False)\n",
    "\n",
    "# 可视化\n",
    "plt.figure(figsize=(18, 5))\n",
    "\n",
    "# 训练损失曲线\n",
    "plt.subplot(1, 3, 1)\n",
    "plt.plot(results_df['Epoch'], results_df['Training Loss'], label='Training Loss')\n",
    "plt.xlabel('Epoch')\n",
    "plt.ylabel('Loss')\n",
    "plt.title('Training Loss')\n",
    "plt.legend()\n",
    "\n",
    "# 测试损失曲线\n",
    "plt.subplot(1, 3, 2)\n",
    "plt.plot(results_df['Epoch'], results_df['Test Loss'], label='Test Loss', color='orange')\n",
    "plt.xlabel('Epoch')\n",
    "plt.ylabel('Loss')\n",
    "plt.title('Test Loss')\n",
    "plt.legend()\n",
    "\n",
    "# 测试准确率曲线\n",
    "plt.subplot(1, 3, 3)\n",
    "plt.plot(results_df['Epoch'], results_df['Test Accuracy'], label='Test Accuracy', color='green')\n",
    "plt.xlabel('Epoch')\n",
    "plt.ylabel('Accuracy')\n",
    "plt.title('Test Accuracy')\n",
    "plt.legend()\n",
    "\n",
    "plt.tight_layout()\n",
    "plt.savefig('training_results_Variant4.jpg')\n",
    "plt.show()\n",
    "\n",
    "# 绘制学习率变化曲线\n",
    "plt.figure(figsize=(10, 5))\n",
    "plt.plot(range(num_epochs), learning_rates, label='Learning Rate', color='blue')\n",
    "plt.xlabel('Epochs')\n",
    "plt.ylabel('Learning Rate')\n",
    "plt.title('Learning Rate Schedule')\n",
    "plt.legend()\n",
    "plt.grid()\n",
    "plt.savefig('lr_schedule_Variant4.png')  # 保存图像\n",
    "plt.show()  # 显示图像\n",
    "\n",
    "# 保存模型\n",
    "torch.save(net.state_dict(), 'Variant4.pth')\n",
    "# 保存模型信息\n",
    "model_info = {\n",
    "    \"Optimizer\": type(optimizer).__name__,\n",
    "    \"Initail lr\": initial_lr,\n",
    "    \"max_lr\": max_lr,\n",
    "    \"Weight Decay\": optimizer.param_groups[0]['weight_decay'],\n",
    "    \"Network Architecture\": str(net),\n",
    "    \"Data Augmentation\": \"Enhanced\"\n",
    "}\n",
    "\n",
    "model_info_df = pd.DataFrame([model_info])\n",
    "model_info_df.to_excel('model_info_variant4.xlsx', index=False)\n",
    "\n",
    "net.eval()\n",
    "correct, total = 0, 0\n",
    "with torch.no_grad():\n",
    "    for img, target in loader[\"test\"]:\n",
    "        img, target = img.to(device), target.to(device)\n",
    "        \n",
    "        # make prediction\n",
    "        pred = net(img)\n",
    "        \n",
    "        # accumulate\n",
    "        total += len(target)\n",
    "        correct += (torch.argmax(pred, dim=1) == target).sum().item()\n",
    "\n",
    "print(f\"Accuracy of the network on the {total} test images: {100 * correct / total:.2f}%\")"
   ]
  },
  {
   "cell_type": "markdown",
   "id": "a7c7d01f",
   "metadata": {
    "papermill": {
     "duration": 0.024176,
     "end_time": "2025-03-13T05:30:27.769746",
     "exception": false,
     "start_time": "2025-03-13T05:30:27.745570",
     "status": "completed"
    },
    "tags": []
   },
   "source": [
    "## 5. Variant 4\n",
    "Changing the data augementation.  \n",
    "Ref: https://zhuanlan.zhihu.com/p/49180361"
   ]
  },
  {
   "cell_type": "code",
   "execution_count": 38,
   "id": "0ca7d3ec",
   "metadata": {
    "execution": {
     "iopub.execute_input": "2025-03-13T05:30:27.815904Z",
     "iopub.status.busy": "2025-03-13T05:30:27.815221Z",
     "iopub.status.idle": "2025-03-13T05:30:27.819164Z",
     "shell.execute_reply": "2025-03-13T05:30:27.818529Z"
    },
    "papermill": {
     "duration": 0.028199,
     "end_time": "2025-03-13T05:30:27.820516",
     "exception": false,
     "start_time": "2025-03-13T05:30:27.792317",
     "status": "completed"
    },
    "tags": []
   },
   "outputs": [],
   "source": [
    "# # prepare datasets\n",
    "# # preprocessing pipeline for input images\n",
    "# # 数据增强\n",
    "# transformation = dict()\n",
    "# for data_type in (\"train\", \"test\"):\n",
    "#     is_train = data_type==\"train\"\n",
    "#     if is_train:\n",
    "#         # 训练集使用增强的数据增强\n",
    "#         transformation[data_type] = tv_transforms.Compose([\n",
    "#             # 随机裁剪和填充\n",
    "#             tv_transforms.RandomCrop(32, padding=4, padding_mode='reflect'),\n",
    "#             # 随机水平翻转\n",
    "#             tv_transforms.RandomHorizontalFlip(),\n",
    "#             # 随机旋转\n",
    "#             tv_transforms.RandomRotation(degrees=15),\n",
    "#             # 随机仿射变换\n",
    "#             tv_transforms.RandomAffine(degrees=0, translate=(0.1, 0.1), scale=(0.9, 1.1)),\n",
    "#             # 颜色抖动\n",
    "#             tv_transforms.ColorJitter(brightness=0.2, contrast=0.2, saturation=0.2, hue=0.1),\n",
    "#             # 转换为张量\n",
    "#             tv_transforms.ToTensor(),\n",
    "#             # 标准化\n",
    "#             tv_transforms.Normalize(mean=[0.5, 0.5, 0.5], std=[0.5, 0.5, 0.5]),\n",
    "#             # 随机擦除\n",
    "#             tv_transforms.RandomErasing(p=0.5, scale=(0.02, 0.33), ratio=(0.3, 3.3)),\n",
    "#         ])\n",
    "#     else:\n",
    "#         # 测试集只进行基本转换\n",
    "#         transformation[data_type] = tv_transforms.Compose([\n",
    "#             tv_transforms.ToTensor(),\n",
    "#             tv_transforms.Normalize(mean=[0.5, 0.5, 0.5], std=[0.5, 0.5, 0.5]),\n",
    "#         ])\n",
    "        \n",
    "# num_workers = 2\n",
    "# batch_size = 64\n",
    "# dataset, loader = {}, {}\n",
    "# for data_type in (\"train\", \"test\"):\n",
    "#     is_train = data_type==\"train\"\n",
    "#     dataset[data_type] = tv_datasets.CIFAR10(\n",
    "#         root=\"./data\", train=is_train, download=True, transform=transformation[data_type],\n",
    "#     )\n",
    "#     loader[data_type] = torch.utils.data.DataLoader(\n",
    "#         dataset[data_type], batch_size=batch_size, shuffle=is_train, num_workers=num_workers,\n",
    "#     )\n"
   ]
  },
  {
   "cell_type": "code",
   "execution_count": 39,
   "id": "c8e731cc",
   "metadata": {
    "execution": {
     "iopub.execute_input": "2025-03-13T05:30:27.869175Z",
     "iopub.status.busy": "2025-03-13T05:30:27.868770Z",
     "iopub.status.idle": "2025-03-13T05:30:27.873039Z",
     "shell.execute_reply": "2025-03-13T05:30:27.872043Z"
    },
    "papermill": {
     "duration": 0.031425,
     "end_time": "2025-03-13T05:30:27.874617",
     "exception": false,
     "start_time": "2025-03-13T05:30:27.843192",
     "status": "completed"
    },
    "tags": []
   },
   "outputs": [],
   "source": [
    "# # some experimental setup\n",
    "# from torch.optim import lr_scheduler\n",
    "\n",
    "# device = torch.device(\"cuda:0\" if torch.cuda.is_available() else \"cpu\")\n",
    "\n",
    "# num_epochs = 64\n",
    "# print_every = 200\n",
    "\n",
    "# optim_name = \"AdamW\"\n",
    "# optim_kwargs = dict(\n",
    "#     lr=3e-4,\n",
    "#     weight_decay=1e-6,\n",
    "# )"
   ]
  },
  {
   "cell_type": "code",
   "execution_count": 40,
   "id": "95532b38",
   "metadata": {
    "collapsed": false,
    "execution": {
     "iopub.execute_input": "2025-03-13T05:30:27.936611Z",
     "iopub.status.busy": "2025-03-13T05:30:27.936209Z",
     "iopub.status.idle": "2025-03-13T05:30:27.940289Z",
     "shell.execute_reply": "2025-03-13T05:30:27.939432Z"
    },
    "jupyter": {
     "outputs_hidden": false
    },
    "papermill": {
     "duration": 0.036183,
     "end_time": "2025-03-13T05:30:27.941736",
     "exception": false,
     "start_time": "2025-03-13T05:30:27.905553",
     "status": "completed"
    },
    "tags": []
   },
   "outputs": [],
   "source": [
    "# # 使用Variant2的网络架构\n",
    "# net = nn.Sequential(\n",
    "#     nn.Conv2d(3, 256, 3, padding=1), nn.ReLU(inplace=True), nn.MaxPool2d(2), nn.BatchNorm2d(256),\n",
    "#     nn.Conv2d(256, 512, 3, padding=1), nn.ReLU(inplace=True), nn.MaxPool2d(2), nn.BatchNorm2d(512),\n",
    "#     nn.Conv2d(512, 1024, 3, padding=1), nn.ReLU(inplace=True), nn.BatchNorm2d(1024),\n",
    "#     nn.Conv2d(1024, 1024, 3, padding=1), nn.ReLU(inplace=True), nn.BatchNorm2d(1024),\n",
    "#     nn.Conv2d(1024, 2048, 3, padding=1), nn.ReLU(inplace=True), nn.BatchNorm2d(2048),\n",
    "#     nn.Conv2d(2048, 2048, 3, padding=1), nn.ReLU(inplace=True), nn.BatchNorm2d(2048),\n",
    "#     nn.Conv2d(2048, 1024, 3, padding=1), nn.ReLU(inplace=True), nn.MaxPool2d(2), nn.BatchNorm2d(1024),\n",
    "    \n",
    "#     nn.Flatten(),\n",
    "    \n",
    "#     nn.Linear(1024 * 4 * 4, 2048), nn.ReLU(inplace=True), nn.Dropout(0.3), nn.BatchNorm1d(2048),\n",
    "#     nn.Linear(2048, 1024), nn.ReLU(inplace=True), nn.Dropout(0.3), nn.BatchNorm1d(1024),\n",
    "#     nn.Linear(1024, 512), nn.ReLU(inplace=True), nn.Dropout(0.3), nn.BatchNorm1d(512),\n",
    "#     nn.Linear(512, 10),\n",
    "# )\n",
    "# # 移动到设备\n",
    "# net.to(device)\n",
    "\n",
    "# # 打印参数数量\n",
    "# print(f\"number of parameters: {sum(p.numel() for p in net.parameters() if p.requires_grad) / 1_000_000:.2f}M\")\n",
    "\n"
   ]
  },
  {
   "cell_type": "code",
   "execution_count": 41,
   "id": "cc89a6b7",
   "metadata": {
    "execution": {
     "iopub.execute_input": "2025-03-13T05:30:27.989173Z",
     "iopub.status.busy": "2025-03-13T05:30:27.988791Z",
     "iopub.status.idle": "2025-03-13T05:30:27.993642Z",
     "shell.execute_reply": "2025-03-13T05:30:27.992832Z"
    },
    "papermill": {
     "duration": 0.029746,
     "end_time": "2025-03-13T05:30:27.995023",
     "exception": false,
     "start_time": "2025-03-13T05:30:27.965277",
     "status": "completed"
    },
    "tags": []
   },
   "outputs": [],
   "source": [
    "# # the network optimizer\n",
    "# optimizer = getattr(optim, optim_name)(net.parameters(), **optim_kwargs)\n",
    "\n",
    "# # loss function\n",
    "# criterion = nn.CrossEntropyLoss()\n",
    "\n",
    "# # 开启异常检测\n",
    "# torch.autograd.set_detect_anomaly(True)\n",
    "\n",
    "# # 训练循环\n",
    "# losses = []\n",
    "# accuracies = []\n",
    "# test_losses = []\n",
    "\n",
    "# for epoch in range(num_epochs):\n",
    "#     # 训练阶段\n",
    "#     net.train()\n",
    "#     running_loss = 0.0\n",
    "#     for i, (img, target) in enumerate(loader[\"train\"]):\n",
    "#         img, target = img.to(device), target.to(device)\n",
    "        \n",
    "#         pred = net(img)\n",
    "#         loss = criterion(pred, target)\n",
    "        \n",
    "#         optimizer.zero_grad()\n",
    "#         loss.backward()\n",
    "#         optimizer.step()\n",
    "        \n",
    "#         running_loss += loss.item()\n",
    "        \n",
    "#         if i % print_every == print_every - 1:\n",
    "#             print(f\"[epoch={epoch + 1:3d}, iter={i + 1:5d}] training loss: {running_loss / print_every:.3f}\")\n",
    "#             running_loss = 0.0\n",
    "    \n",
    "#     # 每个epoch结束后进行一次评估\n",
    "#     net.eval()\n",
    "#     test_loss = 0.0\n",
    "#     correct = 0\n",
    "#     total = 0\n",
    "    \n",
    "#     with torch.no_grad():\n",
    "#         for img, target in loader[\"test\"]:\n",
    "#             img, target = img.to(device), target.to(device)\n",
    "            \n",
    "#             pred = net(img)\n",
    "#             loss = criterion(pred, target)\n",
    "            \n",
    "#             test_loss += loss.item()\n",
    "#             total += len(target)\n",
    "#             correct += (torch.argmax(pred, dim=1) == target).sum().item()\n",
    "    \n",
    "#     # 计算平均损失和准确率\n",
    "#     avg_test_loss = test_loss / len(loader[\"test\"])\n",
    "#     accuracy = correct / total\n",
    "    \n",
    "#     # 记录结果\n",
    "#     losses.append(running_loss / print_every)\n",
    "#     accuracies.append(accuracy)\n",
    "#     test_losses.append(avg_test_loss)\n",
    "    \n",
    "#     print(f\"Epoch {epoch + 1}: Test Loss: {avg_test_loss:.3f}, Accuracy: {100 * accuracy:.2f}%\")\n",
    "\n",
    "# print(\"Finished Training\")"
   ]
  },
  {
   "cell_type": "code",
   "execution_count": 42,
   "id": "f39124aa",
   "metadata": {
    "collapsed": false,
    "execution": {
     "iopub.execute_input": "2025-03-13T05:30:28.119217Z",
     "iopub.status.busy": "2025-03-13T05:30:28.118731Z",
     "iopub.status.idle": "2025-03-13T05:30:28.126988Z",
     "shell.execute_reply": "2025-03-13T05:30:28.126037Z"
    },
    "jupyter": {
     "outputs_hidden": false
    },
    "papermill": {
     "duration": 0.111237,
     "end_time": "2025-03-13T05:30:28.129327",
     "exception": false,
     "start_time": "2025-03-13T05:30:28.018090",
     "status": "completed"
    },
    "tags": []
   },
   "outputs": [],
   "source": [
    "# # 保存结果\n",
    "# import pandas as pd\n",
    "# import matplotlib.pyplot as plt\n",
    "\n",
    "# results_df = pd.DataFrame({\n",
    "#     'Epoch': range(1, num_epochs + 1),\n",
    "#     'Training Loss': losses,\n",
    "#     'Test Loss': test_losses,\n",
    "#     'Test Accuracy': accuracies\n",
    "# })\n",
    "\n",
    "# results_df.to_excel('training_results_Variant5.xlsx', index=False)\n",
    "\n",
    "# # 可视化\n",
    "# plt.figure(figsize=(18, 5))\n",
    "\n",
    "# # 训练损失曲线\n",
    "# plt.subplot(1, 3, 1)\n",
    "# plt.plot(results_df['Epoch'], results_df['Training Loss'], label='Training Loss')\n",
    "# plt.xlabel('Epoch')\n",
    "# plt.ylabel('Loss')\n",
    "# plt.title('Training Loss')\n",
    "# plt.legend()\n",
    "\n",
    "# # 测试损失曲线\n",
    "# plt.subplot(1, 3, 2)\n",
    "# plt.plot(results_df['Epoch'], results_df['Test Loss'], label='Test Loss', color='orange')\n",
    "# plt.xlabel('Epoch')\n",
    "# plt.ylabel('Loss')\n",
    "# plt.title('Test Loss')\n",
    "# plt.legend()\n",
    "\n",
    "# # 测试准确率曲线\n",
    "# plt.subplot(1, 3, 3)\n",
    "# plt.plot(results_df['Epoch'], results_df['Test Accuracy'], label='Test Accuracy', color='green')\n",
    "# plt.xlabel('Epoch')\n",
    "# plt.ylabel('Accuracy')\n",
    "# plt.title('Test Accuracy')\n",
    "# plt.legend()\n",
    "\n",
    "# plt.tight_layout()\n",
    "# plt.savefig('training_results_Variant5.jpg')\n",
    "# plt.show()\n",
    "\n",
    "# # 保存模型\n",
    "# torch.save(net.state_dict(), 'Variant5.pth')\n",
    "# # 保存模型信息\n",
    "# model_info = {\n",
    "#     \"Optimizer\": type(optimizer).__name__,\n",
    "#     \"Learning Rate\": optimizer.param_groups[0]['lr'],\n",
    "#     \"Weight Decay\": optimizer.param_groups[0]['weight_decay'],\n",
    "#     \"Network Architecture\": str(net),\n",
    "#     \"Data Augmentation\": \"Enhanced\"\n",
    "# }\n",
    "\n",
    "# model_info_df = pd.DataFrame([model_info])\n",
    "# model_info_df.to_excel('model_info_variant5.xlsx', index=False)\n",
    "\n",
    "# net.eval()\n",
    "# correct, total = 0, 0\n",
    "# with torch.no_grad():\n",
    "#     for img, target in loader[\"test\"]:\n",
    "#         img, target = img.to(device), target.to(device)\n",
    "        \n",
    "#         # make prediction\n",
    "#         pred = net(img)\n",
    "        \n",
    "#         # accumulate\n",
    "#         total += len(target)\n",
    "#         correct += (torch.argmax(pred, dim=1) == target).sum().item()\n",
    "\n",
    "# print(f\"Accuracy of the network on the {total} test images: {100 * correct / total:.2f}%\")"
   ]
  }
 ],
 "metadata": {
  "kaggle": {
   "accelerator": "gpu",
   "dataSources": [],
   "dockerImageVersionId": 30918,
   "isGpuEnabled": true,
   "isInternetEnabled": true,
   "language": "python",
   "sourceType": "notebook"
  },
  "kernelspec": {
   "display_name": "Python 3",
   "language": "python",
   "name": "python3"
  },
  "language_info": {
   "codemirror_mode": {
    "name": "ipython",
    "version": 3
   },
   "file_extension": ".py",
   "mimetype": "text/x-python",
   "name": "python",
   "nbconvert_exporter": "python",
   "pygments_lexer": "ipython3",
   "version": "3.10.12"
  },
  "papermill": {
   "default_parameters": {},
   "duration": 7481.099901,
   "end_time": "2025-03-13T05:30:30.696439",
   "environment_variables": {},
   "exception": null,
   "input_path": "__notebook__.ipynb",
   "output_path": "__notebook__.ipynb",
   "parameters": {},
   "start_time": "2025-03-13T03:25:49.596538",
   "version": "2.6.0"
  }
 },
 "nbformat": 4,
 "nbformat_minor": 5
}
