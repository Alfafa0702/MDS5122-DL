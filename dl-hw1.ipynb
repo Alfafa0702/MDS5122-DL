{
 "cells": [
  {
   "cell_type": "markdown",
   "id": "57c12e6e",
   "metadata": {
    "papermill": {
     "duration": 0.007326,
     "end_time": "2025-03-01T07:18:44.277001",
     "exception": false,
     "start_time": "2025-03-01T07:18:44.269675",
     "status": "completed"
    },
    "tags": []
   },
   "source": [
    "# Assignment 1 - Code Example - Part A\n",
    "\n",
    "This code baseline is inspired by and modified from [this great tutorial](https://pytorch.org/tutorials/beginner/blitz/cifar10_tutorial.html).\n",
    "\n",
    "This code can achieve an accuracy of approximately 86.50% on CIFAR-10. Please set up the environment and run your experiments starting from this baseline. You are expected to achieve an accuracy higher than this baseline."
   ]
  },
  {
   "cell_type": "code",
   "execution_count": 1,
   "id": "4409cfa7",
   "metadata": {
    "collapsed": false,
    "execution": {
     "iopub.execute_input": "2025-03-01T07:18:44.291813Z",
     "iopub.status.busy": "2025-03-01T07:18:44.291473Z",
     "iopub.status.idle": "2025-03-01T07:18:56.001713Z",
     "shell.execute_reply": "2025-03-01T07:18:56.000984Z"
    },
    "jupyter": {
     "outputs_hidden": false
    },
    "papermill": {
     "duration": 11.719476,
     "end_time": "2025-03-01T07:18:56.003274",
     "exception": false,
     "start_time": "2025-03-01T07:18:44.283798",
     "status": "completed"
    },
    "tags": []
   },
   "outputs": [
    {
     "name": "stdout",
     "output_type": "stream",
     "text": [
      "Looking in indexes: https://download.pytorch.org/whl/cu121\r\n",
      "Requirement already satisfied: torch in /usr/local/lib/python3.10/dist-packages (2.5.1+cu121)\r\n",
      "Requirement already satisfied: torchvision in /usr/local/lib/python3.10/dist-packages (0.20.1+cu121)\r\n",
      "Requirement already satisfied: torchaudio in /usr/local/lib/python3.10/dist-packages (2.5.1+cu121)\r\n",
      "Requirement already satisfied: filelock in /usr/local/lib/python3.10/dist-packages (from torch) (3.17.0)\r\n",
      "Requirement already satisfied: typing-extensions>=4.8.0 in /usr/local/lib/python3.10/dist-packages (from torch) (4.12.2)\r\n",
      "Requirement already satisfied: networkx in /usr/local/lib/python3.10/dist-packages (from torch) (3.4.2)\r\n",
      "Requirement already satisfied: jinja2 in /usr/local/lib/python3.10/dist-packages (from torch) (3.1.4)\r\n",
      "Requirement already satisfied: fsspec in /usr/local/lib/python3.10/dist-packages (from torch) (2024.12.0)\r\n",
      "Requirement already satisfied: sympy==1.13.1 in /usr/local/lib/python3.10/dist-packages (from torch) (1.13.1)\r\n",
      "Requirement already satisfied: mpmath<1.4,>=1.1.0 in /usr/local/lib/python3.10/dist-packages (from sympy==1.13.1->torch) (1.3.0)\r\n",
      "Requirement already satisfied: numpy in /usr/local/lib/python3.10/dist-packages (from torchvision) (1.26.4)\r\n",
      "Requirement already satisfied: pillow!=8.3.*,>=5.3.0 in /usr/local/lib/python3.10/dist-packages (from torchvision) (11.0.0)\r\n",
      "Requirement already satisfied: MarkupSafe>=2.0 in /usr/local/lib/python3.10/dist-packages (from jinja2->torch) (3.0.2)\r\n",
      "Requirement already satisfied: mkl_fft in /usr/local/lib/python3.10/dist-packages (from numpy->torchvision) (1.3.8)\r\n",
      "Requirement already satisfied: mkl_random in /usr/local/lib/python3.10/dist-packages (from numpy->torchvision) (1.2.4)\r\n",
      "Requirement already satisfied: mkl_umath in /usr/local/lib/python3.10/dist-packages (from numpy->torchvision) (0.1.1)\r\n",
      "Requirement already satisfied: mkl in /usr/local/lib/python3.10/dist-packages (from numpy->torchvision) (2025.0.1)\r\n",
      "Requirement already satisfied: tbb4py in /usr/local/lib/python3.10/dist-packages (from numpy->torchvision) (2022.0.0)\r\n",
      "Requirement already satisfied: mkl-service in /usr/local/lib/python3.10/dist-packages (from numpy->torchvision) (2.4.1)\r\n",
      "Requirement already satisfied: intel-openmp>=2024 in /usr/local/lib/python3.10/dist-packages (from mkl->numpy->torchvision) (2024.2.0)\r\n",
      "Requirement already satisfied: tbb==2022.* in /usr/local/lib/python3.10/dist-packages (from mkl->numpy->torchvision) (2022.0.0)\r\n",
      "Requirement already satisfied: tcmlib==1.* in /usr/local/lib/python3.10/dist-packages (from tbb==2022.*->mkl->numpy->torchvision) (1.2.0)\r\n",
      "Requirement already satisfied: intel-cmplr-lib-rt in /usr/local/lib/python3.10/dist-packages (from mkl_umath->numpy->torchvision) (2024.2.0)\r\n",
      "Requirement already satisfied: intel-cmplr-lib-ur==2024.2.0 in /usr/local/lib/python3.10/dist-packages (from intel-openmp>=2024->mkl->numpy->torchvision) (2024.2.0)\r\n"
     ]
    }
   ],
   "source": [
    "# import some necessary packages\n",
    "!pip3 install torch torchvision torchaudio --index-url https://download.pytorch.org/whl/cu121\n",
    "import torch\n",
    "import torch.nn as nn\n",
    "import torch.optim as optim\n",
    "\n",
    "import torchvision.datasets as tv_datasets\n",
    "import torchvision.transforms as tv_transforms\n",
    "import matplotlib.pyplot as plt"
   ]
  },
  {
   "cell_type": "code",
   "execution_count": 2,
   "id": "add4e6a9",
   "metadata": {
    "execution": {
     "iopub.execute_input": "2025-03-01T07:18:56.018270Z",
     "iopub.status.busy": "2025-03-01T07:18:56.017868Z",
     "iopub.status.idle": "2025-03-01T07:18:56.119416Z",
     "shell.execute_reply": "2025-03-01T07:18:56.118438Z"
    },
    "papermill": {
     "duration": 0.110134,
     "end_time": "2025-03-01T07:18:56.120618",
     "exception": false,
     "start_time": "2025-03-01T07:18:56.010484",
     "status": "completed"
    },
    "tags": []
   },
   "outputs": [
    {
     "name": "stdout",
     "output_type": "stream",
     "text": [
      "CUDA Version: 12.1\n",
      "CUDA Device: Tesla T4\n",
      "PyTorch Version: 2.5.1+cu121\n",
      "torchvision Version: 0.20.1+cu121\n"
     ]
    }
   ],
   "source": [
    "if torch.cuda.is_available():\n",
    "    print(\"CUDA Version:\", torch.version.cuda)\n",
    "    print(\"CUDA Device:\", torch.cuda.get_device_name(0))\n",
    "else:\n",
    "    print(\"CUDA is not available.\")\n",
    "\n",
    "print(f\"PyTorch Version: {torch.__version__}\")\n",
    "import torchvision\n",
    "print(f\"torchvision Version: {torchvision.__version__}\")"
   ]
  },
  {
   "cell_type": "markdown",
   "id": "b57b38f6",
   "metadata": {
    "papermill": {
     "duration": 0.006577,
     "end_time": "2025-03-01T07:18:56.134473",
     "exception": false,
     "start_time": "2025-03-01T07:18:56.127896",
     "status": "completed"
    },
    "tags": []
   },
   "source": [
    "## 1. Baseline Model\n",
    "### 1.1 Settings"
   ]
  },
  {
   "cell_type": "code",
   "execution_count": 3,
   "id": "486f7d13",
   "metadata": {
    "execution": {
     "iopub.execute_input": "2025-03-01T07:18:56.148428Z",
     "iopub.status.busy": "2025-03-01T07:18:56.148203Z",
     "iopub.status.idle": "2025-03-01T07:18:56.150950Z",
     "shell.execute_reply": "2025-03-01T07:18:56.150314Z"
    },
    "papermill": {
     "duration": 0.011149,
     "end_time": "2025-03-01T07:18:56.152219",
     "exception": false,
     "start_time": "2025-03-01T07:18:56.141070",
     "status": "completed"
    },
    "tags": []
   },
   "outputs": [],
   "source": [
    "# # some experimental setup\n",
    "# device = torch.device(\"cuda:0\" if torch.cuda.is_available() else \"cpu\")\n",
    "\n",
    "# num_epochs = 128\n",
    "# batch_size = 64\n",
    "# print_every = 200\n",
    "\n",
    "# optim_name = \"Adam\"\n",
    "# optim_kwargs = dict(\n",
    "#     lr=3e-4,\n",
    "#     weight_decay=1e-6,\n",
    "# )"
   ]
  },
  {
   "cell_type": "code",
   "execution_count": 4,
   "id": "0ffc238a",
   "metadata": {
    "collapsed": false,
    "execution": {
     "iopub.execute_input": "2025-03-01T07:18:56.166468Z",
     "iopub.status.busy": "2025-03-01T07:18:56.166229Z",
     "iopub.status.idle": "2025-03-01T07:18:56.169496Z",
     "shell.execute_reply": "2025-03-01T07:18:56.168687Z"
    },
    "jupyter": {
     "outputs_hidden": false
    },
    "papermill": {
     "duration": 0.011792,
     "end_time": "2025-03-01T07:18:56.170802",
     "exception": false,
     "start_time": "2025-03-01T07:18:56.159010",
     "status": "completed"
    },
    "tags": []
   },
   "outputs": [],
   "source": [
    "# # prepare datasets\n",
    "# # preprocessing pipeline for input images\n",
    "# transformation = dict()\n",
    "# for data_type in (\"train\", \"test\"):\n",
    "#     is_train = data_type==\"train\"\n",
    "#     transformation[data_type] = tv_transforms.Compose(([\n",
    "#         tv_transforms.RandomRotation(degrees=15),\n",
    "#         tv_transforms.RandomHorizontalFlip(),\n",
    "#         tv_transforms.RandomAffine(degrees=0, translate=(0.1, 0.1)),\n",
    "#     ] if is_train else []) + \n",
    "#     [\n",
    "#         tv_transforms.ToTensor(),\n",
    "#         tv_transforms.Normalize(mean=[0.5, 0.5, 0.5], std=[0.5, 0.5, 0.5]),\n",
    "#     ])\n",
    "    \n",
    "# num_workers = 2\n",
    "# dataset, loader = {}, {}\n",
    "# for data_type in (\"train\", \"test\"):\n",
    "#     is_train = data_type==\"train\"\n",
    "#     dataset[data_type] = tv_datasets.CIFAR10(\n",
    "#         root=\"./data\", train=is_train, download=True, transform=transformation[data_type],\n",
    "#     )\n",
    "#     loader[data_type] = torch.utils.data.DataLoader(\n",
    "#         dataset[data_type], batch_size=batch_size, shuffle=is_train, num_workers=num_workers,\n",
    "#     )\n"
   ]
  },
  {
   "cell_type": "code",
   "execution_count": 5,
   "id": "18a0b1fb",
   "metadata": {
    "collapsed": false,
    "execution": {
     "iopub.execute_input": "2025-03-01T07:18:56.185114Z",
     "iopub.status.busy": "2025-03-01T07:18:56.184847Z",
     "iopub.status.idle": "2025-03-01T07:18:56.188017Z",
     "shell.execute_reply": "2025-03-01T07:18:56.187218Z"
    },
    "jupyter": {
     "outputs_hidden": false
    },
    "papermill": {
     "duration": 0.011907,
     "end_time": "2025-03-01T07:18:56.189327",
     "exception": false,
     "start_time": "2025-03-01T07:18:56.177420",
     "status": "completed"
    },
    "tags": []
   },
   "outputs": [],
   "source": [
    "# # our network architecture\n",
    "# net = nn.Sequential(\n",
    "#     nn.Conv2d(3, 128, 3, padding=1), nn.ReLU(inplace=True), nn.MaxPool2d(2), nn.Dropout(0.3),\n",
    "#     nn.Conv2d(128, 256, 3, padding=1), nn.ReLU(inplace=True), nn.MaxPool2d(2), nn.Dropout(0.3),\n",
    "#     nn.Conv2d(256, 512, 3, padding=1), nn.ReLU(inplace=True),\n",
    "#     nn.Conv2d(512, 512, 3, padding=1), nn.ReLU(inplace=True),\n",
    "#     nn.Conv2d(512, 256, 3, padding=1), nn.ReLU(inplace=True), nn.MaxPool2d(2), nn.Dropout(0.3),\n",
    "#     nn.Flatten(),\n",
    "#     nn.Linear(256 * 4 * 4, 512), nn.ReLU(inplace=True), nn.Dropout(0.5),\n",
    "#     nn.Linear(512, 256), nn.ReLU(inplace=True), nn.Dropout(0.5),\n",
    "#     nn.Linear(256, 128), nn.ReLU(inplace=True), nn.Dropout(0.5),\n",
    "#     nn.Linear(128, 10),\n",
    "# )\n",
    "\n",
    "# # move to device\n",
    "# net.to(device)\n",
    "\n",
    "# # print the number of parameters\n",
    "# print(f\"number of parameters: {sum(p.numel() for p in net.parameters() if p.requires_grad) / 1_000_000:.2f}M\")"
   ]
  },
  {
   "cell_type": "markdown",
   "id": "c574c05d",
   "metadata": {
    "papermill": {
     "duration": 0.00649,
     "end_time": "2025-03-01T07:18:56.202440",
     "exception": false,
     "start_time": "2025-03-01T07:18:56.195950",
     "status": "completed"
    },
    "tags": []
   },
   "source": [
    "### 1.2 Start Training"
   ]
  },
  {
   "cell_type": "code",
   "execution_count": 6,
   "id": "aeeec36b",
   "metadata": {
    "collapsed": true,
    "execution": {
     "iopub.execute_input": "2025-03-01T07:18:56.216690Z",
     "iopub.status.busy": "2025-03-01T07:18:56.216295Z",
     "iopub.status.idle": "2025-03-01T07:18:56.219686Z",
     "shell.execute_reply": "2025-03-01T07:18:56.218906Z"
    },
    "jupyter": {
     "outputs_hidden": true
    },
    "papermill": {
     "duration": 0.011805,
     "end_time": "2025-03-01T07:18:56.220978",
     "exception": false,
     "start_time": "2025-03-01T07:18:56.209173",
     "status": "completed"
    },
    "tags": []
   },
   "outputs": [],
   "source": [
    "# # the network optimizer\n",
    "# optimizer = getattr(optim, optim_name)(net.parameters(), **optim_kwargs)\n",
    "\n",
    "# # loss function\n",
    "# criterion = nn.CrossEntropyLoss()\n",
    "\n",
    "# # training loop\n",
    "# net.train()\n",
    "# for epoch in range(num_epochs):\n",
    "\n",
    "#     running_loss = 0.0\n",
    "#     for i, (img, target) in enumerate(loader[\"train\"]):\n",
    "#         img, target = img.to(device), target.to(device)\n",
    "\n",
    "#         pred = net(img)\n",
    "#         loss = criterion(pred, target)\n",
    "\n",
    "#         optimizer.zero_grad()\n",
    "#         loss.backward()\n",
    "#         optimizer.step()\n",
    "\n",
    "#         # print statistics\n",
    "#         running_loss += loss.item()\n",
    "#         if i % print_every == print_every - 1:\n",
    "#             print(f\"[epoch={epoch + 1:3d}, iter={i + 1:5d}] loss: {running_loss / print_every:.3f}\")\n",
    "#             running_loss = 0.0\n",
    "\n",
    "# print(\"Finished Training\")"
   ]
  },
  {
   "cell_type": "markdown",
   "id": "e8e21a4c",
   "metadata": {
    "papermill": {
     "duration": 0.00655,
     "end_time": "2025-03-01T07:18:56.234297",
     "exception": false,
     "start_time": "2025-03-01T07:18:56.227747",
     "status": "completed"
    },
    "tags": []
   },
   "source": [
    "### 1.3 Evaluating its accuracy"
   ]
  },
  {
   "cell_type": "code",
   "execution_count": 7,
   "id": "4dd570ef",
   "metadata": {
    "collapsed": false,
    "execution": {
     "iopub.execute_input": "2025-03-01T07:18:56.248548Z",
     "iopub.status.busy": "2025-03-01T07:18:56.248310Z",
     "iopub.status.idle": "2025-03-01T07:18:56.251394Z",
     "shell.execute_reply": "2025-03-01T07:18:56.250619Z"
    },
    "jupyter": {
     "outputs_hidden": false
    },
    "papermill": {
     "duration": 0.011404,
     "end_time": "2025-03-01T07:18:56.252626",
     "exception": false,
     "start_time": "2025-03-01T07:18:56.241222",
     "status": "completed"
    },
    "tags": []
   },
   "outputs": [],
   "source": [
    "# net.eval()\n",
    "# correct, total = 0, 0\n",
    "# with torch.no_grad():\n",
    "#     for img, target in loader[\"test\"]:\n",
    "#         img, target = img.to(device), target.to(device)\n",
    "        \n",
    "#         # make prediction\n",
    "#         pred = net(img)\n",
    "        \n",
    "#         # accumulate\n",
    "#         total += len(target)\n",
    "#         correct += (torch.argmax(pred, dim=1) == target).sum().item()\n",
    "\n",
    "# print(f\"Accuracy of the network on the {total} test images: {100 * correct / total:.2f}%\")"
   ]
  },
  {
   "cell_type": "markdown",
   "id": "4088ee21",
   "metadata": {
    "papermill": {
     "duration": 0.006395,
     "end_time": "2025-03-01T07:18:56.265421",
     "exception": false,
     "start_time": "2025-03-01T07:18:56.259026",
     "status": "completed"
    },
    "tags": []
   },
   "source": [
    "## 2. Variant 1\n",
    "Adding batchnorm dropping the dropout layers in conv blocks, and decreasing the dropout ratio in linear layers.  \n",
    "Time consuming: 50m  \n",
    "last loss: 0.037  \n",
    "Test acc: 89.67%"
   ]
  },
  {
   "cell_type": "code",
   "execution_count": 8,
   "id": "7dc5842a",
   "metadata": {
    "execution": {
     "iopub.execute_input": "2025-03-01T07:18:56.279370Z",
     "iopub.status.busy": "2025-03-01T07:18:56.279134Z",
     "iopub.status.idle": "2025-03-01T07:18:56.282986Z",
     "shell.execute_reply": "2025-03-01T07:18:56.282188Z"
    },
    "papermill": {
     "duration": 0.012247,
     "end_time": "2025-03-01T07:18:56.284158",
     "exception": false,
     "start_time": "2025-03-01T07:18:56.271911",
     "status": "completed"
    },
    "tags": []
   },
   "outputs": [],
   "source": [
    "# some experimental setup\n",
    "device = torch.device(\"cuda:0\" if torch.cuda.is_available() else \"cpu\")\n",
    "\n",
    "num_epochs = 32\n",
    "batch_size = 64\n",
    "print_every = 200\n",
    "\n",
    "optim_name = \"Adam\"\n",
    "optim_kwargs = dict(\n",
    "    lr=3e-4,\n",
    "    weight_decay=1e-6,\n",
    ")"
   ]
  },
  {
   "cell_type": "code",
   "execution_count": 9,
   "id": "c85aaea8",
   "metadata": {
    "collapsed": false,
    "execution": {
     "iopub.execute_input": "2025-03-01T07:18:56.297931Z",
     "iopub.status.busy": "2025-03-01T07:18:56.297676Z",
     "iopub.status.idle": "2025-03-01T07:19:01.802050Z",
     "shell.execute_reply": "2025-03-01T07:19:01.801349Z"
    },
    "jupyter": {
     "outputs_hidden": false
    },
    "papermill": {
     "duration": 5.512912,
     "end_time": "2025-03-01T07:19:01.803582",
     "exception": false,
     "start_time": "2025-03-01T07:18:56.290670",
     "status": "completed"
    },
    "tags": []
   },
   "outputs": [
    {
     "name": "stdout",
     "output_type": "stream",
     "text": [
      "Downloading https://www.cs.toronto.edu/~kriz/cifar-10-python.tar.gz to ./data/cifar-10-python.tar.gz\n"
     ]
    },
    {
     "name": "stderr",
     "output_type": "stream",
     "text": [
      "100%|██████████| 170M/170M [00:02<00:00, 79.8MB/s]\n"
     ]
    },
    {
     "name": "stdout",
     "output_type": "stream",
     "text": [
      "Extracting ./data/cifar-10-python.tar.gz to ./data\n",
      "Files already downloaded and verified\n"
     ]
    }
   ],
   "source": [
    "# prepare datasets\n",
    "# preprocessing pipeline for input images\n",
    "transformation = dict()\n",
    "for data_type in (\"train\", \"test\"):\n",
    "    is_train = data_type==\"train\"\n",
    "    transformation[data_type] = tv_transforms.Compose(([\n",
    "        tv_transforms.RandomRotation(degrees=15),\n",
    "        tv_transforms.RandomHorizontalFlip(),\n",
    "        tv_transforms.RandomAffine(degrees=0, translate=(0.1, 0.1)),\n",
    "    ] if is_train else []) + \n",
    "    [\n",
    "        tv_transforms.ToTensor(),\n",
    "        tv_transforms.Normalize(mean=[0.5, 0.5, 0.5], std=[0.5, 0.5, 0.5]),\n",
    "    ])\n",
    "    \n",
    "num_workers = 2\n",
    "dataset, loader = {}, {}\n",
    "for data_type in (\"train\", \"test\"):\n",
    "    is_train = data_type==\"train\"\n",
    "    dataset[data_type] = tv_datasets.CIFAR10(\n",
    "        root=\"./data\", train=is_train, download=True, transform=transformation[data_type],\n",
    "    )\n",
    "    loader[data_type] = torch.utils.data.DataLoader(\n",
    "        dataset[data_type], batch_size=batch_size, shuffle=is_train, num_workers=num_workers,\n",
    "    )\n"
   ]
  },
  {
   "cell_type": "code",
   "execution_count": 10,
   "id": "656f54ac",
   "metadata": {
    "collapsed": false,
    "execution": {
     "iopub.execute_input": "2025-03-01T07:19:01.820910Z",
     "iopub.status.busy": "2025-03-01T07:19:01.820661Z",
     "iopub.status.idle": "2025-03-01T07:19:02.080033Z",
     "shell.execute_reply": "2025-03-01T07:19:02.079110Z"
    },
    "jupyter": {
     "outputs_hidden": false
    },
    "papermill": {
     "duration": 0.269431,
     "end_time": "2025-03-01T07:19:02.081329",
     "exception": false,
     "start_time": "2025-03-01T07:19:01.811898",
     "status": "completed"
    },
    "tags": []
   },
   "outputs": [
    {
     "name": "stdout",
     "output_type": "stream",
     "text": [
      "number of parameters: 7.29M\n"
     ]
    }
   ],
   "source": [
    "# our network architecture\n",
    "net = nn.Sequential(\n",
    "    nn.Conv2d(3, 128, 3, padding=1), nn.ReLU(inplace=True), nn.MaxPool2d(2),nn.BatchNorm2d(128),\n",
    "    nn.Conv2d(128, 256, 3, padding=1), nn.ReLU(inplace=True), nn.MaxPool2d(2),nn.BatchNorm2d(256),\n",
    "    nn.Conv2d(256, 512, 3, padding=1), nn.ReLU(inplace=True),nn.BatchNorm2d(512),\n",
    "    nn.Conv2d(512, 512, 3, padding=1), nn.ReLU(inplace=True),nn.BatchNorm2d(512),\n",
    "    nn.Conv2d(512, 256, 3, padding=1), nn.ReLU(inplace=True), nn.MaxPool2d(2),nn.BatchNorm2d(256),\n",
    "    nn.Flatten(),\n",
    "    nn.Linear(256 * 4 * 4, 512), nn.ReLU(inplace=True), nn.Dropout(0.3),nn.BatchNorm1d(512),\n",
    "    nn.Linear(512, 256), nn.ReLU(inplace=True), nn.Dropout(0.3),nn.BatchNorm1d(256),\n",
    "    nn.Linear(256, 128), nn.ReLU(inplace=True), nn.Dropout(0.3),nn.BatchNorm1d(128),\n",
    "    nn.Linear(128, 10),\n",
    ")\n",
    "\n",
    "# move to device\n",
    "net.to(device)\n",
    "\n",
    "# print the number of parameters\n",
    "print(f\"number of parameters: {sum(p.numel() for p in net.parameters() if p.requires_grad) / 1_000_000:.2f}M\")"
   ]
  },
  {
   "cell_type": "code",
   "execution_count": 11,
   "id": "c69d8820",
   "metadata": {
    "collapsed": true,
    "execution": {
     "iopub.execute_input": "2025-03-01T07:19:02.098340Z",
     "iopub.status.busy": "2025-03-01T07:19:02.098095Z",
     "iopub.status.idle": "2025-03-01T07:32:27.127597Z",
     "shell.execute_reply": "2025-03-01T07:32:27.126389Z"
    },
    "jupyter": {
     "outputs_hidden": true
    },
    "papermill": {
     "duration": 805.039617,
     "end_time": "2025-03-01T07:32:27.129148",
     "exception": false,
     "start_time": "2025-03-01T07:19:02.089531",
     "status": "completed"
    },
    "tags": []
   },
   "outputs": [
    {
     "name": "stdout",
     "output_type": "stream",
     "text": [
      "[epoch=  1, iter=  200] training loss: 1.836 test loss: 1.506 test acc: 44.21%\n",
      "[epoch=  1, iter=  400] training loss: 1.516 test loss: 1.314 test acc: 52.11%\n",
      "[epoch=  1, iter=  600] training loss: 1.369 test loss: 1.165 test acc: 58.71%\n",
      "[epoch=  2, iter=  200] training loss: 1.197 test loss: 1.011 test acc: 64.27%\n",
      "[epoch=  2, iter=  400] training loss: 1.130 test loss: 0.906 test acc: 67.09%\n",
      "[epoch=  2, iter=  600] training loss: 1.072 test loss: 0.825 test acc: 70.97%\n",
      "[epoch=  3, iter=  200] training loss: 0.965 test loss: 0.808 test acc: 72.00%\n",
      "[epoch=  3, iter=  400] training loss: 0.937 test loss: 0.726 test acc: 74.70%\n",
      "[epoch=  3, iter=  600] training loss: 0.922 test loss: 0.730 test acc: 74.72%\n",
      "[epoch=  4, iter=  200] training loss: 0.825 test loss: 0.684 test acc: 76.62%\n",
      "[epoch=  4, iter=  400] training loss: 0.798 test loss: 0.652 test acc: 77.50%\n",
      "[epoch=  4, iter=  600] training loss: 0.799 test loss: 0.626 test acc: 78.21%\n",
      "[epoch=  5, iter=  200] training loss: 0.729 test loss: 0.608 test acc: 79.26%\n",
      "[epoch=  5, iter=  400] training loss: 0.736 test loss: 0.572 test acc: 80.34%\n",
      "[epoch=  5, iter=  600] training loss: 0.692 test loss: 0.559 test acc: 80.78%\n",
      "[epoch=  6, iter=  200] training loss: 0.627 test loss: 0.542 test acc: 81.48%\n",
      "[epoch=  6, iter=  400] training loss: 0.645 test loss: 0.544 test acc: 80.90%\n",
      "[epoch=  6, iter=  600] training loss: 0.644 test loss: 0.530 test acc: 81.97%\n",
      "[epoch=  7, iter=  200] training loss: 0.571 test loss: 0.487 test acc: 83.53%\n",
      "[epoch=  7, iter=  400] training loss: 0.583 test loss: 0.488 test acc: 83.45%\n",
      "[epoch=  7, iter=  600] training loss: 0.575 test loss: 0.481 test acc: 83.62%\n",
      "[epoch=  8, iter=  200] training loss: 0.511 test loss: 0.488 test acc: 83.27%\n",
      "[epoch=  8, iter=  400] training loss: 0.538 test loss: 0.449 test acc: 84.53%\n",
      "[epoch=  8, iter=  600] training loss: 0.522 test loss: 0.447 test acc: 84.93%\n",
      "[epoch=  9, iter=  200] training loss: 0.494 test loss: 0.453 test acc: 84.39%\n",
      "[epoch=  9, iter=  400] training loss: 0.494 test loss: 0.431 test acc: 85.21%\n",
      "[epoch=  9, iter=  600] training loss: 0.481 test loss: 0.429 test acc: 85.58%\n",
      "[epoch= 10, iter=  200] training loss: 0.436 test loss: 0.430 test acc: 85.41%\n",
      "[epoch= 10, iter=  400] training loss: 0.450 test loss: 0.428 test acc: 85.51%\n",
      "[epoch= 10, iter=  600] training loss: 0.447 test loss: 0.418 test acc: 86.11%\n",
      "[epoch= 11, iter=  200] training loss: 0.414 test loss: 0.402 test acc: 86.67%\n",
      "[epoch= 11, iter=  400] training loss: 0.406 test loss: 0.405 test acc: 86.37%\n",
      "[epoch= 11, iter=  600] training loss: 0.427 test loss: 0.400 test acc: 86.42%\n",
      "[epoch= 12, iter=  200] training loss: 0.389 test loss: 0.396 test acc: 86.74%\n",
      "[epoch= 12, iter=  400] training loss: 0.384 test loss: 0.394 test acc: 86.89%\n",
      "[epoch= 12, iter=  600] training loss: 0.379 test loss: 0.390 test acc: 87.10%\n",
      "[epoch= 13, iter=  200] training loss: 0.355 test loss: 0.389 test acc: 86.98%\n",
      "[epoch= 13, iter=  400] training loss: 0.366 test loss: 0.399 test acc: 86.89%\n",
      "[epoch= 13, iter=  600] training loss: 0.371 test loss: 0.389 test acc: 87.04%\n",
      "[epoch= 14, iter=  200] training loss: 0.324 test loss: 0.374 test acc: 87.67%\n",
      "[epoch= 14, iter=  400] training loss: 0.331 test loss: 0.383 test acc: 87.40%\n",
      "[epoch= 14, iter=  600] training loss: 0.344 test loss: 0.367 test acc: 87.82%\n",
      "[epoch= 15, iter=  200] training loss: 0.304 test loss: 0.390 test acc: 87.30%\n",
      "[epoch= 15, iter=  400] training loss: 0.331 test loss: 0.372 test acc: 87.71%\n",
      "[epoch= 15, iter=  600] training loss: 0.328 test loss: 0.362 test acc: 87.87%\n",
      "[epoch= 16, iter=  200] training loss: 0.281 test loss: 0.370 test acc: 87.92%\n",
      "[epoch= 16, iter=  400] training loss: 0.301 test loss: 0.360 test acc: 87.98%\n",
      "[epoch= 16, iter=  600] training loss: 0.314 test loss: 0.373 test acc: 87.96%\n",
      "[epoch= 17, iter=  200] training loss: 0.263 test loss: 0.368 test acc: 88.11%\n",
      "[epoch= 17, iter=  400] training loss: 0.288 test loss: 0.376 test acc: 88.25%\n",
      "[epoch= 17, iter=  600] training loss: 0.289 test loss: 0.372 test acc: 88.00%\n",
      "[epoch= 18, iter=  200] training loss: 0.247 test loss: 0.379 test acc: 88.07%\n",
      "[epoch= 18, iter=  400] training loss: 0.277 test loss: 0.367 test acc: 88.45%\n",
      "[epoch= 18, iter=  600] training loss: 0.279 test loss: 0.362 test acc: 88.58%\n",
      "[epoch= 19, iter=  200] training loss: 0.237 test loss: 0.370 test acc: 88.39%\n",
      "[epoch= 19, iter=  400] training loss: 0.253 test loss: 0.378 test acc: 88.03%\n",
      "[epoch= 19, iter=  600] training loss: 0.252 test loss: 0.378 test acc: 87.95%\n",
      "[epoch= 20, iter=  200] training loss: 0.226 test loss: 0.363 test acc: 88.68%\n",
      "[epoch= 20, iter=  400] training loss: 0.234 test loss: 0.365 test acc: 88.40%\n",
      "[epoch= 20, iter=  600] training loss: 0.251 test loss: 0.364 test acc: 88.68%\n",
      "[epoch= 21, iter=  200] training loss: 0.221 test loss: 0.362 test acc: 88.54%\n",
      "[epoch= 21, iter=  400] training loss: 0.231 test loss: 0.354 test acc: 88.58%\n",
      "[epoch= 21, iter=  600] training loss: 0.240 test loss: 0.359 test acc: 88.65%\n",
      "[epoch= 22, iter=  200] training loss: 0.214 test loss: 0.366 test acc: 88.63%\n",
      "[epoch= 22, iter=  400] training loss: 0.217 test loss: 0.362 test acc: 88.84%\n",
      "[epoch= 22, iter=  600] training loss: 0.237 test loss: 0.349 test acc: 88.97%\n",
      "[epoch= 23, iter=  200] training loss: 0.197 test loss: 0.362 test acc: 88.56%\n",
      "[epoch= 23, iter=  400] training loss: 0.213 test loss: 0.371 test acc: 88.38%\n",
      "[epoch= 23, iter=  600] training loss: 0.208 test loss: 0.363 test acc: 88.57%\n",
      "[epoch= 24, iter=  200] training loss: 0.189 test loss: 0.367 test acc: 88.50%\n",
      "[epoch= 24, iter=  400] training loss: 0.201 test loss: 0.369 test acc: 88.44%\n",
      "[epoch= 24, iter=  600] training loss: 0.210 test loss: 0.358 test acc: 88.92%\n",
      "[epoch= 25, iter=  200] training loss: 0.187 test loss: 0.367 test acc: 88.52%\n",
      "[epoch= 25, iter=  400] training loss: 0.192 test loss: 0.374 test acc: 88.81%\n",
      "[epoch= 25, iter=  600] training loss: 0.195 test loss: 0.379 test acc: 88.31%\n",
      "[epoch= 26, iter=  200] training loss: 0.180 test loss: 0.359 test acc: 89.02%\n",
      "[epoch= 26, iter=  400] training loss: 0.180 test loss: 0.377 test acc: 88.62%\n",
      "[epoch= 26, iter=  600] training loss: 0.196 test loss: 0.376 test acc: 88.73%\n",
      "[epoch= 27, iter=  200] training loss: 0.165 test loss: 0.379 test acc: 88.47%\n",
      "[epoch= 27, iter=  400] training loss: 0.183 test loss: 0.375 test acc: 88.68%\n",
      "[epoch= 27, iter=  600] training loss: 0.192 test loss: 0.375 test acc: 88.87%\n",
      "[epoch= 28, iter=  200] training loss: 0.155 test loss: 0.377 test acc: 88.77%\n",
      "[epoch= 28, iter=  400] training loss: 0.174 test loss: 0.371 test acc: 89.12%\n",
      "[epoch= 28, iter=  600] training loss: 0.179 test loss: 0.372 test acc: 89.22%\n",
      "[epoch= 29, iter=  200] training loss: 0.165 test loss: 0.370 test acc: 89.31%\n",
      "[epoch= 29, iter=  400] training loss: 0.174 test loss: 0.394 test acc: 88.32%\n",
      "[epoch= 29, iter=  600] training loss: 0.173 test loss: 0.386 test acc: 88.51%\n",
      "[epoch= 30, iter=  200] training loss: 0.148 test loss: 0.392 test acc: 88.38%\n",
      "[epoch= 30, iter=  400] training loss: 0.166 test loss: 0.389 test acc: 88.59%\n",
      "[epoch= 30, iter=  600] training loss: 0.171 test loss: 0.382 test acc: 88.59%\n",
      "[epoch= 31, iter=  200] training loss: 0.154 test loss: 0.377 test acc: 88.71%\n",
      "[epoch= 31, iter=  400] training loss: 0.161 test loss: 0.384 test acc: 88.79%\n",
      "[epoch= 31, iter=  600] training loss: 0.167 test loss: 0.390 test acc: 88.86%\n",
      "[epoch= 32, iter=  200] training loss: 0.145 test loss: 0.381 test acc: 89.36%\n",
      "[epoch= 32, iter=  400] training loss: 0.147 test loss: 0.396 test acc: 88.78%\n",
      "[epoch= 32, iter=  600] training loss: 0.153 test loss: 0.393 test acc: 88.66%\n",
      "Finished Training\n"
     ]
    }
   ],
   "source": [
    "# the network optimizer\n",
    "optimizer = getattr(optim, optim_name)(net.parameters(), **optim_kwargs)\n",
    "\n",
    "# loss function\n",
    "criterion = nn.CrossEntropyLoss()\n",
    "\n",
    "# training loop\n",
    "# net.train()\n",
    "losses = []\n",
    "accuracies = []\n",
    "test_losses = []\n",
    "for epoch in range(num_epochs):\n",
    "    running_loss = 0.0\n",
    "    running_test_loss = 0.0\n",
    "    loss_3 = 0\n",
    "    acc_3 = 0\n",
    "    test_loss_3 = 0\n",
    "    for i, (img, target) in enumerate(loader[\"train\"]):\n",
    "        net.train()\n",
    "        img, target = img.to(device), target.to(device)\n",
    "\n",
    "        pred = net(img)\n",
    "        loss = criterion(pred, target)\n",
    "\n",
    "        optimizer.zero_grad()\n",
    "        loss.backward()\n",
    "        optimizer.step()\n",
    "\n",
    "        # training_loss\n",
    "        running_loss += loss.item()\n",
    "        \n",
    "        if i % print_every == print_every - 1:\n",
    "            # evaluate\n",
    "            net.eval()\n",
    "            correct, total, loss, loss_n = 0, 0, 0, 0\n",
    "            with torch.no_grad():\n",
    "                for img, target in loader[\"test\"]:\n",
    "                    img, target = img.to(device), target.to(device)\n",
    "                    \n",
    "                    # make prediction\n",
    "                    pred = net(img)\n",
    "                    loss_ = criterion(pred, target)\n",
    "                    \n",
    "                    # accumulate\n",
    "                    total += len(target)\n",
    "                    correct += (torch.argmax(pred, dim=1) == target).sum().item()\n",
    "                    loss += loss_.item()\n",
    "                    loss_n += 1\n",
    "        \n",
    "            loss_3 += running_loss / print_every\n",
    "            acc_3 += correct / total\n",
    "            test_loss_3 += loss / loss_n\n",
    "\n",
    "            print(f\"[epoch={epoch + 1:3d}, iter={i + 1:5d}] training loss: {running_loss / print_every:.3f} test loss: {loss / loss_n:.3f} test acc: {100 * correct / total:.2f}%\")\n",
    "            running_loss = 0.0\n",
    "            running_test_loss = 0.0\n",
    "            \n",
    "    losses.append(loss_3/3) # 3 = len(loader['train']) / print_every\n",
    "    accuracies.append(acc_3/3)\n",
    "    test_losses.append(test_loss_3/3)\n",
    "print(\"Finished Training\")"
   ]
  },
  {
   "cell_type": "code",
   "execution_count": 12,
   "id": "35c885c9",
   "metadata": {
    "execution": {
     "iopub.execute_input": "2025-03-01T07:32:27.154662Z",
     "iopub.status.busy": "2025-03-01T07:32:27.154396Z",
     "iopub.status.idle": "2025-03-01T07:32:28.075406Z",
     "shell.execute_reply": "2025-03-01T07:32:28.074377Z"
    },
    "papermill": {
     "duration": 0.935101,
     "end_time": "2025-03-01T07:32:28.076971",
     "exception": false,
     "start_time": "2025-03-01T07:32:27.141870",
     "status": "completed"
    },
    "tags": []
   },
   "outputs": [
    {
     "data": {
      "image/png": "[encoded data removed]",
      "text/plain": [
       "<Figure size 1800x500 with 3 Axes>"
      ]
     },
     "metadata": {},
     "output_type": "display_data"
    }
   ],
   "source": [
    "# 可视化\n",
    "plt.figure(figsize=(18, 5))\n",
    "\n",
    "# 训练损失曲线\n",
    "plt.subplot(1, 3, 1)\n",
    "plt.plot(range(num_epochs), losses)\n",
    "plt.xlabel('Epoch')\n",
    "plt.ylabel('Loss')\n",
    "plt.title('Training Loss')\n",
    "\n",
    "# 测试损失曲线\n",
    "plt.subplot(1, 3, 2)\n",
    "plt.plot(range(len(test_losses)), test_losses)\n",
    "plt.xlabel('Evaluation Step')\n",
    "plt.ylabel('Loss')\n",
    "plt.title('Test Loss')\n",
    "\n",
    "# 测试准确率曲线\n",
    "plt.subplot(1, 3, 3)\n",
    "plt.plot(range(len(accuracies)), accuracies)\n",
    "plt.xlabel('Evaluation Step')\n",
    "plt.ylabel('Accuracy')\n",
    "plt.title('Test Accuracy')\n",
    "\n",
    "plt.tight_layout()\n",
    "plt.savefig('Variant1_2_results.jpg')\n",
    "plt.show()"
   ]
  },
  {
   "cell_type": "code",
   "execution_count": 13,
   "id": "6f583b56",
   "metadata": {
    "execution": {
     "iopub.execute_input": "2025-03-01T07:32:28.105187Z",
     "iopub.status.busy": "2025-03-01T07:32:28.104845Z",
     "iopub.status.idle": "2025-03-01T07:32:28.156152Z",
     "shell.execute_reply": "2025-03-01T07:32:28.155362Z"
    },
    "papermill": {
     "duration": 0.066845,
     "end_time": "2025-03-01T07:32:28.157735",
     "exception": false,
     "start_time": "2025-03-01T07:32:28.090890",
     "status": "completed"
    },
    "tags": []
   },
   "outputs": [],
   "source": [
    "# save model\n",
    "torch.save(net.state_dict(), 'Variant1_3.pth')"
   ]
  },
  {
   "cell_type": "code",
   "execution_count": 14,
   "id": "b5417eb6",
   "metadata": {
    "collapsed": false,
    "execution": {
     "iopub.execute_input": "2025-03-01T07:32:28.186383Z",
     "iopub.status.busy": "2025-03-01T07:32:28.186101Z",
     "iopub.status.idle": "2025-03-01T07:32:30.197589Z",
     "shell.execute_reply": "2025-03-01T07:32:30.196551Z"
    },
    "jupyter": {
     "outputs_hidden": false
    },
    "papermill": {
     "duration": 2.02718,
     "end_time": "2025-03-01T07:32:30.199295",
     "exception": false,
     "start_time": "2025-03-01T07:32:28.172115",
     "status": "completed"
    },
    "tags": []
   },
   "outputs": [
    {
     "name": "stdout",
     "output_type": "stream",
     "text": [
      "Accuracy of the network on the 10000 test images: 89.16%\n"
     ]
    }
   ],
   "source": [
    "net.eval()\n",
    "correct, total = 0, 0\n",
    "with torch.no_grad():\n",
    "    for img, target in loader[\"test\"]:\n",
    "        img, target = img.to(device), target.to(device)\n",
    "        \n",
    "        # make prediction\n",
    "        pred = net(img)\n",
    "        \n",
    "        # accumulate\n",
    "        total += len(target)\n",
    "        correct += (torch.argmax(pred, dim=1) == target).sum().item()\n",
    "\n",
    "print(f\"Accuracy of the network on the {total} test images: {100 * correct / total:.2f}%\")"
   ]
  },
  {
   "cell_type": "markdown",
   "id": "a00f95a7",
   "metadata": {
    "papermill": {
     "duration": 0.012963,
     "end_time": "2025-03-01T07:32:30.225692",
     "exception": false,
     "start_time": "2025-03-01T07:32:30.212729",
     "status": "completed"
    },
    "tags": []
   },
   "source": [
    "## 3. Variant 2\n",
    "Adding residual connections to be a ResNet, which allows the network to be deeper while avoiding the problems of vanishing or exploding gradients.  \n",
    "Time consuming: 1h13m  \n",
    "last loss: 0.129  \n",
    "Test acc: 84.33%"
   ]
  },
  {
   "cell_type": "code",
   "execution_count": 15,
   "id": "3f4a19a8",
   "metadata": {
    "execution": {
     "iopub.execute_input": "2025-03-01T07:32:30.253608Z",
     "iopub.status.busy": "2025-03-01T07:32:30.253306Z",
     "iopub.status.idle": "2025-03-01T07:32:30.257068Z",
     "shell.execute_reply": "2025-03-01T07:32:30.256198Z"
    },
    "papermill": {
     "duration": 0.019348,
     "end_time": "2025-03-01T07:32:30.258371",
     "exception": false,
     "start_time": "2025-03-01T07:32:30.239023",
     "status": "completed"
    },
    "tags": []
   },
   "outputs": [],
   "source": [
    "# # some experimental setup\n",
    "# device = torch.device(\"cuda:0\" if torch.cuda.is_available() else \"cpu\")\n",
    "\n",
    "# num_epochs = 128\n",
    "# batch_size = 64\n",
    "# print_every = 200\n",
    "\n",
    "# optim_name = \"Adam\"\n",
    "# optim_kwargs = dict(\n",
    "#     lr=3e-4,\n",
    "#     weight_decay=1e-6,\n",
    "# )"
   ]
  },
  {
   "cell_type": "code",
   "execution_count": 16,
   "id": "2de259e3",
   "metadata": {
    "collapsed": false,
    "execution": {
     "iopub.execute_input": "2025-03-01T07:32:30.285795Z",
     "iopub.status.busy": "2025-03-01T07:32:30.285508Z",
     "iopub.status.idle": "2025-03-01T07:32:30.289126Z",
     "shell.execute_reply": "2025-03-01T07:32:30.288289Z"
    },
    "jupyter": {
     "outputs_hidden": false
    },
    "papermill": {
     "duration": 0.018603,
     "end_time": "2025-03-01T07:32:30.290378",
     "exception": false,
     "start_time": "2025-03-01T07:32:30.271775",
     "status": "completed"
    },
    "tags": []
   },
   "outputs": [],
   "source": [
    "# # prepare datasets\n",
    "# # preprocessing pipeline for input images\n",
    "# transformation = dict()\n",
    "# for data_type in (\"train\", \"test\"):\n",
    "#     is_train = data_type==\"train\"\n",
    "#     transformation[data_type] = tv_transforms.Compose(([\n",
    "#         tv_transforms.RandomRotation(degrees=15),\n",
    "#         tv_transforms.RandomHorizontalFlip(),\n",
    "#         tv_transforms.RandomAffine(degrees=0, translate=(0.1, 0.1)),\n",
    "#     ] if is_train else []) + \n",
    "#     [\n",
    "#         tv_transforms.ToTensor(),\n",
    "#         tv_transforms.Normalize(mean=[0.5, 0.5, 0.5], std=[0.5, 0.5, 0.5]),\n",
    "#     ])\n",
    "    \n",
    "# num_workers = 2\n",
    "# dataset, loader = {}, {}\n",
    "# for data_type in (\"train\", \"test\"):\n",
    "#     is_train = data_type==\"train\"\n",
    "#     dataset[data_type] = tv_datasets.CIFAR10(\n",
    "#         root=\"./data\", train=is_train, download=True, transform=transformation[data_type],\n",
    "#     )\n",
    "#     loader[data_type] = torch.utils.data.DataLoader(\n",
    "#         dataset[data_type], batch_size=batch_size, shuffle=is_train, num_workers=num_workers,\n",
    "#     )\n"
   ]
  },
  {
   "cell_type": "code",
   "execution_count": 17,
   "id": "8519a8c4",
   "metadata": {
    "collapsed": false,
    "execution": {
     "iopub.execute_input": "2025-03-01T07:32:30.318016Z",
     "iopub.status.busy": "2025-03-01T07:32:30.317702Z",
     "iopub.status.idle": "2025-03-01T07:32:30.321580Z",
     "shell.execute_reply": "2025-03-01T07:32:30.320943Z"
    },
    "jupyter": {
     "outputs_hidden": false
    },
    "papermill": {
     "duration": 0.019318,
     "end_time": "2025-03-01T07:32:30.322752",
     "exception": false,
     "start_time": "2025-03-01T07:32:30.303434",
     "status": "completed"
    },
    "tags": []
   },
   "outputs": [],
   "source": [
    "# # our network architecture\n",
    "# # 定义基本的残差块\n",
    "# class ResBlock(nn.Module):\n",
    "#     expansion = 1\n",
    "\n",
    "#     def __init__(self, in_channels, out_channels, stride=1):\n",
    "#         super(ResBlock, self).__init__()\n",
    "#         self.conv1 = nn.Conv2d(in_channels, out_channels, kernel_size=3, stride=stride, padding=1, bias=False)\n",
    "#         self.bn1 = nn.BatchNorm2d(out_channels)\n",
    "#         self.relu = nn.ReLU(inplace=True)\n",
    "#         self.conv2 = nn.Conv2d(out_channels, out_channels, kernel_size=3, stride=1, padding=1, bias=False)\n",
    "#         self.bn2 = nn.BatchNorm2d(out_channels)\n",
    "\n",
    "#         self.shortcut = nn.Sequential()\n",
    "#         if stride != 1 or in_channels != self.expansion * out_channels:\n",
    "#             self.shortcut = nn.Sequential(\n",
    "#                 nn.Conv2d(in_channels, self.expansion * out_channels, kernel_size=1, stride=stride, bias=False),\n",
    "#                 nn.BatchNorm2d(self.expansion * out_channels)\n",
    "#             )\n",
    "\n",
    "#     def forward(self, x):\n",
    "#         out = self.relu(self.bn1(self.conv1(x)))\n",
    "#         out = self.bn2(self.conv2(out))\n",
    "#         out += self.shortcut(x)\n",
    "#         out = self.relu(out)\n",
    "#         return out\n",
    "\n",
    "# # 定义ResNet34模型\n",
    "# class ResNet34(nn.Module):\n",
    "#     def __init__(self, num_classes=1000):\n",
    "#         super(ResNet34, self).__init__()\n",
    "#         self.in_channels = 64\n",
    "\n",
    "#         self.conv1 = nn.Conv2d(3, 64, kernel_size=7, stride=2, padding=3, bias=False)\n",
    "#         self.bn1 = nn.BatchNorm2d(64)\n",
    "#         self.relu = nn.ReLU(inplace=True)\n",
    "#         self.maxpool = nn.MaxPool2d(kernel_size=3, stride=2, padding=1)\n",
    "\n",
    "#         self.layer1 = self._make_layer(64, 3, stride=1)\n",
    "#         self.layer2 = self._make_layer(128, 4, stride=2)\n",
    "#         self.layer3 = self._make_layer(256, 6, stride=2)\n",
    "#         self.layer4 = self._make_layer(512, 3, stride=2)\n",
    "\n",
    "#         self.avgpool = nn.AdaptiveAvgPool2d((1, 1))\n",
    "#         self.fc = nn.Linear(512 * ResBlock.expansion, num_classes)\n",
    "\n",
    "#     def _make_layer(self, out_channels, num_blocks, stride):\n",
    "#         strides = [stride] + [1] * (num_blocks - 1)\n",
    "#         layers = []\n",
    "#         for stride in strides:\n",
    "#             layers.append(ResBlock(self.in_channels, out_channels, stride))\n",
    "#             self.in_channels = out_channels * ResBlock.expansion\n",
    "#         return nn.Sequential(*layers)\n",
    "\n",
    "#     def forward(self, x):\n",
    "#         out = self.relu(self.bn1(self.conv1(x)))\n",
    "#         out = self.maxpool(out)\n",
    "#         out = self.layer1(out)\n",
    "#         out = self.layer2(out)\n",
    "#         out = self.layer3(out)\n",
    "#         out = self.layer4(out)\n",
    "#         out = self.avgpool(out)\n",
    "#         out = torch.flatten(out, 1)\n",
    "#         out = self.fc(out)\n",
    "#         return out\n",
    "\n",
    "\n",
    "# net = ResNet34(num_classes=10)\n",
    "\n",
    "# # move to device\n",
    "# net.to(device)\n",
    "\n",
    "# # print the number of parameters\n",
    "# print(f\"number of parameters: {sum(p.numel() for p in net.parameters() if p.requires_grad) / 1_000_000:.2f}M\")"
   ]
  },
  {
   "cell_type": "code",
   "execution_count": 18,
   "id": "87f67f2a",
   "metadata": {
    "collapsed": true,
    "execution": {
     "iopub.execute_input": "2025-03-01T07:32:30.351322Z",
     "iopub.status.busy": "2025-03-01T07:32:30.351036Z",
     "iopub.status.idle": "2025-03-01T07:32:30.354407Z",
     "shell.execute_reply": "2025-03-01T07:32:30.353718Z"
    },
    "jupyter": {
     "outputs_hidden": true
    },
    "papermill": {
     "duration": 0.019345,
     "end_time": "2025-03-01T07:32:30.355714",
     "exception": false,
     "start_time": "2025-03-01T07:32:30.336369",
     "status": "completed"
    },
    "tags": []
   },
   "outputs": [],
   "source": [
    "# # the network optimizer\n",
    "# optimizer = getattr(optim, optim_name)(net.parameters(), **optim_kwargs)\n",
    "\n",
    "# # loss function\n",
    "# criterion = nn.CrossEntropyLoss()\n",
    "\n",
    "# # training loop\n",
    "# net.train()\n",
    "# for epoch in range(num_epochs):\n",
    "\n",
    "#     running_loss = 0.0\n",
    "#     for i, (img, target) in enumerate(loader[\"train\"]):\n",
    "#         img, target = img.to(device), target.to(device)\n",
    "\n",
    "#         pred = net(img)\n",
    "#         loss = criterion(pred, target)\n",
    "\n",
    "#         optimizer.zero_grad()\n",
    "#         loss.backward()\n",
    "#         optimizer.step()\n",
    "\n",
    "#         # print statistics\n",
    "#         running_loss += loss.item()\n",
    "#         if i % print_every == print_every - 1:\n",
    "#             print(f\"[epoch={epoch + 1:3d}, iter={i + 1:5d}] loss: {running_loss / print_every:.3f}\")\n",
    "#             running_loss = 0.0\n",
    "    \n",
    "# print(\"Finished Training\")"
   ]
  },
  {
   "cell_type": "code",
   "execution_count": 19,
   "id": "3402bebd",
   "metadata": {
    "collapsed": false,
    "execution": {
     "iopub.execute_input": "2025-03-01T07:32:30.383767Z",
     "iopub.status.busy": "2025-03-01T07:32:30.383507Z",
     "iopub.status.idle": "2025-03-01T07:32:30.386590Z",
     "shell.execute_reply": "2025-03-01T07:32:30.385934Z"
    },
    "jupyter": {
     "outputs_hidden": false
    },
    "papermill": {
     "duration": 0.018217,
     "end_time": "2025-03-01T07:32:30.387833",
     "exception": false,
     "start_time": "2025-03-01T07:32:30.369616",
     "status": "completed"
    },
    "tags": []
   },
   "outputs": [],
   "source": [
    "# net.eval()\n",
    "# correct, total = 0, 0\n",
    "# with torch.no_grad():\n",
    "#     for img, target in loader[\"test\"]:\n",
    "#         img, target = img.to(device), target.to(device)\n",
    "        \n",
    "#         # make prediction\n",
    "#         pred = net(img)\n",
    "        \n",
    "#         # accumulate\n",
    "#         total += len(target)\n",
    "#         correct += (torch.argmax(pred, dim=1) == target).sum().item()\n",
    "\n",
    "# print(f\"Accuracy of the network on the {total} test images: {100 * correct / total:.2f}%\")"
   ]
  },
  {
   "cell_type": "markdown",
   "id": "0932feb1",
   "metadata": {
    "papermill": {
     "duration": 0.012704,
     "end_time": "2025-03-01T07:32:30.413910",
     "exception": false,
     "start_time": "2025-03-01T07:32:30.401206",
     "status": "completed"
    },
    "tags": []
   },
   "source": [
    "## 4. Variant 3\n",
    "Changing the optimizer and learning rate scheduler."
   ]
  },
  {
   "cell_type": "code",
   "execution_count": 20,
   "id": "a182d8f9",
   "metadata": {
    "execution": {
     "iopub.execute_input": "2025-03-01T07:32:30.441039Z",
     "iopub.status.busy": "2025-03-01T07:32:30.440722Z",
     "iopub.status.idle": "2025-03-01T07:32:30.443832Z",
     "shell.execute_reply": "2025-03-01T07:32:30.443217Z"
    },
    "papermill": {
     "duration": 0.018133,
     "end_time": "2025-03-01T07:32:30.445022",
     "exception": false,
     "start_time": "2025-03-01T07:32:30.426889",
     "status": "completed"
    },
    "tags": []
   },
   "outputs": [],
   "source": [
    "# # prepare datasets\n",
    "# # preprocessing pipeline for input images\n",
    "# transformation = dict()\n",
    "# for data_type in (\"train\", \"test\"):\n",
    "#     is_train = data_type==\"train\"\n",
    "#     transformation[data_type] = tv_transforms.Compose(([\n",
    "#         tv_transforms.RandomRotation(degrees=15),\n",
    "#         tv_transforms.RandomHorizontalFlip(),\n",
    "#         tv_transforms.RandomAffine(degrees=0, translate=(0.1, 0.1)),\n",
    "#     ] if is_train else []) + \n",
    "#     [\n",
    "#         tv_transforms.ToTensor(),\n",
    "#         tv_transforms.Normalize(mean=[0.5, 0.5, 0.5], std=[0.5, 0.5, 0.5]),\n",
    "#     ])\n",
    "    \n",
    "# num_workers = 2\n",
    "# batch_size = 64\n",
    "# dataset, loader = {}, {}\n",
    "# for data_type in (\"train\", \"test\"):\n",
    "#     is_train = data_type==\"train\"\n",
    "#     dataset[data_type] = tv_datasets.CIFAR10(\n",
    "#         root=\"./data\", train=is_train, download=True, transform=transformation[data_type],\n",
    "#     )\n",
    "#     loader[data_type] = torch.utils.data.DataLoader(\n",
    "#         dataset[data_type], batch_size=batch_size, shuffle=is_train, num_workers=num_workers,\n",
    "#     )\n"
   ]
  },
  {
   "cell_type": "code",
   "execution_count": 21,
   "id": "6b7eef95",
   "metadata": {
    "execution": {
     "iopub.execute_input": "2025-03-01T07:32:30.473056Z",
     "iopub.status.busy": "2025-03-01T07:32:30.472749Z",
     "iopub.status.idle": "2025-03-01T07:32:30.475734Z",
     "shell.execute_reply": "2025-03-01T07:32:30.475128Z"
    },
    "papermill": {
     "duration": 0.018559,
     "end_time": "2025-03-01T07:32:30.477084",
     "exception": false,
     "start_time": "2025-03-01T07:32:30.458525",
     "status": "completed"
    },
    "tags": []
   },
   "outputs": [],
   "source": [
    "# # some experimental setup\n",
    "# from torch.optim import lr_scheduler\n",
    "\n",
    "# device = torch.device(\"cuda:0\" if torch.cuda.is_available() else \"cpu\")\n",
    "\n",
    "# num_epochs = 128\n",
    "# print_every = 200\n",
    "\n",
    "# lr = 3e-4\n",
    "# optim_name = \"AdamW\"\n",
    "# optim_kwargs = dict(\n",
    "#     lr=lr,\n",
    "#     weight_decay=0.01, # 1e-6 试试0.1/0.01\n",
    "# )"
   ]
  },
  {
   "cell_type": "markdown",
   "id": "71d074d6",
   "metadata": {
    "papermill": {
     "duration": 0.059312,
     "end_time": "2025-03-01T07:32:30.549560",
     "exception": false,
     "start_time": "2025-03-01T07:32:30.490248",
     "status": "completed"
    },
    "tags": []
   },
   "source": [
    "### Results\n",
    "AdamW lr=3e-4,weight_decay=0.01 scheduler = lr_scheduler.StepLR(optimizer, step_size=15,gamma=0.1) last_loss = 0.464 acc = 83.82%\n",
    "\n",
    "AdamW lr=3e-4,weight_decay=0.01\n",
    "constant + cooldown last_loss = 1.015 acc = 68.65%\n"
   ]
  },
  {
   "cell_type": "code",
   "execution_count": 22,
   "id": "33bc1194",
   "metadata": {
    "collapsed": false,
    "execution": {
     "iopub.execute_input": "2025-03-01T07:32:30.577730Z",
     "iopub.status.busy": "2025-03-01T07:32:30.577446Z",
     "iopub.status.idle": "2025-03-01T07:32:30.580593Z",
     "shell.execute_reply": "2025-03-01T07:32:30.579970Z"
    },
    "jupyter": {
     "outputs_hidden": false
    },
    "papermill": {
     "duration": 0.018852,
     "end_time": "2025-03-01T07:32:30.582024",
     "exception": false,
     "start_time": "2025-03-01T07:32:30.563172",
     "status": "completed"
    },
    "tags": []
   },
   "outputs": [],
   "source": [
    "# # our network architecture\n",
    "# net = nn.Sequential(\n",
    "#     nn.Conv2d(3, 128, 3, padding=1), nn.ReLU(inplace=True), nn.MaxPool2d(2), nn.Dropout(0.3),\n",
    "#     nn.Conv2d(128, 256, 3, padding=1), nn.ReLU(inplace=True), nn.MaxPool2d(2), nn.Dropout(0.3),\n",
    "#     nn.Conv2d(256, 512, 3, padding=1), nn.ReLU(inplace=True),\n",
    "#     nn.Conv2d(512, 512, 3, padding=1), nn.ReLU(inplace=True),\n",
    "#     nn.Conv2d(512, 256, 3, padding=1), nn.ReLU(inplace=True), nn.MaxPool2d(2), nn.Dropout(0.3),\n",
    "#     nn.Flatten(),\n",
    "#     nn.Linear(256 * 4 * 4, 512), nn.ReLU(inplace=True), nn.Dropout(0.5),\n",
    "#     nn.Linear(512, 256), nn.ReLU(inplace=True), nn.Dropout(0.5),\n",
    "#     nn.Linear(256, 128), nn.ReLU(inplace=True), nn.Dropout(0.5),\n",
    "#     nn.Linear(128, 10),\n",
    "# )\n",
    "\n",
    "# # move to device\n",
    "# net.to(device)\n",
    "\n",
    "# # print the number of parameters\n",
    "# print(f\"number of parameters: {sum(p.numel() for p in net.parameters() if p.requires_grad) / 1_000_000:.2f}M\")"
   ]
  },
  {
   "cell_type": "code",
   "execution_count": 23,
   "id": "a0a70746",
   "metadata": {
    "execution": {
     "iopub.execute_input": "2025-03-01T07:32:30.611052Z",
     "iopub.status.busy": "2025-03-01T07:32:30.610735Z",
     "iopub.status.idle": "2025-03-01T07:32:30.614309Z",
     "shell.execute_reply": "2025-03-01T07:32:30.613398Z"
    },
    "papermill": {
     "duration": 0.019905,
     "end_time": "2025-03-01T07:32:30.615656",
     "exception": false,
     "start_time": "2025-03-01T07:32:30.595751",
     "status": "completed"
    },
    "tags": []
   },
   "outputs": [],
   "source": [
    "# # the network optimizer\n",
    "# optimizer = getattr(optim, optim_name)(net.parameters(), **optim_kwargs)\n",
    "\n",
    "# # loss function\n",
    "# criterion = nn.CrossEntropyLoss()\n",
    "\n",
    "# # the network lr_scheduler\n",
    "# # scheduler = lr_scheduler.StepLR(optimizer, step_size=15,gamma=0.1)\n",
    "# # scheduler = torch.optim.lr_scheduler.CosineAnnealingLR(optimizer,T_max=num_epochs) #或者20？\n",
    "# # constant + cooldown\n",
    "# def update_learn_rate(optimizer, alpha):\n",
    "#     for param_group in optimizer.param_groups:\n",
    "#         param_group['lr'] = alpha"
   ]
  },
  {
   "cell_type": "code",
   "execution_count": 24,
   "id": "cc038b4e",
   "metadata": {
    "collapsed": true,
    "execution": {
     "iopub.execute_input": "2025-03-01T07:32:30.643955Z",
     "iopub.status.busy": "2025-03-01T07:32:30.643640Z",
     "iopub.status.idle": "2025-03-01T07:32:30.647221Z",
     "shell.execute_reply": "2025-03-01T07:32:30.646544Z"
    },
    "jupyter": {
     "outputs_hidden": true
    },
    "papermill": {
     "duration": 0.019242,
     "end_time": "2025-03-01T07:32:30.648527",
     "exception": false,
     "start_time": "2025-03-01T07:32:30.629285",
     "status": "completed"
    },
    "tags": []
   },
   "outputs": [],
   "source": [
    "# # training loop\n",
    "# net.train()\n",
    "# for epoch in range(num_epochs):\n",
    "    \n",
    "#     running_loss = 0.0\n",
    "#     alpha = lr\n",
    "#     for i, (img, target) in enumerate(loader[\"train\"]):\n",
    "#         img, target = img.to(device), target.to(device)\n",
    "#         # 调整学习率\n",
    "#         if epoch <= 30 and (epoch + 1) % 5 == 0:\n",
    "#             alpha *= 0.98\n",
    "#             update_learn_rate(optimizer, alpha)  # 更新学习率\n",
    "#         elif epoch > 30 and epoch <= 70 and (epoch + 1) % 5 == 0:\n",
    "#             alpha *= 0.95\n",
    "#             update_learn_rate(optimizer, alpha)\n",
    "#         elif epoch > 70 and epoch <= 100 and (epoch + 1) % 5 == 0:\n",
    "#             alpha *= 0.925\n",
    "#             update_learn_rate(optimizer, alpha)\n",
    "#         elif epoch > 100 and (epoch + 1) % 5 == 0:\n",
    "#             alpha *= 0.5\n",
    "#             update_learn_rate(optimizer, alpha)\n",
    "\n",
    "#         pred = net(img)\n",
    "#         loss = criterion(pred, target)\n",
    "\n",
    "#         optimizer.zero_grad()\n",
    "#         loss.backward()\n",
    "#         optimizer.step()\n",
    "\n",
    "#         # print statistics\n",
    "#         running_loss += loss.item()\n",
    "#         if i % print_every == print_every - 1:\n",
    "#             print(f\"[epoch={epoch + 1:3d}, iter={i + 1:5d}] loss: {running_loss / print_every:.3f}\")\n",
    "#             running_loss = 0.0\n",
    "#     scheduler.step()\n",
    "# print(\"Finished Training\")"
   ]
  },
  {
   "cell_type": "code",
   "execution_count": 25,
   "id": "36d6cd88",
   "metadata": {
    "collapsed": false,
    "execution": {
     "iopub.execute_input": "2025-03-01T07:32:30.677362Z",
     "iopub.status.busy": "2025-03-01T07:32:30.677101Z",
     "iopub.status.idle": "2025-03-01T07:32:30.680166Z",
     "shell.execute_reply": "2025-03-01T07:32:30.679487Z"
    },
    "jupyter": {
     "outputs_hidden": false
    },
    "papermill": {
     "duration": 0.018772,
     "end_time": "2025-03-01T07:32:30.681295",
     "exception": false,
     "start_time": "2025-03-01T07:32:30.662523",
     "status": "completed"
    },
    "tags": []
   },
   "outputs": [],
   "source": [
    "# net.eval()\n",
    "# correct, total = 0, 0\n",
    "# with torch.no_grad():\n",
    "#     for img, target in loader[\"test\"]:\n",
    "#         img, target = img.to(device), target.to(device)\n",
    "        \n",
    "#         # make prediction\n",
    "#         pred = net(img)\n",
    "        \n",
    "#         # accumulate\n",
    "#         total += len(target)\n",
    "#         correct += (torch.argmax(pred, dim=1) == target).sum().item()\n",
    "\n",
    "# print(f\"Accuracy of the network on the {total} test images: {100 * correct / total:.2f}%\")"
   ]
  },
  {
   "cell_type": "markdown",
   "id": "b5aa8923",
   "metadata": {
    "papermill": {
     "duration": 0.013181,
     "end_time": "2025-03-01T07:32:30.708339",
     "exception": false,
     "start_time": "2025-03-01T07:32:30.695158",
     "status": "completed"
    },
    "tags": []
   },
   "source": [
    "## 5. Variant 4\n",
    "Changing the data augementation.  \n",
    "Ref: https://zhuanlan.zhihu.com/p/49180361"
   ]
  },
  {
   "cell_type": "code",
   "execution_count": 26,
   "id": "7aa84f83",
   "metadata": {
    "execution": {
     "iopub.execute_input": "2025-03-01T07:32:30.735819Z",
     "iopub.status.busy": "2025-03-01T07:32:30.735542Z",
     "iopub.status.idle": "2025-03-01T07:32:30.738824Z",
     "shell.execute_reply": "2025-03-01T07:32:30.738180Z"
    },
    "papermill": {
     "duration": 0.018417,
     "end_time": "2025-03-01T07:32:30.740112",
     "exception": false,
     "start_time": "2025-03-01T07:32:30.721695",
     "status": "completed"
    },
    "tags": []
   },
   "outputs": [],
   "source": [
    "# # prepare datasets\n",
    "# # preprocessing pipeline for input images\n",
    "# transformation = dict()\n",
    "# for data_type in (\"train\", \"test\"):\n",
    "#     is_train = data_type==\"train\"\n",
    "#     transformation[data_type] = tv_transforms.Compose(([\n",
    "#         tv_transforms.RandomRotation(degrees=15),\n",
    "#         tv_transforms.RandomHorizontalFlip(),\n",
    "#         tv_transforms.RandomAffine(degrees=0, translate=(0.1, 0.1)),\n",
    "#     ] if is_train else []) + \n",
    "#     [\n",
    "#         tv_transforms.ToTensor(),\n",
    "#         tv_transforms.Normalize(mean=[0.5, 0.5, 0.5], std=[0.5, 0.5, 0.5]),\n",
    "#     ])\n",
    "    \n",
    "# num_workers = 2\n",
    "# batch_size = 64\n",
    "# dataset, loader = {}, {}\n",
    "# for data_type in (\"train\", \"test\"):\n",
    "#     is_train = data_type==\"train\"\n",
    "#     dataset[data_type] = tv_datasets.CIFAR10(\n",
    "#         root=\"./data\", train=is_train, download=True, transform=transformation[data_type],\n",
    "#     )\n",
    "#     loader[data_type] = torch.utils.data.DataLoader(\n",
    "#         dataset[data_type], batch_size=batch_size, shuffle=is_train, num_workers=num_workers,\n",
    "#     )\n"
   ]
  },
  {
   "cell_type": "code",
   "execution_count": 27,
   "id": "48b58061",
   "metadata": {
    "execution": {
     "iopub.execute_input": "2025-03-01T07:32:30.767926Z",
     "iopub.status.busy": "2025-03-01T07:32:30.767638Z",
     "iopub.status.idle": "2025-03-01T07:32:30.770935Z",
     "shell.execute_reply": "2025-03-01T07:32:30.770069Z"
    },
    "papermill": {
     "duration": 0.018626,
     "end_time": "2025-03-01T07:32:30.772285",
     "exception": false,
     "start_time": "2025-03-01T07:32:30.753659",
     "status": "completed"
    },
    "tags": []
   },
   "outputs": [],
   "source": [
    "# # some experimental setup\n",
    "# from torch.optim import lr_scheduler\n",
    "\n",
    "# device = torch.device(\"cuda:0\" if torch.cuda.is_available() else \"cpu\")\n",
    "\n",
    "# num_epochs = 128\n",
    "# print_every = 200\n",
    "\n",
    "# optim_name = \"AdamW\"\n",
    "# optim_kwargs = dict(\n",
    "#     lr=3e-4,\n",
    "#     weight_decay=1e-6,\n",
    "# )"
   ]
  },
  {
   "cell_type": "code",
   "execution_count": 28,
   "id": "98649d51",
   "metadata": {
    "collapsed": false,
    "execution": {
     "iopub.execute_input": "2025-03-01T07:32:30.799760Z",
     "iopub.status.busy": "2025-03-01T07:32:30.799498Z",
     "iopub.status.idle": "2025-03-01T07:32:30.802680Z",
     "shell.execute_reply": "2025-03-01T07:32:30.802043Z"
    },
    "jupyter": {
     "outputs_hidden": false
    },
    "papermill": {
     "duration": 0.018545,
     "end_time": "2025-03-01T07:32:30.803939",
     "exception": false,
     "start_time": "2025-03-01T07:32:30.785394",
     "status": "completed"
    },
    "tags": []
   },
   "outputs": [],
   "source": [
    "# # our network architecture\n",
    "# net = nn.Sequential(\n",
    "#     nn.Conv2d(3, 128, 3, padding=1), nn.ReLU(inplace=True), nn.MaxPool2d(2), nn.Dropout(0.3),\n",
    "#     nn.Conv2d(128, 256, 3, padding=1), nn.ReLU(inplace=True), nn.MaxPool2d(2), nn.Dropout(0.3),\n",
    "#     nn.Conv2d(256, 512, 3, padding=1), nn.ReLU(inplace=True),\n",
    "#     nn.Conv2d(512, 512, 3, padding=1), nn.ReLU(inplace=True),\n",
    "#     nn.Conv2d(512, 256, 3, padding=1), nn.ReLU(inplace=True), nn.MaxPool2d(2), nn.Dropout(0.3),\n",
    "#     nn.Flatten(),\n",
    "#     nn.Linear(256 * 4 * 4, 512), nn.ReLU(inplace=True), nn.Dropout(0.5),\n",
    "#     nn.Linear(512, 256), nn.ReLU(inplace=True), nn.Dropout(0.5),\n",
    "#     nn.Linear(256, 128), nn.ReLU(inplace=True), nn.Dropout(0.5),\n",
    "#     nn.Linear(128, 10),\n",
    "# )\n",
    "\n",
    "# # move to device\n",
    "# net.to(device)\n",
    "\n",
    "# # print the number of parameters\n",
    "# print(f\"number of parameters: {sum(p.numel() for p in net.parameters() if p.requires_grad) / 1_000_000:.2f}M\")"
   ]
  },
  {
   "cell_type": "code",
   "execution_count": 29,
   "id": "940c510a",
   "metadata": {
    "execution": {
     "iopub.execute_input": "2025-03-01T07:32:30.831219Z",
     "iopub.status.busy": "2025-03-01T07:32:30.830965Z",
     "iopub.status.idle": "2025-03-01T07:32:30.834118Z",
     "shell.execute_reply": "2025-03-01T07:32:30.833276Z"
    },
    "papermill": {
     "duration": 0.018264,
     "end_time": "2025-03-01T07:32:30.835477",
     "exception": false,
     "start_time": "2025-03-01T07:32:30.817213",
     "status": "completed"
    },
    "tags": []
   },
   "outputs": [],
   "source": [
    "# # the network optimizer\n",
    "# optimizer = getattr(optim, optim_name)(net.parameters(), **optim_kwargs)\n",
    "\n",
    "# # loss function\n",
    "# criterion = nn.CrossEntropyLoss()\n",
    "\n",
    "# # the network lr_scheduler\n",
    "# scheduler = lr_scheduler.StepLR(optimizer, step_size=15,gamma=0.1)"
   ]
  },
  {
   "cell_type": "code",
   "execution_count": 30,
   "id": "dc98cb92",
   "metadata": {
    "execution": {
     "iopub.execute_input": "2025-03-01T07:32:30.863215Z",
     "iopub.status.busy": "2025-03-01T07:32:30.862906Z",
     "iopub.status.idle": "2025-03-01T07:32:30.866304Z",
     "shell.execute_reply": "2025-03-01T07:32:30.865479Z"
    },
    "papermill": {
     "duration": 0.018922,
     "end_time": "2025-03-01T07:32:30.867665",
     "exception": false,
     "start_time": "2025-03-01T07:32:30.848743",
     "status": "completed"
    },
    "tags": []
   },
   "outputs": [],
   "source": [
    "# # training loop\n",
    "# net.train()\n",
    "# for epoch in range(num_epochs):\n",
    "#     scheduler.step()\n",
    "#     running_loss = 0.0\n",
    "#     for i, (img, target) in enumerate(loader[\"train\"]):\n",
    "#         img, target = img.to(device), target.to(device)\n",
    "\n",
    "#         pred = net(img)\n",
    "#         loss = criterion(pred, target)\n",
    "\n",
    "#         optimizer.zero_grad()\n",
    "#         loss.backward()\n",
    "#         optimizer.step()\n",
    "\n",
    "#         # print statistics\n",
    "#         running_loss += loss.item()\n",
    "#         if i % print_every == print_every - 1:\n",
    "#             print(f\"[epoch={epoch + 1:3d}, iter={i + 1:5d}] loss: {running_loss / print_every:.3f}\")\n",
    "#             running_loss = 0.0\n",
    "    \n",
    "# print(\"Finished Training\")"
   ]
  },
  {
   "cell_type": "code",
   "execution_count": 31,
   "id": "247bf460",
   "metadata": {
    "collapsed": false,
    "execution": {
     "iopub.execute_input": "2025-03-01T07:32:30.895340Z",
     "iopub.status.busy": "2025-03-01T07:32:30.895060Z",
     "iopub.status.idle": "2025-03-01T07:32:30.898360Z",
     "shell.execute_reply": "2025-03-01T07:32:30.897494Z"
    },
    "jupyter": {
     "outputs_hidden": false
    },
    "papermill": {
     "duration": 0.018671,
     "end_time": "2025-03-01T07:32:30.899701",
     "exception": false,
     "start_time": "2025-03-01T07:32:30.881030",
     "status": "completed"
    },
    "tags": []
   },
   "outputs": [],
   "source": [
    "# net.eval()\n",
    "# correct, total = 0, 0\n",
    "# with torch.no_grad():\n",
    "#     for img, target in loader[\"test\"]:\n",
    "#         img, target = img.to(device), target.to(device)\n",
    "        \n",
    "#         # make prediction\n",
    "#         pred = net(img)\n",
    "        \n",
    "#         # accumulate\n",
    "#         total += len(target)\n",
    "#         correct += (torch.argmax(pred, dim=1) == target).sum().item()\n",
    "\n",
    "# print(f\"Accuracy of the network on the {total} test images: {100 * correct / total:.2f}%\")"
   ]
  }
 ],
 "metadata": {
  "kaggle": {
   "accelerator": "nvidiaTeslaT4",
   "dataSources": [],
   "dockerImageVersionId": 30918,
   "isGpuEnabled": true,
   "isInternetEnabled": true,
   "language": "python",
   "sourceType": "notebook"
  },
  "kernelspec": {
   "display_name": "Python 3",
   "language": "python",
   "name": "python3"
  },
  "language_info": {
   "codemirror_mode": {
    "name": "ipython",
    "version": 3
   },
   "file_extension": ".py",
   "mimetype": "text/x-python",
   "name": "python",
   "nbconvert_exporter": "python",
   "pygments_lexer": "ipython3",
   "version": "3.10.12"
  },
  "papermill": {
   "default_parameters": {},
   "duration": 830.983611,
   "end_time": "2025-03-01T07:32:32.636199",
   "environment_variables": {},
   "exception": null,
   "input_path": "__notebook__.ipynb",
   "output_path": "__notebook__.ipynb",
   "parameters": {},
   "start_time": "2025-03-01T07:18:41.652588",
   "version": "2.6.0"
  }
 },
 "nbformat": 4,
 "nbformat_minor": 5
}
