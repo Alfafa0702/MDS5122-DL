{
 "cells": [
  {
   "cell_type": "markdown",
   "id": "2ca399e0",
   "metadata": {
    "papermill": {
     "duration": 0.009044,
     "end_time": "2025-03-12T07:12:49.626289",
     "exception": false,
     "start_time": "2025-03-12T07:12:49.617245",
     "status": "completed"
    },
    "tags": []
   },
   "source": [
    "# Assignment 1 - Code Example - Part A\n",
    "\n",
    "This code baseline is inspired by and modified from [this great tutorial](https://pytorch.org/tutorials/beginner/blitz/cifar10_tutorial.html).\n",
    "\n",
    "This code can achieve an accuracy of approximately 86.50% on CIFAR-10. Please set up the environment and run your experiments starting from this baseline. You are expected to achieve an accuracy higher than this baseline."
   ]
  },
  {
   "cell_type": "code",
   "execution_count": 1,
   "id": "9be4a4e1",
   "metadata": {
    "collapsed": false,
    "execution": {
     "iopub.execute_input": "2025-03-12T07:12:49.644726Z",
     "iopub.status.busy": "2025-03-12T07:12:49.644413Z",
     "iopub.status.idle": "2025-03-12T07:12:57.016940Z",
     "shell.execute_reply": "2025-03-12T07:12:57.016222Z"
    },
    "jupyter": {
     "outputs_hidden": false
    },
    "papermill": {
     "duration": 7.383546,
     "end_time": "2025-03-12T07:12:57.018621",
     "exception": false,
     "start_time": "2025-03-12T07:12:49.635075",
     "status": "completed"
    },
    "tags": []
   },
   "outputs": [],
   "source": [
    "# import some necessary packages\n",
    "#!pip3 install torch torchvision torchaudio --index-url https://download.pytorch.org/whl/cu121\n",
    "import torch\n",
    "import torch.nn as nn\n",
    "import torch.optim as optim\n",
    "\n",
    "import torchvision.datasets as tv_datasets\n",
    "import torchvision.transforms as tv_transforms\n",
    "import matplotlib.pyplot as plt"
   ]
  },
  {
   "cell_type": "code",
   "execution_count": 2,
   "id": "5e7ff7e0",
   "metadata": {
    "execution": {
     "iopub.execute_input": "2025-03-12T07:12:57.036463Z",
     "iopub.status.busy": "2025-03-12T07:12:57.036085Z",
     "iopub.status.idle": "2025-03-12T07:12:57.147258Z",
     "shell.execute_reply": "2025-03-12T07:12:57.146420Z"
    },
    "papermill": {
     "duration": 0.121121,
     "end_time": "2025-03-12T07:12:57.148587",
     "exception": false,
     "start_time": "2025-03-12T07:12:57.027466",
     "status": "completed"
    },
    "tags": []
   },
   "outputs": [
    {
     "name": "stdout",
     "output_type": "stream",
     "text": [
      "CUDA Version: 12.1\n",
      "CUDA Device: Tesla T4\n",
      "PyTorch Version: 2.5.1+cu121\n",
      "torchvision Version: 0.20.1+cu121\n"
     ]
    }
   ],
   "source": [
    "if torch.cuda.is_available():\n",
    "    print(\"CUDA Version:\", torch.version.cuda)\n",
    "    print(\"CUDA Device:\", torch.cuda.get_device_name(0))\n",
    "else:\n",
    "    print(\"CUDA is not available.\")\n",
    "\n",
    "print(f\"PyTorch Version: {torch.__version__}\")\n",
    "import torchvision\n",
    "print(f\"torchvision Version: {torchvision.__version__}\")"
   ]
  },
  {
   "cell_type": "markdown",
   "id": "e37a4e98",
   "metadata": {
    "papermill": {
     "duration": 0.007857,
     "end_time": "2025-03-12T07:12:57.165011",
     "exception": false,
     "start_time": "2025-03-12T07:12:57.157154",
     "status": "completed"
    },
    "tags": []
   },
   "source": [
    "## 1. Baseline Model\n",
    "### 1.1 Settings"
   ]
  },
  {
   "cell_type": "code",
   "execution_count": 3,
   "id": "a26fc8de",
   "metadata": {
    "execution": {
     "iopub.execute_input": "2025-03-12T07:12:57.181839Z",
     "iopub.status.busy": "2025-03-12T07:12:57.181608Z",
     "iopub.status.idle": "2025-03-12T07:12:57.184526Z",
     "shell.execute_reply": "2025-03-12T07:12:57.183910Z"
    },
    "papermill": {
     "duration": 0.012661,
     "end_time": "2025-03-12T07:12:57.185709",
     "exception": false,
     "start_time": "2025-03-12T07:12:57.173048",
     "status": "completed"
    },
    "tags": []
   },
   "outputs": [],
   "source": [
    "# # some experimental setup\n",
    "# device = torch.device(\"cuda:0\" if torch.cuda.is_available() else \"cpu\")\n",
    "\n",
    "# num_epochs = 128\n",
    "# batch_size = 64\n",
    "# print_every = 200\n",
    "\n",
    "# optim_name = \"Adam\"\n",
    "# optim_kwargs = dict(\n",
    "#     lr=3e-4,\n",
    "#     weight_decay=1e-6,\n",
    "# )"
   ]
  },
  {
   "cell_type": "code",
   "execution_count": 4,
   "id": "cc1df618",
   "metadata": {
    "collapsed": false,
    "execution": {
     "iopub.execute_input": "2025-03-12T07:12:57.202901Z",
     "iopub.status.busy": "2025-03-12T07:12:57.202674Z",
     "iopub.status.idle": "2025-03-12T07:12:57.205705Z",
     "shell.execute_reply": "2025-03-12T07:12:57.205070Z"
    },
    "jupyter": {
     "outputs_hidden": false
    },
    "papermill": {
     "duration": 0.013006,
     "end_time": "2025-03-12T07:12:57.206980",
     "exception": false,
     "start_time": "2025-03-12T07:12:57.193974",
     "status": "completed"
    },
    "tags": []
   },
   "outputs": [],
   "source": [
    "# # prepare datasets\n",
    "# # preprocessing pipeline for input images\n",
    "# transformation = dict()\n",
    "# for data_type in (\"train\", \"test\"):\n",
    "#     is_train = data_type==\"train\"\n",
    "#     transformation[data_type] = tv_transforms.Compose(([\n",
    "#         tv_transforms.RandomRotation(degrees=15),\n",
    "#         tv_transforms.RandomHorizontalFlip(),\n",
    "#         tv_transforms.RandomAffine(degrees=0, translate=(0.1, 0.1)),\n",
    "#     ] if is_train else []) + \n",
    "#     [\n",
    "#         tv_transforms.ToTensor(),\n",
    "#         tv_transforms.Normalize(mean=[0.5, 0.5, 0.5], std=[0.5, 0.5, 0.5]),\n",
    "#     ])\n",
    "    \n",
    "# num_workers = 2\n",
    "# dataset, loader = {}, {}\n",
    "# for data_type in (\"train\", \"test\"):\n",
    "#     is_train = data_type==\"train\"\n",
    "#     dataset[data_type] = tv_datasets.CIFAR10(\n",
    "#         root=\"./data\", train=is_train, download=True, transform=transformation[data_type],\n",
    "#     )\n",
    "#     loader[data_type] = torch.utils.data.DataLoader(\n",
    "#         dataset[data_type], batch_size=batch_size, shuffle=is_train, num_workers=num_workers,\n",
    "#     )\n"
   ]
  },
  {
   "cell_type": "code",
   "execution_count": 5,
   "id": "609882f2",
   "metadata": {
    "collapsed": false,
    "execution": {
     "iopub.execute_input": "2025-03-12T07:12:57.224278Z",
     "iopub.status.busy": "2025-03-12T07:12:57.224030Z",
     "iopub.status.idle": "2025-03-12T07:12:57.226797Z",
     "shell.execute_reply": "2025-03-12T07:12:57.226189Z"
    },
    "jupyter": {
     "outputs_hidden": false
    },
    "papermill": {
     "duration": 0.01245,
     "end_time": "2025-03-12T07:12:57.228043",
     "exception": false,
     "start_time": "2025-03-12T07:12:57.215593",
     "status": "completed"
    },
    "tags": []
   },
   "outputs": [],
   "source": [
    "# # our network architecture\n",
    "# net = nn.Sequential(\n",
    "#     nn.Conv2d(3, 128, 3, padding=1), nn.ReLU(inplace=True), nn.MaxPool2d(2), nn.Dropout(0.3),\n",
    "#     nn.Conv2d(128, 256, 3, padding=1), nn.ReLU(inplace=True), nn.MaxPool2d(2), nn.Dropout(0.3),\n",
    "#     nn.Conv2d(256, 512, 3, padding=1), nn.ReLU(inplace=True),\n",
    "#     nn.Conv2d(512, 512, 3, padding=1), nn.ReLU(inplace=True),\n",
    "#     nn.Conv2d(512, 256, 3, padding=1), nn.ReLU(inplace=True), nn.MaxPool2d(2), nn.Dropout(0.3),\n",
    "#     nn.Flatten(),\n",
    "#     nn.Linear(256 * 4 * 4, 512), nn.ReLU(inplace=True), nn.Dropout(0.5),\n",
    "#     nn.Linear(512, 256), nn.ReLU(inplace=True), nn.Dropout(0.5),\n",
    "#     nn.Linear(256, 128), nn.ReLU(inplace=True), nn.Dropout(0.5),\n",
    "#     nn.Linear(128, 10),\n",
    "# )\n",
    "\n",
    "# # move to device\n",
    "# net.to(device)\n",
    "\n",
    "# # print the number of parameters\n",
    "# print(f\"number of parameters: {sum(p.numel() for p in net.parameters() if p.requires_grad) / 1_000_000:.2f}M\")"
   ]
  },
  {
   "cell_type": "markdown",
   "id": "03dc5dee",
   "metadata": {
    "papermill": {
     "duration": 0.007892,
     "end_time": "2025-03-12T07:12:57.244482",
     "exception": false,
     "start_time": "2025-03-12T07:12:57.236590",
     "status": "completed"
    },
    "tags": []
   },
   "source": [
    "### 1.2 Start Training"
   ]
  },
  {
   "cell_type": "code",
   "execution_count": 6,
   "id": "eaac08fe",
   "metadata": {
    "collapsed": true,
    "execution": {
     "iopub.execute_input": "2025-03-12T07:12:57.261318Z",
     "iopub.status.busy": "2025-03-12T07:12:57.261033Z",
     "iopub.status.idle": "2025-03-12T07:12:57.263915Z",
     "shell.execute_reply": "2025-03-12T07:12:57.263316Z"
    },
    "jupyter": {
     "outputs_hidden": true
    },
    "papermill": {
     "duration": 0.012622,
     "end_time": "2025-03-12T07:12:57.265222",
     "exception": false,
     "start_time": "2025-03-12T07:12:57.252600",
     "status": "completed"
    },
    "tags": []
   },
   "outputs": [],
   "source": [
    "# # the network optimizer\n",
    "# optimizer = getattr(optim, optim_name)(net.parameters(), **optim_kwargs)\n",
    "\n",
    "# # loss function\n",
    "# criterion = nn.CrossEntropyLoss()\n",
    "\n",
    "# # training loop\n",
    "# net.train()\n",
    "# for epoch in range(num_epochs):\n",
    "\n",
    "#     running_loss = 0.0\n",
    "#     for i, (img, target) in enumerate(loader[\"train\"]):\n",
    "#         img, target = img.to(device), target.to(device)\n",
    "\n",
    "#         pred = net(img)\n",
    "#         loss = criterion(pred, target)\n",
    "\n",
    "#         optimizer.zero_grad()\n",
    "#         loss.backward()\n",
    "#         optimizer.step()\n",
    "\n",
    "#         # print statistics\n",
    "#         running_loss += loss.item()\n",
    "#         if i % print_every == print_every - 1:\n",
    "#             print(f\"[epoch={epoch + 1:3d}, iter={i + 1:5d}] loss: {running_loss / print_every:.3f}\")\n",
    "#             running_loss = 0.0\n",
    "\n",
    "# print(\"Finished Training\")"
   ]
  },
  {
   "cell_type": "markdown",
   "id": "cf53f3dd",
   "metadata": {
    "papermill": {
     "duration": 0.007793,
     "end_time": "2025-03-12T07:12:57.280994",
     "exception": false,
     "start_time": "2025-03-12T07:12:57.273201",
     "status": "completed"
    },
    "tags": []
   },
   "source": [
    "### 1.3 Evaluating its accuracy"
   ]
  },
  {
   "cell_type": "code",
   "execution_count": 7,
   "id": "355b5828",
   "metadata": {
    "collapsed": false,
    "execution": {
     "iopub.execute_input": "2025-03-12T07:12:57.297758Z",
     "iopub.status.busy": "2025-03-12T07:12:57.297537Z",
     "iopub.status.idle": "2025-03-12T07:12:57.300565Z",
     "shell.execute_reply": "2025-03-12T07:12:57.299796Z"
    },
    "jupyter": {
     "outputs_hidden": false
    },
    "papermill": {
     "duration": 0.012905,
     "end_time": "2025-03-12T07:12:57.301817",
     "exception": false,
     "start_time": "2025-03-12T07:12:57.288912",
     "status": "completed"
    },
    "tags": []
   },
   "outputs": [],
   "source": [
    "# net.eval()\n",
    "# correct, total = 0, 0\n",
    "# with torch.no_grad():\n",
    "#     for img, target in loader[\"test\"]:\n",
    "#         img, target = img.to(device), target.to(device)\n",
    "        \n",
    "#         # make prediction\n",
    "#         pred = net(img)\n",
    "        \n",
    "#         # accumulate\n",
    "#         total += len(target)\n",
    "#         correct += (torch.argmax(pred, dim=1) == target).sum().item()\n",
    "\n",
    "# print(f\"Accuracy of the network on the {total} test images: {100 * correct / total:.2f}%\")"
   ]
  },
  {
   "cell_type": "markdown",
   "id": "58661b5f",
   "metadata": {
    "papermill": {
     "duration": 0.007783,
     "end_time": "2025-03-12T07:12:57.317592",
     "exception": false,
     "start_time": "2025-03-12T07:12:57.309809",
     "status": "completed"
    },
    "tags": []
   },
   "source": [
    "## 2. Variant 1\n",
    "Adding batchnorm dropping the dropout layers in conv blocks, and decreasing the dropout ratio in linear layers.  \n",
    "Time consuming: 50m   \n",
    "last loss: 0.033   \n",
    "Test acc: 89.31%"
   ]
  },
  {
   "cell_type": "code",
   "execution_count": 8,
   "id": "1b70f3ad",
   "metadata": {
    "execution": {
     "iopub.execute_input": "2025-03-12T07:12:57.335292Z",
     "iopub.status.busy": "2025-03-12T07:12:57.335000Z",
     "iopub.status.idle": "2025-03-12T07:12:57.337933Z",
     "shell.execute_reply": "2025-03-12T07:12:57.337307Z"
    },
    "papermill": {
     "duration": 0.013236,
     "end_time": "2025-03-12T07:12:57.339066",
     "exception": false,
     "start_time": "2025-03-12T07:12:57.325830",
     "status": "completed"
    },
    "tags": []
   },
   "outputs": [],
   "source": [
    "# # some experimental setup\n",
    "# device = torch.device(\"cuda:0\" if torch.cuda.is_available() else \"cpu\")\n",
    "\n",
    "# num_epochs = 128\n",
    "# batch_size = 64\n",
    "# print_every = 200\n",
    "\n",
    "# optim_name = \"Adam\"\n",
    "# optim_kwargs = dict(\n",
    "#     lr=3e-4,\n",
    "#     weight_decay=1e-6,\n",
    "# )"
   ]
  },
  {
   "cell_type": "code",
   "execution_count": 9,
   "id": "1ee4ca09",
   "metadata": {
    "collapsed": false,
    "execution": {
     "iopub.execute_input": "2025-03-12T07:12:57.356378Z",
     "iopub.status.busy": "2025-03-12T07:12:57.356138Z",
     "iopub.status.idle": "2025-03-12T07:12:57.358965Z",
     "shell.execute_reply": "2025-03-12T07:12:57.358409Z"
    },
    "jupyter": {
     "outputs_hidden": false
    },
    "papermill": {
     "duration": 0.012642,
     "end_time": "2025-03-12T07:12:57.360071",
     "exception": false,
     "start_time": "2025-03-12T07:12:57.347429",
     "status": "completed"
    },
    "tags": []
   },
   "outputs": [],
   "source": [
    "# # prepare datasets\n",
    "# # preprocessing pipeline for input images\n",
    "# transformation = dict()\n",
    "# for data_type in (\"train\", \"test\"):\n",
    "#     is_train = data_type==\"train\"\n",
    "#     transformation[data_type] = tv_transforms.Compose(([\n",
    "#         tv_transforms.RandomRotation(degrees=15),\n",
    "#         tv_transforms.RandomHorizontalFlip(),\n",
    "#         tv_transforms.RandomAffine(degrees=0, translate=(0.1, 0.1)),\n",
    "#     ] if is_train else []) + \n",
    "#     [\n",
    "#         tv_transforms.ToTensor(),\n",
    "#         tv_transforms.Normalize(mean=[0.5, 0.5, 0.5], std=[0.5, 0.5, 0.5]),\n",
    "#     ])\n",
    "    \n",
    "# num_workers = 2\n",
    "# dataset, loader = {}, {}\n",
    "# for data_type in (\"train\", \"test\"):\n",
    "#     is_train = data_type==\"train\"\n",
    "#     dataset[data_type] = tv_datasets.CIFAR10(\n",
    "#         root=\"./data\", train=is_train, download=True, transform=transformation[data_type],\n",
    "#     )\n",
    "#     loader[data_type] = torch.utils.data.DataLoader(\n",
    "#         dataset[data_type], batch_size=batch_size, shuffle=is_train, num_workers=num_workers,\n",
    "#     )\n"
   ]
  },
  {
   "cell_type": "code",
   "execution_count": 10,
   "id": "df8e8958",
   "metadata": {
    "collapsed": false,
    "execution": {
     "iopub.execute_input": "2025-03-12T07:12:57.376825Z",
     "iopub.status.busy": "2025-03-12T07:12:57.376618Z",
     "iopub.status.idle": "2025-03-12T07:12:57.379447Z",
     "shell.execute_reply": "2025-03-12T07:12:57.378857Z"
    },
    "jupyter": {
     "outputs_hidden": false
    },
    "papermill": {
     "duration": 0.012391,
     "end_time": "2025-03-12T07:12:57.380685",
     "exception": false,
     "start_time": "2025-03-12T07:12:57.368294",
     "status": "completed"
    },
    "tags": []
   },
   "outputs": [],
   "source": [
    "# # our network architecture\n",
    "# net = nn.Sequential(\n",
    "#     nn.Conv2d(3, 128, 3, padding=1), nn.ReLU(inplace=True), nn.MaxPool2d(2),nn.BatchNorm2d(128),\n",
    "#     nn.Conv2d(128, 256, 3, padding=1), nn.ReLU(inplace=True), nn.MaxPool2d(2),nn.BatchNorm2d(256),\n",
    "#     nn.Conv2d(256, 512, 3, padding=1), nn.ReLU(inplace=True),nn.BatchNorm2d(512),\n",
    "#     nn.Conv2d(512, 512, 3, padding=1), nn.ReLU(inplace=True),nn.BatchNorm2d(512),\n",
    "#     nn.Conv2d(512, 256, 3, padding=1), nn.ReLU(inplace=True), nn.MaxPool2d(2),nn.BatchNorm2d(256),\n",
    "#     nn.Flatten(),\n",
    "#     nn.Linear(256 * 4 * 4, 512), nn.ReLU(inplace=True), nn.Dropout(0.3),nn.BatchNorm1d(512),\n",
    "#     nn.Linear(512, 256), nn.ReLU(inplace=True), nn.Dropout(0.3),nn.BatchNorm1d(256),\n",
    "#     nn.Linear(256, 128), nn.ReLU(inplace=True), nn.Dropout(0.3),nn.BatchNorm1d(128),\n",
    "#     nn.Linear(128, 10),\n",
    "# )\n",
    "\n",
    "# # move to device\n",
    "# net.to(device)\n",
    "\n",
    "# # print the number of parameters\n",
    "# print(f\"number of parameters: {sum(p.numel() for p in net.parameters() if p.requires_grad) / 1_000_000:.2f}M\")"
   ]
  },
  {
   "cell_type": "code",
   "execution_count": 11,
   "id": "152e6207",
   "metadata": {
    "collapsed": true,
    "execution": {
     "iopub.execute_input": "2025-03-12T07:12:57.398240Z",
     "iopub.status.busy": "2025-03-12T07:12:57.397995Z",
     "iopub.status.idle": "2025-03-12T07:12:57.401257Z",
     "shell.execute_reply": "2025-03-12T07:12:57.400594Z"
    },
    "jupyter": {
     "outputs_hidden": true
    },
    "papermill": {
     "duration": 0.013006,
     "end_time": "2025-03-12T07:12:57.402468",
     "exception": false,
     "start_time": "2025-03-12T07:12:57.389462",
     "status": "completed"
    },
    "tags": []
   },
   "outputs": [],
   "source": [
    "# # the network optimizer\n",
    "# optimizer = getattr(optim, optim_name)(net.parameters(), **optim_kwargs)\n",
    "\n",
    "# # loss function\n",
    "# criterion = nn.CrossEntropyLoss()\n",
    "\n",
    "# # 训练循环\n",
    "# losses = []\n",
    "# accuracies = []\n",
    "# test_losses = []\n",
    "\n",
    "# for epoch in range(num_epochs):\n",
    "#     # 训练阶段\n",
    "#     net.train()\n",
    "#     running_loss = 0.0\n",
    "#     for i, (img, target) in enumerate(loader[\"train\"]):\n",
    "#         img, target = img.to(device), target.to(device)\n",
    "        \n",
    "#         pred = net(img)\n",
    "#         loss = criterion(pred, target)\n",
    "        \n",
    "#         optimizer.zero_grad()\n",
    "#         loss.backward()\n",
    "#         optimizer.step()\n",
    "        \n",
    "#         running_loss += loss.item()\n",
    "        \n",
    "#         if i % print_every == print_every - 1:\n",
    "#             print(f\"[epoch={epoch + 1:3d}, iter={i + 1:5d}] training loss: {running_loss / print_every:.3f}\")\n",
    "#             running_loss = 0.0\n",
    "    \n",
    "#     # 每个epoch结束后进行一次评估\n",
    "#     net.eval()\n",
    "#     test_loss = 0.0\n",
    "#     correct = 0\n",
    "#     total = 0\n",
    "    \n",
    "#     with torch.no_grad():\n",
    "#         for img, target in loader[\"test\"]:\n",
    "#             img, target = img.to(device), target.to(device)\n",
    "            \n",
    "#             pred = net(img)\n",
    "#             loss = criterion(pred, target)\n",
    "            \n",
    "#             test_loss += loss.item()\n",
    "#             total += len(target)\n",
    "#             correct += (torch.argmax(pred, dim=1) == target).sum().item()\n",
    "    \n",
    "#     # 计算平均损失和准确率\n",
    "#     avg_test_loss = test_loss / len(loader[\"test\"])\n",
    "#     accuracy = correct / total\n",
    "    \n",
    "#     # 记录结果\n",
    "#     losses.append(running_loss / print_every)\n",
    "#     accuracies.append(accuracy)\n",
    "#     test_losses.append(avg_test_loss)\n",
    "    \n",
    "#     print(f\"Epoch {epoch + 1}: Test Loss: {avg_test_loss:.3f}, Accuracy: {100 * accuracy:.2f}%\")\n",
    "\n",
    "# print(\"Finished Training\")"
   ]
  },
  {
   "cell_type": "code",
   "execution_count": 12,
   "id": "151dd4f5",
   "metadata": {
    "execution": {
     "iopub.execute_input": "2025-03-12T07:12:57.419057Z",
     "iopub.status.busy": "2025-03-12T07:12:57.418843Z",
     "iopub.status.idle": "2025-03-12T07:12:57.421754Z",
     "shell.execute_reply": "2025-03-12T07:12:57.421199Z"
    },
    "papermill": {
     "duration": 0.012472,
     "end_time": "2025-03-12T07:12:57.422974",
     "exception": false,
     "start_time": "2025-03-12T07:12:57.410502",
     "status": "completed"
    },
    "tags": []
   },
   "outputs": [],
   "source": [
    "# import pandas as pd\n",
    "# import matplotlib.pyplot as plt\n",
    "\n",
    "# results_df = pd.DataFrame({\n",
    "#     'Epoch': range(1, num_epochs + 1),\n",
    "#     'Training Loss': losses,\n",
    "#     'Test Loss': test_losses,\n",
    "#     'Test Accuracy': accuracies\n",
    "# })\n",
    "\n",
    "# results_df.to_excel('training_results_Variant1.xlsx', index=False)\n",
    "\n",
    "# # 可视化\n",
    "# plt.figure(figsize=(18, 5))\n",
    "\n",
    "# # 训练损失曲线\n",
    "# plt.subplot(1, 3, 1)\n",
    "# plt.plot(results_df['Epoch'], results_df['Training Loss'], label='Training Loss')\n",
    "# plt.xlabel('Epoch')\n",
    "# plt.ylabel('Loss')\n",
    "# plt.title('Training Loss')\n",
    "# plt.legend()\n",
    "\n",
    "# # 测试损失曲线\n",
    "# plt.subplot(1, 3, 2)\n",
    "# plt.plot(results_df['Epoch'], results_df['Test Loss'], label='Test Loss', color='orange')\n",
    "# plt.xlabel('Epoch')\n",
    "# plt.ylabel('Loss')\n",
    "# plt.title('Test Loss')\n",
    "# plt.legend()\n",
    "\n",
    "# # 测试准确率曲线\n",
    "# plt.subplot(1, 3, 3)\n",
    "# plt.plot(results_df['Epoch'], results_df['Test Accuracy'], label='Test Accuracy', color='green')\n",
    "# plt.xlabel('Epoch')\n",
    "# plt.ylabel('Accuracy')\n",
    "# plt.title('Test Accuracy')\n",
    "# plt.legend()\n",
    "\n",
    "# plt.tight_layout()\n",
    "# plt.savefig('training_results_Variant1.jpg')\n",
    "# plt.show()"
   ]
  },
  {
   "cell_type": "code",
   "execution_count": 13,
   "id": "00ff8f1b",
   "metadata": {
    "execution": {
     "iopub.execute_input": "2025-03-12T07:12:57.440046Z",
     "iopub.status.busy": "2025-03-12T07:12:57.439853Z",
     "iopub.status.idle": "2025-03-12T07:12:57.442567Z",
     "shell.execute_reply": "2025-03-12T07:12:57.442013Z"
    },
    "papermill": {
     "duration": 0.012636,
     "end_time": "2025-03-12T07:12:57.443780",
     "exception": false,
     "start_time": "2025-03-12T07:12:57.431144",
     "status": "completed"
    },
    "tags": []
   },
   "outputs": [],
   "source": [
    "# # save model\n",
    "# torch.save(net.state_dict(), 'Variant1_3.pth')\n",
    "# # save model info\n",
    "# model_info = {\n",
    "#     \"Optimizer\": type(optimizer).__name__,\n",
    "#     \"Learning Rate\": optimizer.param_groups[0]['lr'],\n",
    "#     \"Weight Decay\": optimizer.param_groups[0]['weight_decay'],\n",
    "#     \"Network Architecture\": str(net)\n",
    "# }\n",
    "\n",
    "# model_info_df = pd.DataFrame([model_info])\n",
    "# model_info_df.to_excel('model_info_variant1.xlsx', index=False)"
   ]
  },
  {
   "cell_type": "code",
   "execution_count": 14,
   "id": "055683bd",
   "metadata": {
    "collapsed": false,
    "execution": {
     "iopub.execute_input": "2025-03-12T07:12:57.460489Z",
     "iopub.status.busy": "2025-03-12T07:12:57.460291Z",
     "iopub.status.idle": "2025-03-12T07:12:57.462946Z",
     "shell.execute_reply": "2025-03-12T07:12:57.462374Z"
    },
    "jupyter": {
     "outputs_hidden": false
    },
    "papermill": {
     "duration": 0.01222,
     "end_time": "2025-03-12T07:12:57.464099",
     "exception": false,
     "start_time": "2025-03-12T07:12:57.451879",
     "status": "completed"
    },
    "tags": []
   },
   "outputs": [],
   "source": [
    "# # evaluation\n",
    "# net.eval()\n",
    "# correct, total = 0, 0\n",
    "# with torch.no_grad():\n",
    "#     for img, target in loader[\"test\"]:\n",
    "#         img, target = img.to(device), target.to(device)\n",
    "        \n",
    "#         # make prediction\n",
    "#         pred = net(img)\n",
    "        \n",
    "#         # accumulate\n",
    "#         total += len(target)\n",
    "#         correct += (torch.argmax(pred, dim=1) == target).sum().item()\n",
    "\n",
    "# print(f\"Accuracy of the network on the {total} test images: {100 * correct / total:.2f}%\")"
   ]
  },
  {
   "cell_type": "markdown",
   "id": "048399f9",
   "metadata": {
    "papermill": {
     "duration": 0.007752,
     "end_time": "2025-03-12T07:12:57.479819",
     "exception": false,
     "start_time": "2025-03-12T07:12:57.472067",
     "status": "completed"
    },
    "tags": []
   },
   "source": [
    "## 3. Variant 2  \n",
    "Add 2 more Conv layers and use wider nets.  \n",
    "Time: 70min   \n",
    "last loss: 0.042  \n",
    "Test acc: 89.60%"
   ]
  },
  {
   "cell_type": "code",
   "execution_count": 15,
   "id": "c756865a",
   "metadata": {
    "execution": {
     "iopub.execute_input": "2025-03-12T07:12:57.496429Z",
     "iopub.status.busy": "2025-03-12T07:12:57.496217Z",
     "iopub.status.idle": "2025-03-12T07:12:57.498847Z",
     "shell.execute_reply": "2025-03-12T07:12:57.498290Z"
    },
    "papermill": {
     "duration": 0.012365,
     "end_time": "2025-03-12T07:12:57.499979",
     "exception": false,
     "start_time": "2025-03-12T07:12:57.487614",
     "status": "completed"
    },
    "tags": []
   },
   "outputs": [],
   "source": [
    "# # some experimental setup\n",
    "# device = torch.device(\"cuda:0\" if torch.cuda.is_available() else \"cpu\")\n",
    "\n",
    "# num_epochs = 64\n",
    "# batch_size = 64\n",
    "# print_every = 200\n",
    "\n",
    "# optim_name = \"Adam\"\n",
    "# optim_kwargs = dict(\n",
    "#     lr=3e-4,\n",
    "#     weight_decay=1e-6,\n",
    "# )"
   ]
  },
  {
   "cell_type": "code",
   "execution_count": 16,
   "id": "7b12f677",
   "metadata": {
    "execution": {
     "iopub.execute_input": "2025-03-12T07:12:57.516687Z",
     "iopub.status.busy": "2025-03-12T07:12:57.516495Z",
     "iopub.status.idle": "2025-03-12T07:12:57.519227Z",
     "shell.execute_reply": "2025-03-12T07:12:57.518649Z"
    },
    "papermill": {
     "duration": 0.012158,
     "end_time": "2025-03-12T07:12:57.520391",
     "exception": false,
     "start_time": "2025-03-12T07:12:57.508233",
     "status": "completed"
    },
    "tags": []
   },
   "outputs": [],
   "source": [
    "# # prepare datasets\n",
    "# # preprocessing pipeline for input images\n",
    "# transformation = dict()\n",
    "# for data_type in (\"train\", \"test\"):\n",
    "#     is_train = data_type==\"train\"\n",
    "#     transformation[data_type] = tv_transforms.Compose(([\n",
    "#         tv_transforms.RandomRotation(degrees=15),\n",
    "#         tv_transforms.RandomHorizontalFlip(),\n",
    "#         tv_transforms.RandomAffine(degrees=0, translate=(0.1, 0.1)),\n",
    "#     ] if is_train else []) + \n",
    "#     [\n",
    "#         tv_transforms.ToTensor(),\n",
    "#         tv_transforms.Normalize(mean=[0.5, 0.5, 0.5], std=[0.5, 0.5, 0.5]),\n",
    "#     ])\n",
    "    \n",
    "# num_workers = 2\n",
    "# dataset, loader = {}, {}\n",
    "# for data_type in (\"train\", \"test\"):\n",
    "#     is_train = data_type==\"train\"\n",
    "#     dataset[data_type] = tv_datasets.CIFAR10(\n",
    "#         root=\"./data\", train=is_train, download=True, transform=transformation[data_type],\n",
    "#     )\n",
    "#     loader[data_type] = torch.utils.data.DataLoader(\n",
    "#         dataset[data_type], batch_size=batch_size, shuffle=is_train, num_workers=num_workers,\n",
    "#     )\n"
   ]
  },
  {
   "cell_type": "code",
   "execution_count": 17,
   "id": "b618e751",
   "metadata": {
    "execution": {
     "iopub.execute_input": "2025-03-12T07:12:57.537371Z",
     "iopub.status.busy": "2025-03-12T07:12:57.537139Z",
     "iopub.status.idle": "2025-03-12T07:12:57.540171Z",
     "shell.execute_reply": "2025-03-12T07:12:57.539330Z"
    },
    "papermill": {
     "duration": 0.012945,
     "end_time": "2025-03-12T07:12:57.541489",
     "exception": false,
     "start_time": "2025-03-12T07:12:57.528544",
     "status": "completed"
    },
    "tags": []
   },
   "outputs": [],
   "source": [
    "# # our network architecture\n",
    "# net = nn.Sequential(\n",
    "#     nn.Conv2d(3, 256, 3, padding=1), nn.ReLU(inplace=True), nn.MaxPool2d(2), nn.BatchNorm2d(256),\n",
    "#     nn.Conv2d(256, 512, 3, padding=1), nn.ReLU(inplace=True), nn.MaxPool2d(2), nn.BatchNorm2d(512),\n",
    "#     nn.Conv2d(512, 1024, 3, padding=1), nn.ReLU(inplace=True), nn.BatchNorm2d(1024),\n",
    "#     nn.Conv2d(1024, 1024, 3, padding=1), nn.ReLU(inplace=True), nn.BatchNorm2d(1024),\n",
    "#     nn.Conv2d(1024, 2048, 3, padding=1), nn.ReLU(inplace=True), nn.BatchNorm2d(2048),\n",
    "#     nn.Conv2d(2048, 2048, 3, padding=1), nn.ReLU(inplace=True), nn.BatchNorm2d(2048),\n",
    "#     nn.Conv2d(2048, 1024, 3, padding=1), nn.ReLU(inplace=True), nn.MaxPool2d(2), nn.BatchNorm2d(1024),\n",
    "    \n",
    "#     nn.Flatten(),\n",
    "    \n",
    "#     nn.Linear(1024 * 4 * 4, 2048), nn.ReLU(inplace=True), nn.Dropout(0.3), nn.BatchNorm1d(2048),\n",
    "#     nn.Linear(2048, 1024), nn.ReLU(inplace=True), nn.Dropout(0.3), nn.BatchNorm1d(1024),\n",
    "#     nn.Linear(1024, 512), nn.ReLU(inplace=True), nn.Dropout(0.3), nn.BatchNorm1d(512),\n",
    "#     nn.Linear(512, 10),\n",
    "# )\n",
    "\n",
    "# # move to device\n",
    "# net.to(device)\n",
    "\n",
    "# # print the number of parameters\n",
    "# print(f\"number of parameters: {sum(p.numel() for p in net.parameters() if p.requires_grad) / 1_000_000:.2f}M\")"
   ]
  },
  {
   "cell_type": "code",
   "execution_count": 18,
   "id": "302fdd14",
   "metadata": {
    "execution": {
     "iopub.execute_input": "2025-03-12T07:12:57.558466Z",
     "iopub.status.busy": "2025-03-12T07:12:57.558243Z",
     "iopub.status.idle": "2025-03-12T07:12:57.561783Z",
     "shell.execute_reply": "2025-03-12T07:12:57.560945Z"
    },
    "papermill": {
     "duration": 0.013557,
     "end_time": "2025-03-12T07:12:57.563194",
     "exception": false,
     "start_time": "2025-03-12T07:12:57.549637",
     "status": "completed"
    },
    "tags": []
   },
   "outputs": [],
   "source": [
    "# # the network optimizer\n",
    "# optimizer = getattr(optim, optim_name)(net.parameters(), **optim_kwargs)\n",
    "\n",
    "# # loss function\n",
    "# criterion = nn.CrossEntropyLoss()\n",
    "\n",
    "# # 训练循环\n",
    "# losses = []\n",
    "# accuracies = []\n",
    "# test_losses = []\n",
    "\n",
    "# for epoch in range(num_epochs):\n",
    "#     # 训练阶段\n",
    "#     net.train()\n",
    "#     running_loss = 0.0\n",
    "#     for i, (img, target) in enumerate(loader[\"train\"]):\n",
    "#         img, target = img.to(device), target.to(device)\n",
    "        \n",
    "#         pred = net(img)\n",
    "#         loss = criterion(pred, target)\n",
    "        \n",
    "#         optimizer.zero_grad()\n",
    "#         loss.backward()\n",
    "#         optimizer.step()\n",
    "        \n",
    "#         running_loss += loss.item()\n",
    "        \n",
    "#         if i % print_every == print_every - 1:\n",
    "#             print(f\"[epoch={epoch + 1:3d}, iter={i + 1:5d}] training loss: {running_loss / print_every:.3f}\")\n",
    "#             running_loss = 0.0\n",
    "    \n",
    "#     # 每个epoch结束后进行一次评估\n",
    "#     net.eval()\n",
    "#     test_loss = 0.0\n",
    "#     correct = 0\n",
    "#     total = 0\n",
    "    \n",
    "#     with torch.no_grad():\n",
    "#         for img, target in loader[\"test\"]:\n",
    "#             img, target = img.to(device), target.to(device)\n",
    "            \n",
    "#             pred = net(img)\n",
    "#             loss = criterion(pred, target)\n",
    "            \n",
    "#             test_loss += loss.item()\n",
    "#             total += len(target)\n",
    "#             correct += (torch.argmax(pred, dim=1) == target).sum().item()\n",
    "    \n",
    "#     # 计算平均损失和准确率\n",
    "#     avg_test_loss = test_loss / len(loader[\"test\"])\n",
    "#     accuracy = correct / total\n",
    "    \n",
    "#     # 记录结果\n",
    "#     losses.append(running_loss / print_every)\n",
    "#     accuracies.append(accuracy)\n",
    "#     test_losses.append(avg_test_loss)\n",
    "    \n",
    "#     print(f\"Epoch {epoch + 1}: Test Loss: {avg_test_loss:.3f}, Accuracy: {100 * accuracy:.2f}%\")\n",
    "\n",
    "# print(\"Finished Training\")"
   ]
  },
  {
   "cell_type": "code",
   "execution_count": 19,
   "id": "74c12d38",
   "metadata": {
    "execution": {
     "iopub.execute_input": "2025-03-12T07:12:57.580485Z",
     "iopub.status.busy": "2025-03-12T07:12:57.580285Z",
     "iopub.status.idle": "2025-03-12T07:12:57.583689Z",
     "shell.execute_reply": "2025-03-12T07:12:57.582828Z"
    },
    "papermill": {
     "duration": 0.013379,
     "end_time": "2025-03-12T07:12:57.584949",
     "exception": false,
     "start_time": "2025-03-12T07:12:57.571570",
     "status": "completed"
    },
    "tags": []
   },
   "outputs": [],
   "source": [
    "# import pandas as pd\n",
    "# import matplotlib.pyplot as plt\n",
    "\n",
    "# results_df = pd.DataFrame({\n",
    "#     'Epoch': range(1, num_epochs + 1),\n",
    "#     'Training Loss': losses,\n",
    "#     'Test Loss': test_losses,\n",
    "#     'Test Accuracy': accuracies\n",
    "# })\n",
    "\n",
    "# results_df.to_excel('training_results_Variant2.xlsx', index=False)\n",
    "\n",
    "# # 可视化\n",
    "# plt.figure(figsize=(18, 5))\n",
    "\n",
    "# # 训练损失曲线\n",
    "# plt.subplot(1, 3, 1)\n",
    "# plt.plot(results_df['Epoch'], results_df['Training Loss'], label='Training Loss')\n",
    "# plt.xlabel('Epoch')\n",
    "# plt.ylabel('Loss')\n",
    "# plt.title('Training Loss')\n",
    "# plt.legend()\n",
    "\n",
    "# # 测试损失曲线\n",
    "# plt.subplot(1, 3, 2)\n",
    "# plt.plot(results_df['Epoch'], results_df['Test Loss'], label='Test Loss', color='orange')\n",
    "# plt.xlabel('Epoch')\n",
    "# plt.ylabel('Loss')\n",
    "# plt.title('Test Loss')\n",
    "# plt.legend()\n",
    "\n",
    "# # 测试准确率曲线\n",
    "# plt.subplot(1, 3, 3)\n",
    "# plt.plot(results_df['Epoch'], results_df['Test Accuracy'], label='Test Accuracy', color='green')\n",
    "# plt.xlabel('Epoch')\n",
    "# plt.ylabel('Accuracy')\n",
    "# plt.title('Test Accuracy')\n",
    "# plt.legend()\n",
    "\n",
    "# plt.tight_layout()\n",
    "# plt.savefig('training_results_Variant2.jpg')\n",
    "# plt.show()"
   ]
  },
  {
   "cell_type": "code",
   "execution_count": 20,
   "id": "29a4049e",
   "metadata": {
    "execution": {
     "iopub.execute_input": "2025-03-12T07:12:57.601920Z",
     "iopub.status.busy": "2025-03-12T07:12:57.601730Z",
     "iopub.status.idle": "2025-03-12T07:12:57.604826Z",
     "shell.execute_reply": "2025-03-12T07:12:57.604028Z"
    },
    "papermill": {
     "duration": 0.01295,
     "end_time": "2025-03-12T07:12:57.606051",
     "exception": false,
     "start_time": "2025-03-12T07:12:57.593101",
     "status": "completed"
    },
    "tags": []
   },
   "outputs": [],
   "source": [
    "# # save model\n",
    "# torch.save(net.state_dict(), 'Variant2.pth')\n",
    "# # save model info\n",
    "# model_info = {\n",
    "#     \"Optimizer\": type(optimizer).__name__,\n",
    "#     \"Learning Rate\": optimizer.param_groups[0]['lr'],\n",
    "#     \"Weight Decay\": optimizer.param_groups[0]['weight_decay'],\n",
    "#     \"Network Architecture\": str(net)\n",
    "# }\n",
    "\n",
    "# model_info_df = pd.DataFrame([model_info])\n",
    "# model_info_df.to_excel('model_info_variant2.xlsx', index=False)"
   ]
  },
  {
   "cell_type": "code",
   "execution_count": 21,
   "id": "b461d64a",
   "metadata": {
    "execution": {
     "iopub.execute_input": "2025-03-12T07:12:57.623059Z",
     "iopub.status.busy": "2025-03-12T07:12:57.622855Z",
     "iopub.status.idle": "2025-03-12T07:12:57.625785Z",
     "shell.execute_reply": "2025-03-12T07:12:57.625176Z"
    },
    "papermill": {
     "duration": 0.012562,
     "end_time": "2025-03-12T07:12:57.626886",
     "exception": false,
     "start_time": "2025-03-12T07:12:57.614324",
     "status": "completed"
    },
    "tags": []
   },
   "outputs": [],
   "source": [
    "# # evaluation\n",
    "# net.eval()\n",
    "# correct, total = 0, 0\n",
    "# with torch.no_grad():\n",
    "#     for img, target in loader[\"test\"]:\n",
    "#         img, target = img.to(device), target.to(device)\n",
    "        \n",
    "#         # make prediction\n",
    "#         pred = net(img)\n",
    "        \n",
    "#         # accumulate\n",
    "#         total += len(target)\n",
    "#         correct += (torch.argmax(pred, dim=1) == target).sum().item()\n",
    "\n",
    "# print(f\"Accuracy of the network on the {total} test images: {100 * correct / total:.2f}%\")"
   ]
  },
  {
   "cell_type": "markdown",
   "id": "fb0ec1d2",
   "metadata": {
    "papermill": {
     "duration": 0.007769,
     "end_time": "2025-03-12T07:12:57.643019",
     "exception": false,
     "start_time": "2025-03-12T07:12:57.635250",
     "status": "completed"
    },
    "tags": []
   },
   "source": [
    "## 4. Variant 3\n",
    "Adding residual connections to be a ResNet, which allows the network to be deeper while avoiding the problems of vanishing or exploding gradients.  \n",
    "ResNet34:  \n",
    "Time consuming: 1h13m  \n",
    "last loss: 0.129  \n",
    "Test acc: 84.33%"
   ]
  },
  {
   "cell_type": "code",
   "execution_count": 22,
   "id": "58ea43b9",
   "metadata": {
    "execution": {
     "iopub.execute_input": "2025-03-12T07:12:57.660354Z",
     "iopub.status.busy": "2025-03-12T07:12:57.660137Z",
     "iopub.status.idle": "2025-03-12T07:12:57.663761Z",
     "shell.execute_reply": "2025-03-12T07:12:57.663127Z"
    },
    "papermill": {
     "duration": 0.013675,
     "end_time": "2025-03-12T07:12:57.664865",
     "exception": false,
     "start_time": "2025-03-12T07:12:57.651190",
     "status": "completed"
    },
    "tags": []
   },
   "outputs": [],
   "source": [
    "# some experimental setup\n",
    "device = torch.device(\"cuda:0\" if torch.cuda.is_available() else \"cpu\")\n",
    "\n",
    "num_epochs = 64\n",
    "batch_size = 64\n",
    "print_every = 200\n",
    "\n",
    "optim_name = \"Adam\"\n",
    "optim_kwargs = dict(\n",
    "    lr=3e-4,\n",
    "    weight_decay=1e-6,\n",
    ")"
   ]
  },
  {
   "cell_type": "code",
   "execution_count": 23,
   "id": "4a99be01",
   "metadata": {
    "collapsed": false,
    "execution": {
     "iopub.execute_input": "2025-03-12T07:12:57.682004Z",
     "iopub.status.busy": "2025-03-12T07:12:57.681800Z",
     "iopub.status.idle": "2025-03-12T07:13:04.885636Z",
     "shell.execute_reply": "2025-03-12T07:13:04.884621Z"
    },
    "jupyter": {
     "outputs_hidden": false
    },
    "papermill": {
     "duration": 7.21411,
     "end_time": "2025-03-12T07:13:04.887272",
     "exception": false,
     "start_time": "2025-03-12T07:12:57.673162",
     "status": "completed"
    },
    "tags": []
   },
   "outputs": [
    {
     "name": "stdout",
     "output_type": "stream",
     "text": [
      "Downloading https://www.cs.toronto.edu/~kriz/cifar-10-python.tar.gz to ./data/cifar-10-python.tar.gz\n"
     ]
    },
    {
     "name": "stderr",
     "output_type": "stream",
     "text": [
      "100%|██████████| 170M/170M [00:03<00:00, 48.1MB/s]\n"
     ]
    },
    {
     "name": "stdout",
     "output_type": "stream",
     "text": [
      "Extracting ./data/cifar-10-python.tar.gz to ./data\n",
      "Files already downloaded and verified\n"
     ]
    }
   ],
   "source": [
    "# prepare datasets\n",
    "# preprocessing pipeline for input images\n",
    "transformation = dict()\n",
    "for data_type in (\"train\", \"test\"):\n",
    "    is_train = data_type==\"train\"\n",
    "    transformation[data_type] = tv_transforms.Compose(([\n",
    "        tv_transforms.RandomRotation(degrees=15),\n",
    "        tv_transforms.RandomHorizontalFlip(),\n",
    "        tv_transforms.RandomAffine(degrees=0, translate=(0.1, 0.1)),\n",
    "    ] if is_train else []) + \n",
    "    [\n",
    "        tv_transforms.ToTensor(),\n",
    "        tv_transforms.Normalize(mean=[0.5, 0.5, 0.5], std=[0.5, 0.5, 0.5]),\n",
    "    ])\n",
    "    \n",
    "num_workers = 2\n",
    "dataset, loader = {}, {}\n",
    "for data_type in (\"train\", \"test\"):\n",
    "    is_train = data_type==\"train\"\n",
    "    dataset[data_type] = tv_datasets.CIFAR10(\n",
    "        root=\"./data\", train=is_train, download=True, transform=transformation[data_type],\n",
    "    )\n",
    "    loader[data_type] = torch.utils.data.DataLoader(\n",
    "        dataset[data_type], batch_size=batch_size, shuffle=is_train, num_workers=num_workers,\n",
    "    )\n"
   ]
  },
  {
   "cell_type": "code",
   "execution_count": 24,
   "id": "01ab564c",
   "metadata": {
    "collapsed": false,
    "execution": {
     "iopub.execute_input": "2025-03-12T07:13:04.910332Z",
     "iopub.status.busy": "2025-03-12T07:13:04.910025Z",
     "iopub.status.idle": "2025-03-12T07:13:04.913839Z",
     "shell.execute_reply": "2025-03-12T07:13:04.913166Z"
    },
    "jupyter": {
     "outputs_hidden": false
    },
    "papermill": {
     "duration": 0.016455,
     "end_time": "2025-03-12T07:13:04.915054",
     "exception": false,
     "start_time": "2025-03-12T07:13:04.898599",
     "status": "completed"
    },
    "tags": []
   },
   "outputs": [],
   "source": [
    "# # ResNet 34\n",
    "# # 定义基本的残差块\n",
    "# class ResBlock(nn.Module):\n",
    "#     expansion = 1\n",
    "\n",
    "#     def __init__(self, in_channels, out_channels, stride=1):\n",
    "#         super(ResBlock, self).__init__()\n",
    "#         self.conv1 = nn.Conv2d(in_channels, out_channels, kernel_size=3, stride=stride, padding=1, bias=False)\n",
    "#         self.bn1 = nn.BatchNorm2d(out_channels)\n",
    "#         self.relu = nn.ReLU(inplace=True)\n",
    "#         self.conv2 = nn.Conv2d(out_channels, out_channels, kernel_size=3, stride=1, padding=1, bias=False)\n",
    "#         self.bn2 = nn.BatchNorm2d(out_channels)\n",
    "\n",
    "#         self.shortcut = nn.Sequential()\n",
    "#         if stride != 1 or in_channels != self.expansion * out_channels:\n",
    "#             self.shortcut = nn.Sequential(\n",
    "#                 nn.Conv2d(in_channels, self.expansion * out_channels, kernel_size=1, stride=stride, bias=False),\n",
    "#                 nn.BatchNorm2d(self.expansion * out_channels)\n",
    "#             )\n",
    "\n",
    "#     def forward(self, x):\n",
    "#         out = self.relu(self.bn1(self.conv1(x)))\n",
    "#         out = self.bn2(self.conv2(out))\n",
    "#         out += self.shortcut(x)\n",
    "#         out = self.relu(out)\n",
    "#         return out\n",
    "\n",
    "# # 定义ResNet34模型\n",
    "# class ResNet34(nn.Module):\n",
    "#     def __init__(self, num_classes=1000):\n",
    "#         super(ResNet34, self).__init__()\n",
    "#         self.in_channels = 64\n",
    "\n",
    "#         self.conv1 = nn.Conv2d(3, 64, kernel_size=7, stride=2, padding=3, bias=False)\n",
    "#         self.bn1 = nn.BatchNorm2d(64)\n",
    "#         self.relu = nn.ReLU(inplace=True)\n",
    "#         self.maxpool = nn.MaxPool2d(kernel_size=3, stride=2, padding=1)\n",
    "\n",
    "#         self.layer1 = self._make_layer(64, 3, stride=1)\n",
    "#         self.layer2 = self._make_layer(128, 4, stride=2)\n",
    "#         self.layer3 = self._make_layer(256, 6, stride=2)\n",
    "#         self.layer4 = self._make_layer(512, 3, stride=2)\n",
    "\n",
    "#         self.avgpool = nn.AdaptiveAvgPool2d((1, 1))\n",
    "#         self.fc = nn.Linear(512 * ResBlock.expansion, num_classes)\n",
    "\n",
    "#     def _make_layer(self, out_channels, num_blocks, stride):\n",
    "#         strides = [stride] + [1] * (num_blocks - 1)\n",
    "#         layers = []\n",
    "#         for stride in strides:\n",
    "#             layers.append(ResBlock(self.in_channels, out_channels, stride))\n",
    "#             self.in_channels = out_channels * ResBlock.expansion\n",
    "#         return nn.Sequential(*layers)\n",
    "\n",
    "#     def forward(self, x):\n",
    "#         out = self.relu(self.bn1(self.conv1(x)))\n",
    "#         out = self.maxpool(out)\n",
    "#         out = self.layer1(out)\n",
    "#         out = self.layer2(out)\n",
    "#         out = self.layer3(out)\n",
    "#         out = self.layer4(out)\n",
    "#         out = self.avgpool(out)\n",
    "#         out = torch.flatten(out, 1)\n",
    "#         out = self.fc(out)\n",
    "#         return out\n",
    "\n",
    "\n",
    "# net = ResNet34(num_classes=10)\n",
    "\n",
    "# # move to device\n",
    "# net.to(device)\n",
    "\n",
    "# # print the number of parameters\n",
    "# print(f\"number of parameters: {sum(p.numel() for p in net.parameters() if p.requires_grad) / 1_000_000:.2f}M\")"
   ]
  },
  {
   "cell_type": "code",
   "execution_count": 25,
   "id": "9717dd24",
   "metadata": {
    "execution": {
     "iopub.execute_input": "2025-03-12T07:13:04.937484Z",
     "iopub.status.busy": "2025-03-12T07:13:04.937274Z",
     "iopub.status.idle": "2025-03-12T07:13:06.433682Z",
     "shell.execute_reply": "2025-03-12T07:13:06.432490Z"
    },
    "papermill": {
     "duration": 1.509428,
     "end_time": "2025-03-12T07:13:06.435310",
     "exception": false,
     "start_time": "2025-03-12T07:13:04.925882",
     "status": "completed"
    },
    "tags": []
   },
   "outputs": [
    {
     "name": "stdout",
     "output_type": "stream",
     "text": [
      "number of parameters: 134.87M\n"
     ]
    }
   ],
   "source": [
    "# 定义基本的残差块\n",
    "class ResBlock(nn.Module):\n",
    "    def __init__(self, in_channels, out_channels, stride=1):\n",
    "        super(ResBlock, self).__init__()\n",
    "        # 主路径\n",
    "        self.conv1 = nn.Conv2d(in_channels, out_channels, kernel_size=3, stride=stride, padding=1)\n",
    "        self.bn1 = nn.BatchNorm2d(out_channels)\n",
    "        self.relu = nn.ReLU(inplace=False)\n",
    "        \n",
    "        # 残差路径\n",
    "        self.shortcut = nn.Sequential()\n",
    "        if stride != 1 or in_channels != out_channels:\n",
    "            self.shortcut = nn.Sequential(\n",
    "                nn.Conv2d(in_channels, out_channels, kernel_size=1, stride=stride),\n",
    "                nn.BatchNorm2d(out_channels)\n",
    "            )\n",
    "\n",
    "    def forward(self, x):\n",
    "        identity = x\n",
    "        \n",
    "        out = self.bn1(self.conv1(x))\n",
    "        out = self.relu(out)\n",
    "        \n",
    "        # 添加残差连接\n",
    "        out = out + self.shortcut(identity)\n",
    "        out = self.relu(out)\n",
    "        \n",
    "        return out\n",
    "\n",
    "# 网络结构\n",
    "net = nn.Sequential(\n",
    "    # 第一个卷积块 - 保持与Variant2相同的起始通道数\n",
    "    nn.Conv2d(3, 256, 3, padding=1), nn.ReLU(inplace=True), nn.BatchNorm2d(256),\n",
    "    ResBlock(256, 256),  # 添加残差连接\n",
    "    nn.MaxPool2d(2),\n",
    "    \n",
    "    # 第二个卷积块 - 基于Variant2的通道数\n",
    "    ResBlock(256, 512),\n",
    "    ResBlock(512, 512),\n",
    "    nn.MaxPool2d(2),\n",
    "    \n",
    "    # 第三个卷积块\n",
    "    ResBlock(512, 1024),\n",
    "    ResBlock(1024, 1024),\n",
    "    \n",
    "    # 第四个卷积块\n",
    "    ResBlock(1024, 2048),\n",
    "    ResBlock(2048, 2048),\n",
    "    \n",
    "    # 第五个卷积块\n",
    "    ResBlock(2048, 1024),\n",
    "    nn.MaxPool2d(2),\n",
    "    \n",
    "    nn.Flatten(),\n",
    "    \n",
    "    # 全连接层 - 与Variant2保持一致\n",
    "    nn.Linear(1024 * 4 * 4, 2048), nn.ReLU(inplace=True), nn.Dropout(0.3), nn.BatchNorm1d(2048),\n",
    "    nn.Linear(2048, 1024), nn.ReLU(inplace=True), nn.Dropout(0.3), nn.BatchNorm1d(1024),\n",
    "    nn.Linear(1024, 512), nn.ReLU(inplace=True), nn.Dropout(0.3), nn.BatchNorm1d(512),\n",
    "    nn.Linear(512, 10),\n",
    ")\n",
    "\n",
    "# move to device\n",
    "net.to(device)\n",
    "\n",
    "# print the number of parameters\n",
    "print(f\"number of parameters: {sum(p.numel() for p in net.parameters() if p.requires_grad) / 1_000_000:.2f}M\")"
   ]
  },
  {
   "cell_type": "code",
   "execution_count": 26,
   "id": "099fe1f0",
   "metadata": {
    "collapsed": true,
    "execution": {
     "iopub.execute_input": "2025-03-12T07:13:06.457259Z",
     "iopub.status.busy": "2025-03-12T07:13:06.456960Z",
     "iopub.status.idle": "2025-03-12T13:39:31.163595Z",
     "shell.execute_reply": "2025-03-12T13:39:31.162446Z"
    },
    "jupyter": {
     "outputs_hidden": true
    },
    "papermill": {
     "duration": 23184.739073,
     "end_time": "2025-03-12T13:39:31.184934",
     "exception": false,
     "start_time": "2025-03-12T07:13:06.445861",
     "status": "completed"
    },
    "tags": []
   },
   "outputs": [
    {
     "name": "stdout",
     "output_type": "stream",
     "text": [
      "[epoch=  1, iter=  200] training loss: 1.913\n",
      "[epoch=  1, iter=  400] training loss: 1.538\n",
      "[epoch=  1, iter=  600] training loss: 1.412\n",
      "Epoch 1: Test Loss: 1.179, Accuracy: 57.00%\n",
      "[epoch=  2, iter=  200] training loss: 1.226\n",
      "[epoch=  2, iter=  400] training loss: 1.274\n",
      "[epoch=  2, iter=  600] training loss: 1.277\n",
      "Epoch 2: Test Loss: 1.035, Accuracy: 65.58%\n",
      "[epoch=  3, iter=  200] training loss: 1.037\n",
      "[epoch=  3, iter=  400] training loss: 1.009\n",
      "[epoch=  3, iter=  600] training loss: 0.962\n",
      "Epoch 3: Test Loss: 0.973, Accuracy: 68.37%\n",
      "[epoch=  4, iter=  200] training loss: 1.090\n",
      "[epoch=  4, iter=  400] training loss: 1.005\n",
      "[epoch=  4, iter=  600] training loss: 0.926\n",
      "Epoch 4: Test Loss: 1.001, Accuracy: 71.75%\n",
      "[epoch=  5, iter=  200] training loss: 0.968\n",
      "[epoch=  5, iter=  400] training loss: 0.973\n",
      "[epoch=  5, iter=  600] training loss: 1.217\n",
      "Epoch 5: Test Loss: 1.149, Accuracy: 69.74%\n",
      "[epoch=  6, iter=  200] training loss: 0.958\n",
      "[epoch=  6, iter=  400] training loss: 0.907\n",
      "[epoch=  6, iter=  600] training loss: 0.863\n",
      "Epoch 6: Test Loss: 1.108, Accuracy: 75.56%\n",
      "[epoch=  7, iter=  200] training loss: 0.825\n",
      "[epoch=  7, iter=  400] training loss: 0.782\n",
      "[epoch=  7, iter=  600] training loss: 0.765\n",
      "Epoch 7: Test Loss: 0.729, Accuracy: 77.44%\n",
      "[epoch=  8, iter=  200] training loss: 0.837\n",
      "[epoch=  8, iter=  400] training loss: 0.857\n",
      "[epoch=  8, iter=  600] training loss: 0.769\n",
      "Epoch 8: Test Loss: 1.168, Accuracy: 78.14%\n",
      "[epoch=  9, iter=  200] training loss: 0.709\n",
      "[epoch=  9, iter=  400] training loss: 0.719\n",
      "[epoch=  9, iter=  600] training loss: 0.679\n",
      "Epoch 9: Test Loss: 0.718, Accuracy: 77.32%\n",
      "[epoch= 10, iter=  200] training loss: 0.693\n",
      "[epoch= 10, iter=  400] training loss: 0.659\n",
      "[epoch= 10, iter=  600] training loss: 0.648\n",
      "Epoch 10: Test Loss: 0.812, Accuracy: 81.29%\n",
      "[epoch= 11, iter=  200] training loss: 0.612\n",
      "[epoch= 11, iter=  400] training loss: 0.618\n",
      "[epoch= 11, iter=  600] training loss: 0.592\n",
      "Epoch 11: Test Loss: 1.114, Accuracy: 81.19%\n",
      "[epoch= 12, iter=  200] training loss: 0.576\n",
      "[epoch= 12, iter=  400] training loss: 0.562\n",
      "[epoch= 12, iter=  600] training loss: 0.562\n",
      "Epoch 12: Test Loss: 0.800, Accuracy: 82.66%\n",
      "[epoch= 13, iter=  200] training loss: 0.538\n",
      "[epoch= 13, iter=  400] training loss: 0.543\n",
      "[epoch= 13, iter=  600] training loss: 0.514\n",
      "Epoch 13: Test Loss: 0.745, Accuracy: 82.73%\n",
      "[epoch= 14, iter=  200] training loss: 0.498\n",
      "[epoch= 14, iter=  400] training loss: 0.493\n",
      "[epoch= 14, iter=  600] training loss: 0.507\n",
      "Epoch 14: Test Loss: 0.473, Accuracy: 85.25%\n",
      "[epoch= 15, iter=  200] training loss: 0.468\n",
      "[epoch= 15, iter=  400] training loss: 0.474\n",
      "[epoch= 15, iter=  600] training loss: 0.455\n",
      "Epoch 15: Test Loss: 0.546, Accuracy: 85.10%\n",
      "[epoch= 16, iter=  200] training loss: 0.434\n",
      "[epoch= 16, iter=  400] training loss: 0.435\n",
      "[epoch= 16, iter=  600] training loss: 0.443\n",
      "Epoch 16: Test Loss: 0.610, Accuracy: 85.42%\n",
      "[epoch= 17, iter=  200] training loss: 0.423\n",
      "[epoch= 17, iter=  400] training loss: 0.432\n",
      "[epoch= 17, iter=  600] training loss: 0.421\n",
      "Epoch 17: Test Loss: 0.437, Accuracy: 87.39%\n",
      "[epoch= 18, iter=  200] training loss: 0.394\n",
      "[epoch= 18, iter=  400] training loss: 0.391\n",
      "[epoch= 18, iter=  600] training loss: 0.402\n",
      "Epoch 18: Test Loss: 0.422, Accuracy: 86.98%\n",
      "[epoch= 19, iter=  200] training loss: 0.374\n",
      "[epoch= 19, iter=  400] training loss: 0.366\n",
      "[epoch= 19, iter=  600] training loss: 0.367\n",
      "Epoch 19: Test Loss: 0.528, Accuracy: 87.94%\n",
      "[epoch= 20, iter=  200] training loss: 0.360\n",
      "[epoch= 20, iter=  400] training loss: 0.346\n",
      "[epoch= 20, iter=  600] training loss: 0.347\n",
      "Epoch 20: Test Loss: 0.467, Accuracy: 87.80%\n",
      "[epoch= 21, iter=  200] training loss: 0.315\n",
      "[epoch= 21, iter=  400] training loss: 0.330\n",
      "[epoch= 21, iter=  600] training loss: 0.337\n",
      "Epoch 21: Test Loss: 0.406, Accuracy: 88.18%\n",
      "[epoch= 22, iter=  200] training loss: 0.310\n",
      "[epoch= 22, iter=  400] training loss: 0.316\n",
      "[epoch= 22, iter=  600] training loss: 0.309\n",
      "Epoch 22: Test Loss: 0.386, Accuracy: 89.03%\n",
      "[epoch= 23, iter=  200] training loss: 0.300\n",
      "[epoch= 23, iter=  400] training loss: 0.308\n",
      "[epoch= 23, iter=  600] training loss: 0.301\n",
      "Epoch 23: Test Loss: 0.494, Accuracy: 88.27%\n",
      "[epoch= 24, iter=  200] training loss: 0.273\n",
      "[epoch= 24, iter=  400] training loss: 0.281\n",
      "[epoch= 24, iter=  600] training loss: 0.296\n",
      "Epoch 24: Test Loss: 0.497, Accuracy: 88.74%\n",
      "[epoch= 25, iter=  200] training loss: 0.264\n",
      "[epoch= 25, iter=  400] training loss: 0.271\n",
      "[epoch= 25, iter=  600] training loss: 0.278\n",
      "Epoch 25: Test Loss: 0.452, Accuracy: 89.06%\n",
      "[epoch= 26, iter=  200] training loss: 0.249\n",
      "[epoch= 26, iter=  400] training loss: 0.250\n",
      "[epoch= 26, iter=  600] training loss: 0.252\n",
      "Epoch 26: Test Loss: 0.334, Accuracy: 90.21%\n",
      "[epoch= 27, iter=  200] training loss: 0.235\n",
      "[epoch= 27, iter=  400] training loss: 0.239\n",
      "[epoch= 27, iter=  600] training loss: 0.249\n",
      "Epoch 27: Test Loss: 0.418, Accuracy: 89.74%\n",
      "[epoch= 28, iter=  200] training loss: 0.236\n",
      "[epoch= 28, iter=  400] training loss: 0.224\n",
      "[epoch= 28, iter=  600] training loss: 0.231\n",
      "Epoch 28: Test Loss: 0.352, Accuracy: 88.94%\n",
      "[epoch= 29, iter=  200] training loss: 0.218\n",
      "[epoch= 29, iter=  400] training loss: 0.220\n",
      "[epoch= 29, iter=  600] training loss: 0.236\n",
      "Epoch 29: Test Loss: 0.356, Accuracy: 89.65%\n",
      "[epoch= 30, iter=  200] training loss: 0.203\n",
      "[epoch= 30, iter=  400] training loss: 0.216\n",
      "[epoch= 30, iter=  600] training loss: 0.202\n",
      "Epoch 30: Test Loss: 0.325, Accuracy: 90.38%\n",
      "[epoch= 31, iter=  200] training loss: 0.183\n",
      "[epoch= 31, iter=  400] training loss: 0.191\n",
      "[epoch= 31, iter=  600] training loss: 0.197\n",
      "Epoch 31: Test Loss: 0.324, Accuracy: 90.39%\n",
      "[epoch= 32, iter=  200] training loss: 0.190\n",
      "[epoch= 32, iter=  400] training loss: 0.179\n",
      "[epoch= 32, iter=  600] training loss: 0.197\n",
      "Epoch 32: Test Loss: 0.277, Accuracy: 90.66%\n",
      "[epoch= 33, iter=  200] training loss: 0.166\n",
      "[epoch= 33, iter=  400] training loss: 0.193\n",
      "[epoch= 33, iter=  600] training loss: 0.206\n",
      "Epoch 33: Test Loss: 0.305, Accuracy: 90.73%\n",
      "[epoch= 34, iter=  200] training loss: 0.157\n",
      "[epoch= 34, iter=  400] training loss: 0.156\n",
      "[epoch= 34, iter=  600] training loss: 0.185\n",
      "Epoch 34: Test Loss: 0.332, Accuracy: 90.17%\n",
      "[epoch= 35, iter=  200] training loss: 0.153\n",
      "[epoch= 35, iter=  400] training loss: 0.153\n",
      "[epoch= 35, iter=  600] training loss: 0.165\n",
      "Epoch 35: Test Loss: 0.294, Accuracy: 90.83%\n",
      "[epoch= 36, iter=  200] training loss: 0.148\n",
      "[epoch= 36, iter=  400] training loss: 0.162\n",
      "[epoch= 36, iter=  600] training loss: 0.155\n",
      "Epoch 36: Test Loss: 0.323, Accuracy: 90.30%\n",
      "[epoch= 37, iter=  200] training loss: 0.147\n",
      "[epoch= 37, iter=  400] training loss: 0.146\n",
      "[epoch= 37, iter=  600] training loss: 0.149\n",
      "Epoch 37: Test Loss: 0.360, Accuracy: 90.88%\n",
      "[epoch= 38, iter=  200] training loss: 0.135\n",
      "[epoch= 38, iter=  400] training loss: 0.134\n",
      "[epoch= 38, iter=  600] training loss: 0.145\n",
      "Epoch 38: Test Loss: 0.280, Accuracy: 91.73%\n",
      "[epoch= 39, iter=  200] training loss: 0.134\n",
      "[epoch= 39, iter=  400] training loss: 0.134\n",
      "[epoch= 39, iter=  600] training loss: 0.133\n",
      "Epoch 39: Test Loss: 0.345, Accuracy: 91.43%\n",
      "[epoch= 40, iter=  200] training loss: 0.129\n",
      "[epoch= 40, iter=  400] training loss: 0.130\n",
      "[epoch= 40, iter=  600] training loss: 0.130\n",
      "Epoch 40: Test Loss: 0.317, Accuracy: 91.56%\n",
      "[epoch= 41, iter=  200] training loss: 0.119\n",
      "[epoch= 41, iter=  400] training loss: 0.120\n",
      "[epoch= 41, iter=  600] training loss: 0.119\n",
      "Epoch 41: Test Loss: 0.424, Accuracy: 91.48%\n",
      "[epoch= 42, iter=  200] training loss: 0.115\n",
      "[epoch= 42, iter=  400] training loss: 0.117\n",
      "[epoch= 42, iter=  600] training loss: 0.122\n",
      "Epoch 42: Test Loss: 0.292, Accuracy: 91.51%\n",
      "[epoch= 43, iter=  200] training loss: 0.118\n",
      "[epoch= 43, iter=  400] training loss: 0.107\n",
      "[epoch= 43, iter=  600] training loss: 0.150\n",
      "Epoch 43: Test Loss: 0.349, Accuracy: 91.46%\n",
      "[epoch= 44, iter=  200] training loss: 0.112\n",
      "[epoch= 44, iter=  400] training loss: 0.103\n",
      "[epoch= 44, iter=  600] training loss: 0.108\n",
      "Epoch 44: Test Loss: 0.303, Accuracy: 91.37%\n",
      "[epoch= 45, iter=  200] training loss: 0.106\n",
      "[epoch= 45, iter=  400] training loss: 0.104\n",
      "[epoch= 45, iter=  600] training loss: 0.105\n",
      "Epoch 45: Test Loss: 0.325, Accuracy: 91.56%\n",
      "[epoch= 46, iter=  200] training loss: 0.101\n",
      "[epoch= 46, iter=  400] training loss: 0.116\n",
      "[epoch= 46, iter=  600] training loss: 0.116\n",
      "Epoch 46: Test Loss: 0.297, Accuracy: 91.69%\n",
      "[epoch= 47, iter=  200] training loss: 0.097\n",
      "[epoch= 47, iter=  400] training loss: 0.094\n",
      "[epoch= 47, iter=  600] training loss: 0.098\n",
      "Epoch 47: Test Loss: 0.289, Accuracy: 92.24%\n",
      "[epoch= 48, iter=  200] training loss: 0.090\n",
      "[epoch= 48, iter=  400] training loss: 0.093\n",
      "[epoch= 48, iter=  600] training loss: 0.092\n",
      "Epoch 48: Test Loss: 0.383, Accuracy: 90.87%\n",
      "[epoch= 49, iter=  200] training loss: 0.090\n",
      "[epoch= 49, iter=  400] training loss: 0.099\n",
      "[epoch= 49, iter=  600] training loss: 0.088\n",
      "Epoch 49: Test Loss: 0.293, Accuracy: 92.03%\n",
      "[epoch= 50, iter=  200] training loss: 0.094\n",
      "[epoch= 50, iter=  400] training loss: 0.093\n",
      "[epoch= 50, iter=  600] training loss: 0.089\n",
      "Epoch 50: Test Loss: 0.327, Accuracy: 91.17%\n",
      "[epoch= 51, iter=  200] training loss: 0.085\n",
      "[epoch= 51, iter=  400] training loss: 0.082\n",
      "[epoch= 51, iter=  600] training loss: 0.087\n",
      "Epoch 51: Test Loss: 0.282, Accuracy: 92.16%\n",
      "[epoch= 52, iter=  200] training loss: 0.073\n",
      "[epoch= 52, iter=  400] training loss: 0.086\n",
      "[epoch= 52, iter=  600] training loss: 0.081\n",
      "Epoch 52: Test Loss: 0.302, Accuracy: 91.88%\n",
      "[epoch= 53, iter=  200] training loss: 0.086\n",
      "[epoch= 53, iter=  400] training loss: 0.077\n",
      "[epoch= 53, iter=  600] training loss: 0.077\n",
      "Epoch 53: Test Loss: 0.292, Accuracy: 91.81%\n",
      "[epoch= 54, iter=  200] training loss: 0.068\n",
      "[epoch= 54, iter=  400] training loss: 0.081\n",
      "[epoch= 54, iter=  600] training loss: 0.084\n",
      "Epoch 54: Test Loss: 0.556, Accuracy: 92.02%\n",
      "[epoch= 55, iter=  200] training loss: 0.066\n",
      "[epoch= 55, iter=  400] training loss: 0.076\n",
      "[epoch= 55, iter=  600] training loss: 0.069\n",
      "Epoch 55: Test Loss: 0.406, Accuracy: 92.00%\n",
      "[epoch= 56, iter=  200] training loss: 0.072\n",
      "[epoch= 56, iter=  400] training loss: 0.065\n",
      "[epoch= 56, iter=  600] training loss: 0.066\n",
      "Epoch 56: Test Loss: 0.321, Accuracy: 91.71%\n",
      "[epoch= 57, iter=  200] training loss: 0.072\n",
      "[epoch= 57, iter=  400] training loss: 0.077\n",
      "[epoch= 57, iter=  600] training loss: 0.067\n",
      "Epoch 57: Test Loss: 0.346, Accuracy: 91.69%\n",
      "[epoch= 58, iter=  200] training loss: 0.065\n",
      "[epoch= 58, iter=  400] training loss: 0.068\n",
      "[epoch= 58, iter=  600] training loss: 0.075\n",
      "Epoch 58: Test Loss: 0.324, Accuracy: 91.85%\n",
      "[epoch= 59, iter=  200] training loss: 0.065\n",
      "[epoch= 59, iter=  400] training loss: 0.064\n",
      "[epoch= 59, iter=  600] training loss: 0.062\n",
      "Epoch 59: Test Loss: 0.378, Accuracy: 91.63%\n",
      "[epoch= 60, iter=  200] training loss: 0.069\n",
      "[epoch= 60, iter=  400] training loss: 0.062\n",
      "[epoch= 60, iter=  600] training loss: 0.064\n",
      "Epoch 60: Test Loss: 0.303, Accuracy: 91.80%\n",
      "[epoch= 61, iter=  200] training loss: 0.057\n",
      "[epoch= 61, iter=  400] training loss: 0.068\n",
      "[epoch= 61, iter=  600] training loss: 0.069\n",
      "Epoch 61: Test Loss: 0.352, Accuracy: 92.02%\n",
      "[epoch= 62, iter=  200] training loss: 0.057\n",
      "[epoch= 62, iter=  400] training loss: 0.064\n",
      "[epoch= 62, iter=  600] training loss: 0.069\n",
      "Epoch 62: Test Loss: 0.308, Accuracy: 91.93%\n",
      "[epoch= 63, iter=  200] training loss: 0.059\n",
      "[epoch= 63, iter=  400] training loss: 0.060\n",
      "[epoch= 63, iter=  600] training loss: 0.062\n",
      "Epoch 63: Test Loss: 0.312, Accuracy: 91.96%\n",
      "[epoch= 64, iter=  200] training loss: 0.052\n",
      "[epoch= 64, iter=  400] training loss: 0.051\n",
      "[epoch= 64, iter=  600] training loss: 0.070\n",
      "Epoch 64: Test Loss: 0.335, Accuracy: 92.04%\n",
      "Finished Training\n"
     ]
    }
   ],
   "source": [
    "# the network optimizer\n",
    "optimizer = getattr(optim, optim_name)(net.parameters(), **optim_kwargs)\n",
    "\n",
    "# loss function\n",
    "criterion = nn.CrossEntropyLoss()\n",
    "\n",
    "# 开启异常检测\n",
    "torch.autograd.set_detect_anomaly(True)\n",
    "\n",
    "# 训练循环\n",
    "losses = []\n",
    "accuracies = []\n",
    "test_losses = []\n",
    "\n",
    "for epoch in range(num_epochs):\n",
    "    # 训练阶段\n",
    "    net.train()\n",
    "    running_loss = 0.0\n",
    "    for i, (img, target) in enumerate(loader[\"train\"]):\n",
    "        img, target = img.to(device), target.to(device)\n",
    "        \n",
    "        pred = net(img)\n",
    "        loss = criterion(pred, target)\n",
    "        \n",
    "        optimizer.zero_grad()\n",
    "        loss.backward()\n",
    "        optimizer.step()\n",
    "        \n",
    "        running_loss += loss.item()\n",
    "        \n",
    "        if i % print_every == print_every - 1:\n",
    "            print(f\"[epoch={epoch + 1:3d}, iter={i + 1:5d}] training loss: {running_loss / print_every:.3f}\")\n",
    "            running_loss = 0.0\n",
    "    \n",
    "    # 每个epoch结束后进行一次评估\n",
    "    net.eval()\n",
    "    test_loss = 0.0\n",
    "    correct = 0\n",
    "    total = 0\n",
    "    \n",
    "    with torch.no_grad():\n",
    "        for img, target in loader[\"test\"]:\n",
    "            img, target = img.to(device), target.to(device)\n",
    "            \n",
    "            pred = net(img)\n",
    "            loss = criterion(pred, target)\n",
    "            \n",
    "            test_loss += loss.item()\n",
    "            total += len(target)\n",
    "            correct += (torch.argmax(pred, dim=1) == target).sum().item()\n",
    "    \n",
    "    # 计算平均损失和准确率\n",
    "    avg_test_loss = test_loss / len(loader[\"test\"])\n",
    "    accuracy = correct / total\n",
    "    \n",
    "    # 记录结果\n",
    "    losses.append(running_loss / print_every)\n",
    "    accuracies.append(accuracy)\n",
    "    test_losses.append(avg_test_loss)\n",
    "    \n",
    "    print(f\"Epoch {epoch + 1}: Test Loss: {avg_test_loss:.3f}, Accuracy: {100 * accuracy:.2f}%\")\n",
    "\n",
    "print(\"Finished Training\")"
   ]
  },
  {
   "cell_type": "code",
   "execution_count": 27,
   "id": "fbe6e153",
   "metadata": {
    "execution": {
     "iopub.execute_input": "2025-03-12T13:39:31.227694Z",
     "iopub.status.busy": "2025-03-12T13:39:31.227402Z",
     "iopub.status.idle": "2025-03-12T13:39:33.577551Z",
     "shell.execute_reply": "2025-03-12T13:39:33.576723Z"
    },
    "papermill": {
     "duration": 2.373602,
     "end_time": "2025-03-12T13:39:33.579331",
     "exception": false,
     "start_time": "2025-03-12T13:39:31.205729",
     "status": "completed"
    },
    "tags": []
   },
   "outputs": [
    {
     "data": {
      "image/png": "[encoded data removed]",
      "text/plain": [
       "<Figure size 1800x500 with 3 Axes>"
      ]
     },
     "metadata": {},
     "output_type": "display_data"
    }
   ],
   "source": [
    "import pandas as pd\n",
    "import matplotlib.pyplot as plt\n",
    "\n",
    "results_df = pd.DataFrame({\n",
    "    'Epoch': range(1, num_epochs + 1),\n",
    "    'Training Loss': losses,\n",
    "    'Test Loss': test_losses,\n",
    "    'Test Accuracy': accuracies\n",
    "})\n",
    "\n",
    "results_df.to_excel('training_results_Variant3.xlsx', index=False)\n",
    "\n",
    "# 可视化\n",
    "plt.figure(figsize=(18, 5))\n",
    "\n",
    "# 训练损失曲线\n",
    "plt.subplot(1, 3, 1)\n",
    "plt.plot(results_df['Epoch'], results_df['Training Loss'], label='Training Loss')\n",
    "plt.xlabel('Epoch')\n",
    "plt.ylabel('Loss')\n",
    "plt.title('Training Loss')\n",
    "plt.legend()\n",
    "\n",
    "# 测试损失曲线\n",
    "plt.subplot(1, 3, 2)\n",
    "plt.plot(results_df['Epoch'], results_df['Test Loss'], label='Test Loss', color='orange')\n",
    "plt.xlabel('Epoch')\n",
    "plt.ylabel('Loss')\n",
    "plt.title('Test Loss')\n",
    "plt.legend()\n",
    "\n",
    "# 测试准确率曲线\n",
    "plt.subplot(1, 3, 3)\n",
    "plt.plot(results_df['Epoch'], results_df['Test Accuracy'], label='Test Accuracy', color='green')\n",
    "plt.xlabel('Epoch')\n",
    "plt.ylabel('Accuracy')\n",
    "plt.title('Test Accuracy')\n",
    "plt.legend()\n",
    "\n",
    "plt.tight_layout()\n",
    "plt.savefig('training_results_Variant3.jpg')\n",
    "plt.show()"
   ]
  },
  {
   "cell_type": "code",
   "execution_count": 28,
   "id": "1ecdc494",
   "metadata": {
    "execution": {
     "iopub.execute_input": "2025-03-12T13:39:33.625287Z",
     "iopub.status.busy": "2025-03-12T13:39:33.624887Z",
     "iopub.status.idle": "2025-03-12T13:39:34.707776Z",
     "shell.execute_reply": "2025-03-12T13:39:34.707010Z"
    },
    "papermill": {
     "duration": 1.106877,
     "end_time": "2025-03-12T13:39:34.709281",
     "exception": false,
     "start_time": "2025-03-12T13:39:33.602404",
     "status": "completed"
    },
    "tags": []
   },
   "outputs": [],
   "source": [
    "# save model\n",
    "torch.save(net.state_dict(), 'Variant3.pth')\n",
    "# save model info\n",
    "model_info = {\n",
    "    \"Optimizer\": type(optimizer).__name__,\n",
    "    \"Learning Rate\": optimizer.param_groups[0]['lr'],\n",
    "    \"Weight Decay\": optimizer.param_groups[0]['weight_decay'],\n",
    "    \"Network Architecture\": str(net)\n",
    "}\n",
    "\n",
    "model_info_df = pd.DataFrame([model_info])\n",
    "model_info_df.to_excel('model_info_variant3.xlsx', index=False)"
   ]
  },
  {
   "cell_type": "code",
   "execution_count": 29,
   "id": "4cd99bbe",
   "metadata": {
    "collapsed": false,
    "execution": {
     "iopub.execute_input": "2025-03-12T13:39:34.755637Z",
     "iopub.status.busy": "2025-03-12T13:39:34.755407Z",
     "iopub.status.idle": "2025-03-12T13:39:55.717648Z",
     "shell.execute_reply": "2025-03-12T13:39:55.716312Z"
    },
    "jupyter": {
     "outputs_hidden": false
    },
    "papermill": {
     "duration": 20.986442,
     "end_time": "2025-03-12T13:39:55.719027",
     "exception": false,
     "start_time": "2025-03-12T13:39:34.732585",
     "status": "completed"
    },
    "tags": []
   },
   "outputs": [
    {
     "name": "stdout",
     "output_type": "stream",
     "text": [
      "Accuracy of the network on the 10000 test images: 92.04%\n"
     ]
    }
   ],
   "source": [
    "net.eval()\n",
    "correct, total = 0, 0\n",
    "with torch.no_grad():\n",
    "    for img, target in loader[\"test\"]:\n",
    "        img, target = img.to(device), target.to(device)\n",
    "        \n",
    "        # make prediction\n",
    "        pred = net(img)\n",
    "        \n",
    "        # accumulate\n",
    "        total += len(target)\n",
    "        correct += (torch.argmax(pred, dim=1) == target).sum().item()\n",
    "\n",
    "print(f\"Accuracy of the network on the {total} test images: {100 * correct / total:.2f}%\")"
   ]
  },
  {
   "cell_type": "markdown",
   "id": "31677e2e",
   "metadata": {
    "papermill": {
     "duration": 0.023351,
     "end_time": "2025-03-12T13:39:55.766574",
     "exception": false,
     "start_time": "2025-03-12T13:39:55.743223",
     "status": "completed"
    },
    "tags": []
   },
   "source": [
    "## 5. Variant 4\n",
    "Changing the optimizer and learning rate scheduler."
   ]
  },
  {
   "cell_type": "code",
   "execution_count": 30,
   "id": "eec86c14",
   "metadata": {
    "execution": {
     "iopub.execute_input": "2025-03-12T13:39:55.813345Z",
     "iopub.status.busy": "2025-03-12T13:39:55.813012Z",
     "iopub.status.idle": "2025-03-12T13:39:55.816863Z",
     "shell.execute_reply": "2025-03-12T13:39:55.815977Z"
    },
    "papermill": {
     "duration": 0.028324,
     "end_time": "2025-03-12T13:39:55.818032",
     "exception": false,
     "start_time": "2025-03-12T13:39:55.789708",
     "status": "completed"
    },
    "tags": []
   },
   "outputs": [],
   "source": [
    "# # prepare datasets\n",
    "# # preprocessing pipeline for input images\n",
    "# transformation = dict()\n",
    "# for data_type in (\"train\", \"test\"):\n",
    "#     is_train = data_type==\"train\"\n",
    "#     transformation[data_type] = tv_transforms.Compose(([\n",
    "#         tv_transforms.RandomRotation(degrees=15),\n",
    "#         tv_transforms.RandomHorizontalFlip(),\n",
    "#         tv_transforms.RandomAffine(degrees=0, translate=(0.1, 0.1)),\n",
    "#     ] if is_train else []) + \n",
    "#     [\n",
    "#         tv_transforms.ToTensor(),\n",
    "#         tv_transforms.Normalize(mean=[0.5, 0.5, 0.5], std=[0.5, 0.5, 0.5]),\n",
    "#     ])\n",
    "    \n",
    "# num_workers = 2\n",
    "# batch_size = 64\n",
    "# dataset, loader = {}, {}\n",
    "# for data_type in (\"train\", \"test\"):\n",
    "#     is_train = data_type==\"train\"\n",
    "#     dataset[data_type] = tv_datasets.CIFAR10(\n",
    "#         root=\"./data\", train=is_train, download=True, transform=transformation[data_type],\n",
    "#     )\n",
    "#     loader[data_type] = torch.utils.data.DataLoader(\n",
    "#         dataset[data_type], batch_size=batch_size, shuffle=is_train, num_workers=num_workers,\n",
    "#     )\n"
   ]
  },
  {
   "cell_type": "code",
   "execution_count": 31,
   "id": "ec8e8312",
   "metadata": {
    "execution": {
     "iopub.execute_input": "2025-03-12T13:39:55.864181Z",
     "iopub.status.busy": "2025-03-12T13:39:55.863942Z",
     "iopub.status.idle": "2025-03-12T13:39:55.866990Z",
     "shell.execute_reply": "2025-03-12T13:39:55.866290Z"
    },
    "papermill": {
     "duration": 0.027893,
     "end_time": "2025-03-12T13:39:55.868556",
     "exception": false,
     "start_time": "2025-03-12T13:39:55.840663",
     "status": "completed"
    },
    "tags": []
   },
   "outputs": [],
   "source": [
    "# # some experimental setup\n",
    "# from torch.optim import lr_scheduler\n",
    "\n",
    "# device = torch.device(\"cuda:0\" if torch.cuda.is_available() else \"cpu\")\n",
    "\n",
    "# num_epochs = 128\n",
    "# print_every = 200\n",
    "\n",
    "# lr = 3e-4\n",
    "# optim_name = \"AdamW\"\n",
    "# optim_kwargs = dict(\n",
    "#     lr=lr,\n",
    "#     weight_decay=0.01, # 1e-6 试试0.1/0.01\n",
    "# )"
   ]
  },
  {
   "cell_type": "markdown",
   "id": "a8c25ed8",
   "metadata": {
    "papermill": {
     "duration": 0.023861,
     "end_time": "2025-03-12T13:39:55.915209",
     "exception": false,
     "start_time": "2025-03-12T13:39:55.891348",
     "status": "completed"
    },
    "tags": []
   },
   "source": [
    "### Results\n",
    "AdamW lr=3e-4,weight_decay=0.01 scheduler = lr_scheduler.StepLR(optimizer, step_size=15,gamma=0.1) last_loss = 0.464 acc = 83.82%\n",
    "\n",
    "AdamW lr=3e-4,weight_decay=0.01\n",
    "constant + cooldown last_loss = 1.015 acc = 68.65%\n"
   ]
  },
  {
   "cell_type": "code",
   "execution_count": 32,
   "id": "c1541085",
   "metadata": {
    "collapsed": false,
    "execution": {
     "iopub.execute_input": "2025-03-12T13:39:55.962503Z",
     "iopub.status.busy": "2025-03-12T13:39:55.962273Z",
     "iopub.status.idle": "2025-03-12T13:39:55.965106Z",
     "shell.execute_reply": "2025-03-12T13:39:55.964516Z"
    },
    "jupyter": {
     "outputs_hidden": false
    },
    "papermill": {
     "duration": 0.028131,
     "end_time": "2025-03-12T13:39:55.966429",
     "exception": false,
     "start_time": "2025-03-12T13:39:55.938298",
     "status": "completed"
    },
    "tags": []
   },
   "outputs": [],
   "source": [
    "# # our network architecture\n",
    "# net = nn.Sequential(\n",
    "#     nn.Conv2d(3, 128, 3, padding=1), nn.ReLU(inplace=True), nn.MaxPool2d(2), nn.Dropout(0.3),\n",
    "#     nn.Conv2d(128, 256, 3, padding=1), nn.ReLU(inplace=True), nn.MaxPool2d(2), nn.Dropout(0.3),\n",
    "#     nn.Conv2d(256, 512, 3, padding=1), nn.ReLU(inplace=True),\n",
    "#     nn.Conv2d(512, 512, 3, padding=1), nn.ReLU(inplace=True),\n",
    "#     nn.Conv2d(512, 256, 3, padding=1), nn.ReLU(inplace=True), nn.MaxPool2d(2), nn.Dropout(0.3),\n",
    "#     nn.Flatten(),\n",
    "#     nn.Linear(256 * 4 * 4, 512), nn.ReLU(inplace=True), nn.Dropout(0.5),\n",
    "#     nn.Linear(512, 256), nn.ReLU(inplace=True), nn.Dropout(0.5),\n",
    "#     nn.Linear(256, 128), nn.ReLU(inplace=True), nn.Dropout(0.5),\n",
    "#     nn.Linear(128, 10),\n",
    "# )\n",
    "\n",
    "# # move to device\n",
    "# net.to(device)\n",
    "\n",
    "# # print the number of parameters\n",
    "# print(f\"number of parameters: {sum(p.numel() for p in net.parameters() if p.requires_grad) / 1_000_000:.2f}M\")"
   ]
  },
  {
   "cell_type": "code",
   "execution_count": 33,
   "id": "049d269f",
   "metadata": {
    "execution": {
     "iopub.execute_input": "2025-03-12T13:39:56.012764Z",
     "iopub.status.busy": "2025-03-12T13:39:56.012561Z",
     "iopub.status.idle": "2025-03-12T13:39:56.015332Z",
     "shell.execute_reply": "2025-03-12T13:39:56.014682Z"
    },
    "papermill": {
     "duration": 0.026925,
     "end_time": "2025-03-12T13:39:56.016638",
     "exception": false,
     "start_time": "2025-03-12T13:39:55.989713",
     "status": "completed"
    },
    "tags": []
   },
   "outputs": [],
   "source": [
    "# # the network optimizer\n",
    "# optimizer = getattr(optim, optim_name)(net.parameters(), **optim_kwargs)\n",
    "\n",
    "# # loss function\n",
    "# criterion = nn.CrossEntropyLoss()\n",
    "\n",
    "# # the network lr_scheduler\n",
    "# # scheduler = lr_scheduler.StepLR(optimizer, step_size=15,gamma=0.1)\n",
    "# # scheduler = torch.optim.lr_scheduler.CosineAnnealingLR(optimizer,T_max=num_epochs) #或者20？\n",
    "# # constant + cooldown\n",
    "# def update_learn_rate(optimizer, alpha):\n",
    "#     for param_group in optimizer.param_groups:\n",
    "#         param_group['lr'] = alpha"
   ]
  },
  {
   "cell_type": "code",
   "execution_count": 34,
   "id": "6b701d62",
   "metadata": {
    "collapsed": true,
    "execution": {
     "iopub.execute_input": "2025-03-12T13:39:56.064421Z",
     "iopub.status.busy": "2025-03-12T13:39:56.064179Z",
     "iopub.status.idle": "2025-03-12T13:39:56.067494Z",
     "shell.execute_reply": "2025-03-12T13:39:56.066690Z"
    },
    "jupyter": {
     "outputs_hidden": true
    },
    "papermill": {
     "duration": 0.029111,
     "end_time": "2025-03-12T13:39:56.068863",
     "exception": false,
     "start_time": "2025-03-12T13:39:56.039752",
     "status": "completed"
    },
    "tags": []
   },
   "outputs": [],
   "source": [
    "# # training loop\n",
    "# net.train()\n",
    "# for epoch in range(num_epochs):\n",
    "    \n",
    "#     running_loss = 0.0\n",
    "#     alpha = lr\n",
    "#     for i, (img, target) in enumerate(loader[\"train\"]):\n",
    "#         img, target = img.to(device), target.to(device)\n",
    "#         # 调整学习率\n",
    "#         if epoch <= 30 and (epoch + 1) % 5 == 0:\n",
    "#             alpha *= 0.98\n",
    "#             update_learn_rate(optimizer, alpha)  # 更新学习率\n",
    "#         elif epoch > 30 and epoch <= 70 and (epoch + 1) % 5 == 0:\n",
    "#             alpha *= 0.95\n",
    "#             update_learn_rate(optimizer, alpha)\n",
    "#         elif epoch > 70 and epoch <= 100 and (epoch + 1) % 5 == 0:\n",
    "#             alpha *= 0.925\n",
    "#             update_learn_rate(optimizer, alpha)\n",
    "#         elif epoch > 100 and (epoch + 1) % 5 == 0:\n",
    "#             alpha *= 0.5\n",
    "#             update_learn_rate(optimizer, alpha)\n",
    "\n",
    "#         pred = net(img)\n",
    "#         loss = criterion(pred, target)\n",
    "\n",
    "#         optimizer.zero_grad()\n",
    "#         loss.backward()\n",
    "#         optimizer.step()\n",
    "\n",
    "#         # print statistics\n",
    "#         running_loss += loss.item()\n",
    "#         if i % print_every == print_every - 1:\n",
    "#             print(f\"[epoch={epoch + 1:3d}, iter={i + 1:5d}] loss: {running_loss / print_every:.3f}\")\n",
    "#             running_loss = 0.0\n",
    "#     scheduler.step()\n",
    "# print(\"Finished Training\")"
   ]
  },
  {
   "cell_type": "code",
   "execution_count": 35,
   "id": "5deafe6b",
   "metadata": {
    "collapsed": false,
    "execution": {
     "iopub.execute_input": "2025-03-12T13:39:56.116455Z",
     "iopub.status.busy": "2025-03-12T13:39:56.116231Z",
     "iopub.status.idle": "2025-03-12T13:39:56.119170Z",
     "shell.execute_reply": "2025-03-12T13:39:56.118533Z"
    },
    "jupyter": {
     "outputs_hidden": false
    },
    "papermill": {
     "duration": 0.028384,
     "end_time": "2025-03-12T13:39:56.120481",
     "exception": false,
     "start_time": "2025-03-12T13:39:56.092097",
     "status": "completed"
    },
    "tags": []
   },
   "outputs": [],
   "source": [
    "# net.eval()\n",
    "# correct, total = 0, 0\n",
    "# with torch.no_grad():\n",
    "#     for img, target in loader[\"test\"]:\n",
    "#         img, target = img.to(device), target.to(device)\n",
    "        \n",
    "#         # make prediction\n",
    "#         pred = net(img)\n",
    "        \n",
    "#         # accumulate\n",
    "#         total += len(target)\n",
    "#         correct += (torch.argmax(pred, dim=1) == target).sum().item()\n",
    "\n",
    "# print(f\"Accuracy of the network on the {total} test images: {100 * correct / total:.2f}%\")"
   ]
  },
  {
   "cell_type": "markdown",
   "id": "64dfb058",
   "metadata": {
    "papermill": {
     "duration": 0.022546,
     "end_time": "2025-03-12T13:39:56.166773",
     "exception": false,
     "start_time": "2025-03-12T13:39:56.144227",
     "status": "completed"
    },
    "tags": []
   },
   "source": [
    "## 6. Variant 5\n",
    "Changing the data augementation.  \n",
    "Ref: https://zhuanlan.zhihu.com/p/49180361"
   ]
  },
  {
   "cell_type": "code",
   "execution_count": 36,
   "id": "b88392ad",
   "metadata": {
    "execution": {
     "iopub.execute_input": "2025-03-12T13:39:56.214789Z",
     "iopub.status.busy": "2025-03-12T13:39:56.214586Z",
     "iopub.status.idle": "2025-03-12T13:39:56.217691Z",
     "shell.execute_reply": "2025-03-12T13:39:56.217044Z"
    },
    "papermill": {
     "duration": 0.029037,
     "end_time": "2025-03-12T13:39:56.218775",
     "exception": false,
     "start_time": "2025-03-12T13:39:56.189738",
     "status": "completed"
    },
    "tags": []
   },
   "outputs": [],
   "source": [
    "# # prepare datasets\n",
    "# # preprocessing pipeline for input images\n",
    "# transformation = dict()\n",
    "# for data_type in (\"train\", \"test\"):\n",
    "#     is_train = data_type==\"train\"\n",
    "#     transformation[data_type] = tv_transforms.Compose(([\n",
    "#         tv_transforms.RandomRotation(degrees=15),\n",
    "#         tv_transforms.RandomHorizontalFlip(),\n",
    "#         tv_transforms.RandomAffine(degrees=0, translate=(0.1, 0.1)),\n",
    "#     ] if is_train else []) + \n",
    "#     [\n",
    "#         tv_transforms.ToTensor(),\n",
    "#         tv_transforms.Normalize(mean=[0.5, 0.5, 0.5], std=[0.5, 0.5, 0.5]),\n",
    "#     ])\n",
    "    \n",
    "# num_workers = 2\n",
    "# batch_size = 64\n",
    "# dataset, loader = {}, {}\n",
    "# for data_type in (\"train\", \"test\"):\n",
    "#     is_train = data_type==\"train\"\n",
    "#     dataset[data_type] = tv_datasets.CIFAR10(\n",
    "#         root=\"./data\", train=is_train, download=True, transform=transformation[data_type],\n",
    "#     )\n",
    "#     loader[data_type] = torch.utils.data.DataLoader(\n",
    "#         dataset[data_type], batch_size=batch_size, shuffle=is_train, num_workers=num_workers,\n",
    "#     )\n"
   ]
  },
  {
   "cell_type": "code",
   "execution_count": 37,
   "id": "b52dcf71",
   "metadata": {
    "execution": {
     "iopub.execute_input": "2025-03-12T13:39:56.264401Z",
     "iopub.status.busy": "2025-03-12T13:39:56.264199Z",
     "iopub.status.idle": "2025-03-12T13:39:56.267023Z",
     "shell.execute_reply": "2025-03-12T13:39:56.266386Z"
    },
    "papermill": {
     "duration": 0.027323,
     "end_time": "2025-03-12T13:39:56.268575",
     "exception": false,
     "start_time": "2025-03-12T13:39:56.241252",
     "status": "completed"
    },
    "tags": []
   },
   "outputs": [],
   "source": [
    "# # some experimental setup\n",
    "# from torch.optim import lr_scheduler\n",
    "\n",
    "# device = torch.device(\"cuda:0\" if torch.cuda.is_available() else \"cpu\")\n",
    "\n",
    "# num_epochs = 128\n",
    "# print_every = 200\n",
    "\n",
    "# optim_name = \"AdamW\"\n",
    "# optim_kwargs = dict(\n",
    "#     lr=3e-4,\n",
    "#     weight_decay=1e-6,\n",
    "# )"
   ]
  },
  {
   "cell_type": "code",
   "execution_count": 38,
   "id": "76c28086",
   "metadata": {
    "collapsed": false,
    "execution": {
     "iopub.execute_input": "2025-03-12T13:39:56.314371Z",
     "iopub.status.busy": "2025-03-12T13:39:56.314101Z",
     "iopub.status.idle": "2025-03-12T13:39:56.317030Z",
     "shell.execute_reply": "2025-03-12T13:39:56.316395Z"
    },
    "jupyter": {
     "outputs_hidden": false
    },
    "papermill": {
     "duration": 0.027297,
     "end_time": "2025-03-12T13:39:56.318270",
     "exception": false,
     "start_time": "2025-03-12T13:39:56.290973",
     "status": "completed"
    },
    "tags": []
   },
   "outputs": [],
   "source": [
    "# # our network architecture\n",
    "# net = nn.Sequential(\n",
    "#     nn.Conv2d(3, 128, 3, padding=1), nn.ReLU(inplace=True), nn.MaxPool2d(2), nn.Dropout(0.3),\n",
    "#     nn.Conv2d(128, 256, 3, padding=1), nn.ReLU(inplace=True), nn.MaxPool2d(2), nn.Dropout(0.3),\n",
    "#     nn.Conv2d(256, 512, 3, padding=1), nn.ReLU(inplace=True),\n",
    "#     nn.Conv2d(512, 512, 3, padding=1), nn.ReLU(inplace=True),\n",
    "#     nn.Conv2d(512, 256, 3, padding=1), nn.ReLU(inplace=True), nn.MaxPool2d(2), nn.Dropout(0.3),\n",
    "#     nn.Flatten(),\n",
    "#     nn.Linear(256 * 4 * 4, 512), nn.ReLU(inplace=True), nn.Dropout(0.5),\n",
    "#     nn.Linear(512, 256), nn.ReLU(inplace=True), nn.Dropout(0.5),\n",
    "#     nn.Linear(256, 128), nn.ReLU(inplace=True), nn.Dropout(0.5),\n",
    "#     nn.Linear(128, 10),\n",
    "# )\n",
    "\n",
    "# # move to device\n",
    "# net.to(device)\n",
    "\n",
    "# # print the number of parameters\n",
    "# print(f\"number of parameters: {sum(p.numel() for p in net.parameters() if p.requires_grad) / 1_000_000:.2f}M\")"
   ]
  },
  {
   "cell_type": "code",
   "execution_count": 39,
   "id": "d7413eb7",
   "metadata": {
    "execution": {
     "iopub.execute_input": "2025-03-12T13:39:56.364381Z",
     "iopub.status.busy": "2025-03-12T13:39:56.364174Z",
     "iopub.status.idle": "2025-03-12T13:39:56.366795Z",
     "shell.execute_reply": "2025-03-12T13:39:56.366178Z"
    },
    "papermill": {
     "duration": 0.027616,
     "end_time": "2025-03-12T13:39:56.368171",
     "exception": false,
     "start_time": "2025-03-12T13:39:56.340555",
     "status": "completed"
    },
    "tags": []
   },
   "outputs": [],
   "source": [
    "# # the network optimizer\n",
    "# optimizer = getattr(optim, optim_name)(net.parameters(), **optim_kwargs)\n",
    "\n",
    "# # loss function\n",
    "# criterion = nn.CrossEntropyLoss()\n",
    "\n",
    "# # the network lr_scheduler\n",
    "# scheduler = lr_scheduler.StepLR(optimizer, step_size=15,gamma=0.1)"
   ]
  },
  {
   "cell_type": "code",
   "execution_count": 40,
   "id": "8c67db4a",
   "metadata": {
    "execution": {
     "iopub.execute_input": "2025-03-12T13:39:56.415606Z",
     "iopub.status.busy": "2025-03-12T13:39:56.415404Z",
     "iopub.status.idle": "2025-03-12T13:39:56.418474Z",
     "shell.execute_reply": "2025-03-12T13:39:56.417702Z"
    },
    "papermill": {
     "duration": 0.027891,
     "end_time": "2025-03-12T13:39:56.419681",
     "exception": false,
     "start_time": "2025-03-12T13:39:56.391790",
     "status": "completed"
    },
    "tags": []
   },
   "outputs": [],
   "source": [
    "# # training loop\n",
    "# net.train()\n",
    "# for epoch in range(num_epochs):\n",
    "#     scheduler.step()\n",
    "#     running_loss = 0.0\n",
    "#     for i, (img, target) in enumerate(loader[\"train\"]):\n",
    "#         img, target = img.to(device), target.to(device)\n",
    "\n",
    "#         pred = net(img)\n",
    "#         loss = criterion(pred, target)\n",
    "\n",
    "#         optimizer.zero_grad()\n",
    "#         loss.backward()\n",
    "#         optimizer.step()\n",
    "\n",
    "#         # print statistics\n",
    "#         running_loss += loss.item()\n",
    "#         if i % print_every == print_every - 1:\n",
    "#             print(f\"[epoch={epoch + 1:3d}, iter={i + 1:5d}] loss: {running_loss / print_every:.3f}\")\n",
    "#             running_loss = 0.0\n",
    "    \n",
    "# print(\"Finished Training\")"
   ]
  },
  {
   "cell_type": "code",
   "execution_count": 41,
   "id": "f05a96d5",
   "metadata": {
    "collapsed": false,
    "execution": {
     "iopub.execute_input": "2025-03-12T13:39:56.468106Z",
     "iopub.status.busy": "2025-03-12T13:39:56.467882Z",
     "iopub.status.idle": "2025-03-12T13:39:56.470925Z",
     "shell.execute_reply": "2025-03-12T13:39:56.470254Z"
    },
    "jupyter": {
     "outputs_hidden": false
    },
    "papermill": {
     "duration": 0.028676,
     "end_time": "2025-03-12T13:39:56.472318",
     "exception": false,
     "start_time": "2025-03-12T13:39:56.443642",
     "status": "completed"
    },
    "tags": []
   },
   "outputs": [],
   "source": [
    "# net.eval()\n",
    "# correct, total = 0, 0\n",
    "# with torch.no_grad():\n",
    "#     for img, target in loader[\"test\"]:\n",
    "#         img, target = img.to(device), target.to(device)\n",
    "        \n",
    "#         # make prediction\n",
    "#         pred = net(img)\n",
    "        \n",
    "#         # accumulate\n",
    "#         total += len(target)\n",
    "#         correct += (torch.argmax(pred, dim=1) == target).sum().item()\n",
    "\n",
    "# print(f\"Accuracy of the network on the {total} test images: {100 * correct / total:.2f}%\")"
   ]
  }
 ],
 "metadata": {
  "kaggle": {
   "accelerator": "nvidiaTeslaT4",
   "dataSources": [],
   "dockerImageVersionId": 30918,
   "isGpuEnabled": true,
   "isInternetEnabled": true,
   "language": "python",
   "sourceType": "notebook"
  },
  "kernelspec": {
   "display_name": "Python 3",
   "language": "python",
   "name": "python3"
  },
  "language_info": {
   "codemirror_mode": {
    "name": "ipython",
    "version": 3
   },
   "file_extension": ".py",
   "mimetype": "text/x-python",
   "name": "python",
   "nbconvert_exporter": "python",
   "pygments_lexer": "ipython3",
   "version": "3.10.12"
  },
  "papermill": {
   "default_parameters": {},
   "duration": 23231.99176,
   "end_time": "2025-03-12T13:39:58.916535",
   "environment_variables": {},
   "exception": null,
   "input_path": "__notebook__.ipynb",
   "output_path": "__notebook__.ipynb",
   "parameters": {},
   "start_time": "2025-03-12T07:12:46.924775",
   "version": "2.6.0"
  }
 },
 "nbformat": 4,
 "nbformat_minor": 5
}
